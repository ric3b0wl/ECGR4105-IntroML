{
 "cells": [
  {
   "cell_type": "markdown",
   "id": "a61d320f-9c29-4a53-9a49-525cdb4772d3",
   "metadata": {},
   "source": [
    "In this homework, we will use the cancer dataset. (Note: You can use the built-in function from ML libraries for gradient descent, training, and validation.) Also, sample code for accessing and cleaning up the dataset provided in Canvas. For the evaluation of this homework across all problems, use 80%, 20% split."
   ]
  },
  {
   "cell_type": "code",
   "execution_count": null,
   "id": "1c487290-3550-4471-a093-18d139917092",
   "metadata": {},
   "outputs": [],
   "source": []
  },
  {
   "cell_type": "code",
   "execution_count": null,
   "id": "3c5fe22b-8c05-4722-a3c8-618d3557ee67",
   "metadata": {},
   "outputs": [],
   "source": []
  },
  {
   "cell_type": "markdown",
   "id": "3368ffee-2da8-40cd-a62f-72127a1413fc",
   "metadata": {},
   "source": [
    "## Problem 1 (20pts):\n",
    "Use the cancer dataset to build a logistic regression model to classify the type of cancer (Malignant vs. benign). First, create a logistic regression that takes all 30 input features for classification. Can you train a logistic regression over these number of features maps? Draw your training results, including loss and classification accuracy over iterations."
   ]
  },
  {
   "cell_type": "code",
   "execution_count": null,
   "id": "68eb72f6-174c-422f-8f2d-856ee91b86fc",
   "metadata": {},
   "outputs": [],
   "source": []
  },
  {
   "cell_type": "code",
   "execution_count": null,
   "id": "f9906b35-6377-4317-8532-5f953fffe009",
   "metadata": {},
   "outputs": [],
   "source": []
  },
  {
   "cell_type": "markdown",
   "id": "33d96aef-9578-485a-88c7-b7bf7621e5e5",
   "metadata": {},
   "source": [
    "## Problem 2 (50pts):\n",
    "Repeat problem 1, but this time use the PCA feature extraction for your training. Perform N number of independent training (N=1, …, K). Identify the optimum number of K, principle components that achieve the highest classification accuracy. Plot your classification accuracy, precision, and recall over a different number of Ks. Explain and elaborate on your results."
   ]
  },
  {
   "cell_type": "code",
   "execution_count": null,
   "id": "c1490f36-79c3-4779-8c77-06f8d3bcefa5",
   "metadata": {},
   "outputs": [],
   "source": []
  },
  {
   "cell_type": "code",
   "execution_count": null,
   "id": "0e0bd256-66d0-48f3-b738-1d3ebc022ebc",
   "metadata": {},
   "outputs": [],
   "source": []
  },
  {
   "cell_type": "markdown",
   "id": "cd63fe04-28f5-4773-9bfa-d496fa800ecc",
   "metadata": {},
   "source": [
    "## Problem 3 (30pts):\n",
    "Repeat problem 2, but this time use the LDA feature extraction for your training. For the classification, use the built-in Bays classifier for the classification. Report your classification accuracy, precision, and recall. Explain and elaborate on your results."
   ]
  },
  {
   "cell_type": "code",
   "execution_count": null,
   "id": "9be1e43a-6564-4171-841b-2979c11efb9b",
   "metadata": {},
   "outputs": [],
   "source": []
  },
  {
   "cell_type": "code",
   "execution_count": null,
   "id": "2ea5207e-fabb-4e08-bee4-53d4eee180a1",
   "metadata": {},
   "outputs": [],
   "source": []
  },
  {
   "cell_type": "markdown",
   "id": "e0052a4f-93b5-41b5-a45e-1736991ac52b",
   "metadata": {},
   "source": [
    "## Problem 4 (20pts Bonus):\n",
    "Can you repeat problem 3? This time, replace the Bayes classifier with logistic regression. Report your results (classification accuracy, precision, and recall). Compare your results against problem 2 and 3."
   ]
  },
  {
   "cell_type": "code",
   "execution_count": null,
   "id": "c129b27c-1119-49a8-8d90-f5503c1c82b0",
   "metadata": {},
   "outputs": [],
   "source": []
  },
  {
   "cell_type": "code",
   "execution_count": null,
   "id": "7b78a710-d3d3-4f84-9917-05e8fc5c75a6",
   "metadata": {},
   "outputs": [],
   "source": []
  }
 ],
 "metadata": {
  "kernelspec": {
   "display_name": "Python 3 (ipykernel)",
   "language": "python",
   "name": "python3"
  },
  "language_info": {
   "codemirror_mode": {
    "name": "ipython",
    "version": 3
   },
   "file_extension": ".py",
   "mimetype": "text/x-python",
   "name": "python",
   "nbconvert_exporter": "python",
   "pygments_lexer": "ipython3",
   "version": "3.8.8"
  }
 },
 "nbformat": 4,
 "nbformat_minor": 5
}
