{
 "cells": [
  {
   "cell_type": "markdown",
   "id": "a61d320f-9c29-4a53-9a49-525cdb4772d3",
   "metadata": {},
   "source": [
    "In this homework, we will use the cancer dataset. (Note: You can use the built-in function from ML libraries for gradient descent, training, and validation.) Also, sample code for accessing and cleaning up the dataset provided in Canvas. For the evaluation of this homework across all problems, use 80%, 20% split."
   ]
  },
  {
   "cell_type": "code",
   "execution_count": 1,
   "id": "1c487290-3550-4471-a093-18d139917092",
   "metadata": {},
   "outputs": [],
   "source": [
    "import numpy as np \n",
    "import matplotlib.pyplot as plt \n",
    "import pandas as pd \n",
    "from sklearn.discriminant_analysis import LinearDiscriminantAnalysis \n",
    "from sklearn.metrics import accuracy_score \n",
    "from sklearn.metrics import confusion_matrix \n",
    "from sklearn.datasets import load_breast_cancer "
   ]
  },
  {
   "cell_type": "code",
   "execution_count": 2,
   "id": "3b62f106-e675-4e36-9e5d-1ed140238fad",
   "metadata": {},
   "outputs": [
    {
     "data": {
      "text/plain": [
       "(569, 30)"
      ]
     },
     "execution_count": 2,
     "metadata": {},
     "output_type": "execute_result"
    }
   ],
   "source": [
    "cancer = load_breast_cancer()\n",
    "cancer_data = cancer.data\n",
    "cancer_data.shape"
   ]
  },
  {
   "cell_type": "code",
   "execution_count": 3,
   "id": "2f9ef6f9-d785-4d0d-adca-3c18f29c5aa8",
   "metadata": {},
   "outputs": [
    {
     "data": {
      "text/html": [
       "<div>\n",
       "<style scoped>\n",
       "    .dataframe tbody tr th:only-of-type {\n",
       "        vertical-align: middle;\n",
       "    }\n",
       "\n",
       "    .dataframe tbody tr th {\n",
       "        vertical-align: top;\n",
       "    }\n",
       "\n",
       "    .dataframe thead th {\n",
       "        text-align: right;\n",
       "    }\n",
       "</style>\n",
       "<table border=\"1\" class=\"dataframe\">\n",
       "  <thead>\n",
       "    <tr style=\"text-align: right;\">\n",
       "      <th></th>\n",
       "      <th>0</th>\n",
       "      <th>1</th>\n",
       "      <th>2</th>\n",
       "      <th>3</th>\n",
       "      <th>4</th>\n",
       "      <th>5</th>\n",
       "      <th>6</th>\n",
       "      <th>7</th>\n",
       "      <th>8</th>\n",
       "      <th>9</th>\n",
       "      <th>...</th>\n",
       "      <th>20</th>\n",
       "      <th>21</th>\n",
       "      <th>22</th>\n",
       "      <th>23</th>\n",
       "      <th>24</th>\n",
       "      <th>25</th>\n",
       "      <th>26</th>\n",
       "      <th>27</th>\n",
       "      <th>28</th>\n",
       "      <th>29</th>\n",
       "    </tr>\n",
       "  </thead>\n",
       "  <tbody>\n",
       "    <tr>\n",
       "      <th>0</th>\n",
       "      <td>17.99</td>\n",
       "      <td>10.38</td>\n",
       "      <td>122.80</td>\n",
       "      <td>1001.0</td>\n",
       "      <td>0.11840</td>\n",
       "      <td>0.27760</td>\n",
       "      <td>0.3001</td>\n",
       "      <td>0.14710</td>\n",
       "      <td>0.2419</td>\n",
       "      <td>0.07871</td>\n",
       "      <td>...</td>\n",
       "      <td>25.38</td>\n",
       "      <td>17.33</td>\n",
       "      <td>184.60</td>\n",
       "      <td>2019.0</td>\n",
       "      <td>0.1622</td>\n",
       "      <td>0.6656</td>\n",
       "      <td>0.7119</td>\n",
       "      <td>0.2654</td>\n",
       "      <td>0.4601</td>\n",
       "      <td>0.11890</td>\n",
       "    </tr>\n",
       "    <tr>\n",
       "      <th>1</th>\n",
       "      <td>20.57</td>\n",
       "      <td>17.77</td>\n",
       "      <td>132.90</td>\n",
       "      <td>1326.0</td>\n",
       "      <td>0.08474</td>\n",
       "      <td>0.07864</td>\n",
       "      <td>0.0869</td>\n",
       "      <td>0.07017</td>\n",
       "      <td>0.1812</td>\n",
       "      <td>0.05667</td>\n",
       "      <td>...</td>\n",
       "      <td>24.99</td>\n",
       "      <td>23.41</td>\n",
       "      <td>158.80</td>\n",
       "      <td>1956.0</td>\n",
       "      <td>0.1238</td>\n",
       "      <td>0.1866</td>\n",
       "      <td>0.2416</td>\n",
       "      <td>0.1860</td>\n",
       "      <td>0.2750</td>\n",
       "      <td>0.08902</td>\n",
       "    </tr>\n",
       "    <tr>\n",
       "      <th>2</th>\n",
       "      <td>19.69</td>\n",
       "      <td>21.25</td>\n",
       "      <td>130.00</td>\n",
       "      <td>1203.0</td>\n",
       "      <td>0.10960</td>\n",
       "      <td>0.15990</td>\n",
       "      <td>0.1974</td>\n",
       "      <td>0.12790</td>\n",
       "      <td>0.2069</td>\n",
       "      <td>0.05999</td>\n",
       "      <td>...</td>\n",
       "      <td>23.57</td>\n",
       "      <td>25.53</td>\n",
       "      <td>152.50</td>\n",
       "      <td>1709.0</td>\n",
       "      <td>0.1444</td>\n",
       "      <td>0.4245</td>\n",
       "      <td>0.4504</td>\n",
       "      <td>0.2430</td>\n",
       "      <td>0.3613</td>\n",
       "      <td>0.08758</td>\n",
       "    </tr>\n",
       "    <tr>\n",
       "      <th>3</th>\n",
       "      <td>11.42</td>\n",
       "      <td>20.38</td>\n",
       "      <td>77.58</td>\n",
       "      <td>386.1</td>\n",
       "      <td>0.14250</td>\n",
       "      <td>0.28390</td>\n",
       "      <td>0.2414</td>\n",
       "      <td>0.10520</td>\n",
       "      <td>0.2597</td>\n",
       "      <td>0.09744</td>\n",
       "      <td>...</td>\n",
       "      <td>14.91</td>\n",
       "      <td>26.50</td>\n",
       "      <td>98.87</td>\n",
       "      <td>567.7</td>\n",
       "      <td>0.2098</td>\n",
       "      <td>0.8663</td>\n",
       "      <td>0.6869</td>\n",
       "      <td>0.2575</td>\n",
       "      <td>0.6638</td>\n",
       "      <td>0.17300</td>\n",
       "    </tr>\n",
       "    <tr>\n",
       "      <th>4</th>\n",
       "      <td>20.29</td>\n",
       "      <td>14.34</td>\n",
       "      <td>135.10</td>\n",
       "      <td>1297.0</td>\n",
       "      <td>0.10030</td>\n",
       "      <td>0.13280</td>\n",
       "      <td>0.1980</td>\n",
       "      <td>0.10430</td>\n",
       "      <td>0.1809</td>\n",
       "      <td>0.05883</td>\n",
       "      <td>...</td>\n",
       "      <td>22.54</td>\n",
       "      <td>16.67</td>\n",
       "      <td>152.20</td>\n",
       "      <td>1575.0</td>\n",
       "      <td>0.1374</td>\n",
       "      <td>0.2050</td>\n",
       "      <td>0.4000</td>\n",
       "      <td>0.1625</td>\n",
       "      <td>0.2364</td>\n",
       "      <td>0.07678</td>\n",
       "    </tr>\n",
       "  </tbody>\n",
       "</table>\n",
       "<p>5 rows × 30 columns</p>\n",
       "</div>"
      ],
      "text/plain": [
       "      0      1       2       3        4        5       6        7       8   \\\n",
       "0  17.99  10.38  122.80  1001.0  0.11840  0.27760  0.3001  0.14710  0.2419   \n",
       "1  20.57  17.77  132.90  1326.0  0.08474  0.07864  0.0869  0.07017  0.1812   \n",
       "2  19.69  21.25  130.00  1203.0  0.10960  0.15990  0.1974  0.12790  0.2069   \n",
       "3  11.42  20.38   77.58   386.1  0.14250  0.28390  0.2414  0.10520  0.2597   \n",
       "4  20.29  14.34  135.10  1297.0  0.10030  0.13280  0.1980  0.10430  0.1809   \n",
       "\n",
       "        9   ...     20     21      22      23      24      25      26      27  \\\n",
       "0  0.07871  ...  25.38  17.33  184.60  2019.0  0.1622  0.6656  0.7119  0.2654   \n",
       "1  0.05667  ...  24.99  23.41  158.80  1956.0  0.1238  0.1866  0.2416  0.1860   \n",
       "2  0.05999  ...  23.57  25.53  152.50  1709.0  0.1444  0.4245  0.4504  0.2430   \n",
       "3  0.09744  ...  14.91  26.50   98.87   567.7  0.2098  0.8663  0.6869  0.2575   \n",
       "4  0.05883  ...  22.54  16.67  152.20  1575.0  0.1374  0.2050  0.4000  0.1625   \n",
       "\n",
       "       28       29  \n",
       "0  0.4601  0.11890  \n",
       "1  0.2750  0.08902  \n",
       "2  0.3613  0.08758  \n",
       "3  0.6638  0.17300  \n",
       "4  0.2364  0.07678  \n",
       "\n",
       "[5 rows x 30 columns]"
      ]
     },
     "execution_count": 3,
     "metadata": {},
     "output_type": "execute_result"
    }
   ],
   "source": [
    "cancer_input = pd.DataFrame(cancer_data)\n",
    "cancer_input.head()"
   ]
  },
  {
   "cell_type": "code",
   "execution_count": 4,
   "id": "68eb72f6-174c-422f-8f2d-856ee91b86fc",
   "metadata": {},
   "outputs": [
    {
     "data": {
      "text/plain": [
       "(569,)"
      ]
     },
     "execution_count": 4,
     "metadata": {},
     "output_type": "execute_result"
    }
   ],
   "source": [
    "cancer_labels = cancer.target\n",
    "cancer_labels.shape"
   ]
  },
  {
   "cell_type": "code",
   "execution_count": 5,
   "id": "e65fe970-f494-4359-a7f4-83e514b302c3",
   "metadata": {},
   "outputs": [
    {
     "data": {
      "text/plain": [
       "(569, 31)"
      ]
     },
     "execution_count": 5,
     "metadata": {},
     "output_type": "execute_result"
    }
   ],
   "source": [
    "labels = np.reshape(cancer_labels,(569,1))\n",
    "final_cancer_data = np.concatenate([cancer_data,labels],axis=1)\n",
    "final_cancer_data.shape"
   ]
  },
  {
   "cell_type": "code",
   "execution_count": 6,
   "id": "86f6a7d4-af73-46e2-85c1-76bb1d86f3c8",
   "metadata": {},
   "outputs": [
    {
     "data": {
      "text/plain": [
       "array(['mean radius', 'mean texture', 'mean perimeter', 'mean area',\n",
       "       'mean smoothness', 'mean compactness', 'mean concavity',\n",
       "       'mean concave points', 'mean symmetry', 'mean fractal dimension',\n",
       "       'radius error', 'texture error', 'perimeter error', 'area error',\n",
       "       'smoothness error', 'compactness error', 'concavity error',\n",
       "       'concave points error', 'symmetry error',\n",
       "       'fractal dimension error', 'worst radius', 'worst texture',\n",
       "       'worst perimeter', 'worst area', 'worst smoothness',\n",
       "       'worst compactness', 'worst concavity', 'worst concave points',\n",
       "       'worst symmetry', 'worst fractal dimension'], dtype='<U23')"
      ]
     },
     "execution_count": 6,
     "metadata": {},
     "output_type": "execute_result"
    }
   ],
   "source": [
    "cancer_dataset = pd.DataFrame(final_cancer_data)\n",
    "features = cancer.feature_names\n",
    "features"
   ]
  },
  {
   "cell_type": "markdown",
   "id": "24c2a2c1-b78e-4e2b-8c7d-ef5d25b0d76b",
   "metadata": {},
   "source": [
    "- When the label benign and malignant is impletated, cannot get precision and recall"
   ]
  },
  {
   "cell_type": "code",
   "execution_count": 7,
   "id": "943de97b-a408-47c5-b8e0-2c4e8681d814",
   "metadata": {},
   "outputs": [
    {
     "data": {
      "text/html": [
       "<div>\n",
       "<style scoped>\n",
       "    .dataframe tbody tr th:only-of-type {\n",
       "        vertical-align: middle;\n",
       "    }\n",
       "\n",
       "    .dataframe tbody tr th {\n",
       "        vertical-align: top;\n",
       "    }\n",
       "\n",
       "    .dataframe thead th {\n",
       "        text-align: right;\n",
       "    }\n",
       "</style>\n",
       "<table border=\"1\" class=\"dataframe\">\n",
       "  <thead>\n",
       "    <tr style=\"text-align: right;\">\n",
       "      <th></th>\n",
       "      <th>mean radius</th>\n",
       "      <th>mean texture</th>\n",
       "      <th>mean perimeter</th>\n",
       "      <th>mean area</th>\n",
       "      <th>mean smoothness</th>\n",
       "      <th>mean compactness</th>\n",
       "      <th>mean concavity</th>\n",
       "      <th>mean concave points</th>\n",
       "      <th>mean symmetry</th>\n",
       "      <th>mean fractal dimension</th>\n",
       "      <th>...</th>\n",
       "      <th>worst texture</th>\n",
       "      <th>worst perimeter</th>\n",
       "      <th>worst area</th>\n",
       "      <th>worst smoothness</th>\n",
       "      <th>worst compactness</th>\n",
       "      <th>worst concavity</th>\n",
       "      <th>worst concave points</th>\n",
       "      <th>worst symmetry</th>\n",
       "      <th>worst fractal dimension</th>\n",
       "      <th>label</th>\n",
       "    </tr>\n",
       "  </thead>\n",
       "  <tbody>\n",
       "    <tr>\n",
       "      <th>0</th>\n",
       "      <td>17.99</td>\n",
       "      <td>10.38</td>\n",
       "      <td>122.80</td>\n",
       "      <td>1001.0</td>\n",
       "      <td>0.11840</td>\n",
       "      <td>0.27760</td>\n",
       "      <td>0.3001</td>\n",
       "      <td>0.14710</td>\n",
       "      <td>0.2419</td>\n",
       "      <td>0.07871</td>\n",
       "      <td>...</td>\n",
       "      <td>17.33</td>\n",
       "      <td>184.60</td>\n",
       "      <td>2019.0</td>\n",
       "      <td>0.1622</td>\n",
       "      <td>0.6656</td>\n",
       "      <td>0.7119</td>\n",
       "      <td>0.2654</td>\n",
       "      <td>0.4601</td>\n",
       "      <td>0.11890</td>\n",
       "      <td>0.0</td>\n",
       "    </tr>\n",
       "    <tr>\n",
       "      <th>1</th>\n",
       "      <td>20.57</td>\n",
       "      <td>17.77</td>\n",
       "      <td>132.90</td>\n",
       "      <td>1326.0</td>\n",
       "      <td>0.08474</td>\n",
       "      <td>0.07864</td>\n",
       "      <td>0.0869</td>\n",
       "      <td>0.07017</td>\n",
       "      <td>0.1812</td>\n",
       "      <td>0.05667</td>\n",
       "      <td>...</td>\n",
       "      <td>23.41</td>\n",
       "      <td>158.80</td>\n",
       "      <td>1956.0</td>\n",
       "      <td>0.1238</td>\n",
       "      <td>0.1866</td>\n",
       "      <td>0.2416</td>\n",
       "      <td>0.1860</td>\n",
       "      <td>0.2750</td>\n",
       "      <td>0.08902</td>\n",
       "      <td>0.0</td>\n",
       "    </tr>\n",
       "    <tr>\n",
       "      <th>2</th>\n",
       "      <td>19.69</td>\n",
       "      <td>21.25</td>\n",
       "      <td>130.00</td>\n",
       "      <td>1203.0</td>\n",
       "      <td>0.10960</td>\n",
       "      <td>0.15990</td>\n",
       "      <td>0.1974</td>\n",
       "      <td>0.12790</td>\n",
       "      <td>0.2069</td>\n",
       "      <td>0.05999</td>\n",
       "      <td>...</td>\n",
       "      <td>25.53</td>\n",
       "      <td>152.50</td>\n",
       "      <td>1709.0</td>\n",
       "      <td>0.1444</td>\n",
       "      <td>0.4245</td>\n",
       "      <td>0.4504</td>\n",
       "      <td>0.2430</td>\n",
       "      <td>0.3613</td>\n",
       "      <td>0.08758</td>\n",
       "      <td>0.0</td>\n",
       "    </tr>\n",
       "    <tr>\n",
       "      <th>3</th>\n",
       "      <td>11.42</td>\n",
       "      <td>20.38</td>\n",
       "      <td>77.58</td>\n",
       "      <td>386.1</td>\n",
       "      <td>0.14250</td>\n",
       "      <td>0.28390</td>\n",
       "      <td>0.2414</td>\n",
       "      <td>0.10520</td>\n",
       "      <td>0.2597</td>\n",
       "      <td>0.09744</td>\n",
       "      <td>...</td>\n",
       "      <td>26.50</td>\n",
       "      <td>98.87</td>\n",
       "      <td>567.7</td>\n",
       "      <td>0.2098</td>\n",
       "      <td>0.8663</td>\n",
       "      <td>0.6869</td>\n",
       "      <td>0.2575</td>\n",
       "      <td>0.6638</td>\n",
       "      <td>0.17300</td>\n",
       "      <td>0.0</td>\n",
       "    </tr>\n",
       "    <tr>\n",
       "      <th>4</th>\n",
       "      <td>20.29</td>\n",
       "      <td>14.34</td>\n",
       "      <td>135.10</td>\n",
       "      <td>1297.0</td>\n",
       "      <td>0.10030</td>\n",
       "      <td>0.13280</td>\n",
       "      <td>0.1980</td>\n",
       "      <td>0.10430</td>\n",
       "      <td>0.1809</td>\n",
       "      <td>0.05883</td>\n",
       "      <td>...</td>\n",
       "      <td>16.67</td>\n",
       "      <td>152.20</td>\n",
       "      <td>1575.0</td>\n",
       "      <td>0.1374</td>\n",
       "      <td>0.2050</td>\n",
       "      <td>0.4000</td>\n",
       "      <td>0.1625</td>\n",
       "      <td>0.2364</td>\n",
       "      <td>0.07678</td>\n",
       "      <td>0.0</td>\n",
       "    </tr>\n",
       "  </tbody>\n",
       "</table>\n",
       "<p>5 rows × 31 columns</p>\n",
       "</div>"
      ],
      "text/plain": [
       "   mean radius  mean texture  mean perimeter  mean area  mean smoothness  \\\n",
       "0        17.99         10.38          122.80     1001.0          0.11840   \n",
       "1        20.57         17.77          132.90     1326.0          0.08474   \n",
       "2        19.69         21.25          130.00     1203.0          0.10960   \n",
       "3        11.42         20.38           77.58      386.1          0.14250   \n",
       "4        20.29         14.34          135.10     1297.0          0.10030   \n",
       "\n",
       "   mean compactness  mean concavity  mean concave points  mean symmetry  \\\n",
       "0           0.27760          0.3001              0.14710         0.2419   \n",
       "1           0.07864          0.0869              0.07017         0.1812   \n",
       "2           0.15990          0.1974              0.12790         0.2069   \n",
       "3           0.28390          0.2414              0.10520         0.2597   \n",
       "4           0.13280          0.1980              0.10430         0.1809   \n",
       "\n",
       "   mean fractal dimension  ...  worst texture  worst perimeter  worst area  \\\n",
       "0                 0.07871  ...          17.33           184.60      2019.0   \n",
       "1                 0.05667  ...          23.41           158.80      1956.0   \n",
       "2                 0.05999  ...          25.53           152.50      1709.0   \n",
       "3                 0.09744  ...          26.50            98.87       567.7   \n",
       "4                 0.05883  ...          16.67           152.20      1575.0   \n",
       "\n",
       "   worst smoothness  worst compactness  worst concavity  worst concave points  \\\n",
       "0            0.1622             0.6656           0.7119                0.2654   \n",
       "1            0.1238             0.1866           0.2416                0.1860   \n",
       "2            0.1444             0.4245           0.4504                0.2430   \n",
       "3            0.2098             0.8663           0.6869                0.2575   \n",
       "4            0.1374             0.2050           0.4000                0.1625   \n",
       "\n",
       "   worst symmetry  worst fractal dimension  label  \n",
       "0          0.4601                  0.11890    0.0  \n",
       "1          0.2750                  0.08902    0.0  \n",
       "2          0.3613                  0.08758    0.0  \n",
       "3          0.6638                  0.17300    0.0  \n",
       "4          0.2364                  0.07678    0.0  \n",
       "\n",
       "[5 rows x 31 columns]"
      ]
     },
     "execution_count": 7,
     "metadata": {},
     "output_type": "execute_result"
    }
   ],
   "source": [
    "# # adding label for data index\n",
    "features_labels = np.append(features,'label') \n",
    "cancer_dataset.columns = features_labels \n",
    "cancer_dataset.head()"
   ]
  },
  {
   "cell_type": "code",
   "execution_count": 8,
   "id": "2626f0df-139a-45a3-9553-da312ada1f63",
   "metadata": {},
   "outputs": [],
   "source": [
    "# # label outcome as Benign = 0 and Malignant = 1\n",
    "# cancer_dataset['label'].replace(0, 'Benign',inplace=True) \n",
    "# cancer_dataset['label'].replace(1, 'Malignant',inplace=True)\n",
    "# cancer_dataset.head()"
   ]
  },
  {
   "cell_type": "markdown",
   "id": "3368ffee-2da8-40cd-a62f-72127a1413fc",
   "metadata": {},
   "source": [
    "## Problem 1 (20pts):\n",
    "Use the cancer dataset to build a logistic regression model to classify the type of cancer (Malignant vs. benign). First, create a logistic regression that takes all 30 input features for classification. Can you train a logistic regression over these number of features maps? Draw your training results, including loss and classification accuracy over iterations."
   ]
  },
  {
   "cell_type": "code",
   "execution_count": 9,
   "id": "b555fa35-6331-450b-a233-fa7a62b7a1ab",
   "metadata": {},
   "outputs": [],
   "source": [
    "X = cancer_dataset.iloc[:,[0,1,2,3,4,5,6,7,8,9,10,11,12,13,14,15,16,17,18,19,20,21,22,23,24,25,26,27,28,29]].values\n",
    "Y = cancer_dataset.iloc[:,30].values"
   ]
  },
  {
   "cell_type": "code",
   "execution_count": 10,
   "id": "f9906b35-6377-4317-8532-5f953fffe009",
   "metadata": {},
   "outputs": [
    {
     "name": "stdout",
     "output_type": "stream",
     "text": [
      "(455, 30)\n",
      "(114, 30)\n"
     ]
    }
   ],
   "source": [
    "# spilting data into train data 80% and test data 70%\n",
    "from sklearn.model_selection import train_test_split\n",
    "\n",
    "np.random.seed(0)\n",
    "x1_train, x1_test, y1_train, y1_test = train_test_split(X,Y,train_size =0.8, test_size = 0.2, random_state = 1)\n",
    "print (x1_train.shape)\n",
    "print (x1_test.shape)"
   ]
  },
  {
   "cell_type": "code",
   "execution_count": 11,
   "id": "92911b9e-e734-44ce-be94-ee918de19032",
   "metadata": {},
   "outputs": [],
   "source": [
    "# feature scaling between -1 and 1 using standardization\n",
    "from sklearn.preprocessing import StandardScaler\n",
    "scalar_x1 = StandardScaler()\n",
    "x1_train = scalar_x1.fit_transform(x1_train)\n",
    "x1_test = scalar_x1.transform(x1_test)"
   ]
  },
  {
   "cell_type": "code",
   "execution_count": 12,
   "id": "99cb5432-2896-4567-aa1e-11ce9cd49afe",
   "metadata": {},
   "outputs": [],
   "source": [
    "from sklearn.linear_model import LogisticRegression\n",
    "classifier = LogisticRegression(random_state=0)\n",
    "classifier.fit(x1_train,y1_train)\n",
    "y1_pred = classifier.predict(x1_test)"
   ]
  },
  {
   "cell_type": "code",
   "execution_count": 13,
   "id": "8fa8ada4-7d82-4c8c-ada6-db62449ce611",
   "metadata": {},
   "outputs": [
    {
     "data": {
      "text/plain": [
       "array([[40,  2],\n",
       "       [ 1, 71]])"
      ]
     },
     "execution_count": 13,
     "metadata": {},
     "output_type": "execute_result"
    }
   ],
   "source": [
    "#Using Confusion matrix representing binary classifiers so we can get accuracy of our model.\n",
    "from sklearn.metrics import confusion_matrix \n",
    "cnf_matrix_1 = confusion_matrix(y1_test,y1_pred)\n",
    "cnf_matrix_1"
   ]
  },
  {
   "cell_type": "code",
   "execution_count": 14,
   "id": "fe55ffa7-b719-449f-bc4a-ff0d5f15b548",
   "metadata": {},
   "outputs": [
    {
     "data": {
      "text/plain": [
       "Text(0.5, 257.44, 'Predicted label')"
      ]
     },
     "execution_count": 14,
     "metadata": {},
     "output_type": "execute_result"
    },
    {
     "data": {
      "image/png": "[encoded data removed]",
      "text/plain": [
       "<Figure size 432x288 with 2 Axes>"
      ]
     },
     "metadata": {
      "needs_background": "light"
     },
     "output_type": "display_data"
    }
   ],
   "source": [
    "import seaborn as sns\n",
    "class_names=[0,1] # name of classes\n",
    "fig, ax = plt.subplots()\n",
    "tick_marks = np.arange(len(class_names))\n",
    "plt.xticks(tick_marks, class_names)\n",
    "plt.yticks(tick_marks, class_names)\n",
    "\n",
    "# create heatmap\n",
    "sns.heatmap(pd.DataFrame(cnf_matrix_1), annot=True, cmap=\"YlGnBu\" ,fmt='g')\n",
    "ax.xaxis.set_label_position(\"top\")\n",
    "plt.tight_layout()\n",
    "plt.title('Confusion matrix', y=1.1)\n",
    "plt.ylabel('Actual label')\n",
    "plt.xlabel('Predicted label')"
   ]
  },
  {
   "cell_type": "code",
   "execution_count": 15,
   "id": "c9841960-8808-4c05-afc3-8461e16e44f9",
   "metadata": {},
   "outputs": [
    {
     "name": "stdout",
     "output_type": "stream",
     "text": [
      "Accuracy:  0.9736842105263158\n",
      "Precision:  0.9726027397260274\n",
      "Recall:  0.9861111111111112\n"
     ]
    }
   ],
   "source": [
    "#We are evaluating the model using model evaluation metrics for accuracy.\n",
    "#Accuracy over loss is what needs to be plotted\n",
    "from sklearn import metrics\n",
    "print(\"Accuracy: \", metrics.accuracy_score(y1_test, y1_pred))\n",
    "print(\"Precision: \", metrics.precision_score(y1_test, y1_pred))\n",
    "print(\"Recall: \", metrics.recall_score(y1_test, y1_pred))"
   ]
  },
  {
   "cell_type": "markdown",
   "id": "33d96aef-9578-485a-88c7-b7bf7621e5e5",
   "metadata": {},
   "source": [
    "## Problem 2 (50pts):\n",
    "Repeat problem 1, but this time use the PCA feature extraction for your training. Perform N number of independent training (N=1, …, K). Identify the optimum number of K, principle components that achieve the highest classification accuracy. Plot your classification accuracy, precision, and recall over a different number of Ks. Explain and elaborate on your results."
   ]
  },
  {
   "cell_type": "code",
   "execution_count": 16,
   "id": "47156ab5-3acc-4e85-bf6d-77bcc1aac395",
   "metadata": {},
   "outputs": [],
   "source": [
    "x2 = cancer_dataset.iloc[:,[0,1,2,3,4,5,6,7,8,9,10,11,12,13,14,15,16,17,18,19,20,21,22,23,24,25,26,27,28,29]].values\n",
    "y2 = cancer_dataset.iloc[:,30].values\n",
    "\n",
    "scalar_x2 = StandardScaler()\n",
    "x2 = scalar_x2.fit_transform(x2)"
   ]
  },
  {
   "cell_type": "code",
   "execution_count": 17,
   "id": "127b3a5d-e7a8-461d-afae-869853c18609",
   "metadata": {},
   "outputs": [
    {
     "data": {
      "text/plain": [
       "[[2, 0.8771929824561403, 0.8717948717948718, 0.9444444444444444],\n",
       " [3, 0.9473684210526315, 0.9342105263157895, 0.9861111111111112],\n",
       " [4, 0.9473684210526315, 0.9342105263157895, 0.9861111111111112],\n",
       " [5, 0.9649122807017544, 0.9473684210526315, 1.0],\n",
       " [6, 0.9736842105263158, 0.96, 1.0],\n",
       " [7, 0.9824561403508771, 0.972972972972973, 1.0],\n",
       " [8, 0.9736842105263158, 0.96, 1.0],\n",
       " [9, 0.9736842105263158, 0.96, 1.0],\n",
       " [10, 0.9824561403508771, 0.972972972972973, 1.0],\n",
       " [11, 0.9824561403508771, 0.972972972972973, 1.0],\n",
       " [12, 0.9824561403508771, 0.972972972972973, 1.0],\n",
       " [13, 0.9736842105263158, 0.9726027397260274, 0.9861111111111112],\n",
       " [14, 0.9736842105263158, 0.9726027397260274, 0.9861111111111112],\n",
       " [15, 0.9824561403508771, 0.972972972972973, 1.0],\n",
       " [16, 0.9824561403508771, 0.972972972972973, 1.0],\n",
       " [17, 0.9824561403508771, 0.972972972972973, 1.0],\n",
       " [18, 0.9824561403508771, 0.972972972972973, 1.0],\n",
       " [19, 0.9824561403508771, 0.972972972972973, 1.0],\n",
       " [20, 0.9824561403508771, 0.972972972972973, 1.0],\n",
       " [21, 0.9824561403508771, 0.972972972972973, 1.0],\n",
       " [22, 0.9824561403508771, 0.972972972972973, 1.0],\n",
       " [23, 0.9736842105263158, 0.9726027397260274, 0.9861111111111112],\n",
       " [24, 0.9736842105263158, 0.9726027397260274, 0.9861111111111112],\n",
       " [25, 0.9736842105263158, 0.9726027397260274, 0.9861111111111112],\n",
       " [26, 0.9736842105263158, 0.9726027397260274, 0.9861111111111112],\n",
       " [27, 0.9824561403508771, 0.972972972972973, 1.0],\n",
       " [28, 0.9736842105263158, 0.9726027397260274, 0.9861111111111112],\n",
       " [29, 0.9736842105263158, 0.9726027397260274, 0.9861111111111112],\n",
       " [30, 0.9824561403508771, 0.972972972972973, 1.0]]"
      ]
     },
     "execution_count": 17,
     "metadata": {},
     "output_type": "execute_result"
    }
   ],
   "source": [
    "from sklearn.decomposition import PCA\n",
    "\n",
    "dataset = []\n",
    "\n",
    "for i in range(29):\n",
    "    N = i+2\n",
    "    pca = PCA(N)\n",
    "    principalComponents = pca.fit_transform(x2)\n",
    "    principalDf = pd.DataFrame(data = principalComponents, columns = range(N))\n",
    "    finalDf = pd.concat([principalDf, cancer_dataset[['label']]],axis = 1)\n",
    "\n",
    "    y2 = finalDf.iloc[:,[N]].values\n",
    "    x2_pca = finalDf.iloc[:,0:(N-1)]\n",
    "    \n",
    "    x2_train, x2_test, y2_train, y2_test = train_test_split(x2_pca, y2, train_size = 0.8, test_size = 0.2, random_state = 1, shuffle = True)\n",
    "    \n",
    "    classifier = LogisticRegression(random_state=1)\n",
    "    classifier.fit(x2_train, np.ravel(y2_train))\n",
    "    y2_pred = classifier.predict(x2_test)\n",
    "    \n",
    "    cnf_matrix2 = confusion_matrix(y2_test, y2_pred)\n",
    "    accuracy = metrics.accuracy_score(y2_test, y2_pred)\n",
    "    precisison = metrics.precision_score(y2_test, y2_pred)\n",
    "    recall = metrics.recall_score(y2_test, y2_pred)\n",
    "    \n",
    "    dataset.append([N,accuracy,precisison,recall])\n",
    "    \n",
    "dataset"
   ]
  },
  {
   "cell_type": "code",
   "execution_count": 18,
   "id": "36811afa-dcd4-4942-be73-cddf8a7a1078",
   "metadata": {},
   "outputs": [
    {
     "data": {
      "image/png": "[encoded data removed]",
      "text/plain": [
       "<Figure size 432x288 with 1 Axes>"
      ]
     },
     "metadata": {
      "needs_background": "light"
     },
     "output_type": "display_data"
    }
   ],
   "source": [
    "def Ext(lst, i):\n",
    "    return [item[i] for item in lst]\n",
    "# function\n",
    "\n",
    "N_Values = Ext(dataset,0)\n",
    "Accuracy_Values_1 = Ext(dataset,1)\n",
    "Accuracy_Values_2 = Ext(dataset,2)\n",
    "Accuracy_Values_3 = Ext(dataset,3)\n",
    "\n",
    "plt.plot(N_Values, Accuracy_Values_1, color='r')\n",
    "plt.plot(N_Values, Accuracy_Values_2, color='g')\n",
    "plt.plot(N_Values, Accuracy_Values_3, color='b')\n",
    "plt.title(\"Accuracy Results using different PCA N values\")\n",
    "plt.xlabel(\"N Value\")\n",
    "plt.ylabel(\"Accuracy\")\n",
    "plt.tick_params(axis='both')\n",
    "\n",
    "plt.show()"
   ]
  },
  {
   "cell_type": "markdown",
   "id": "cd63fe04-28f5-4773-9bfa-d496fa800ecc",
   "metadata": {},
   "source": [
    "## Problem 3 (30pts):\n",
    "Repeat problem 2, but this time use the LDA feature extraction for your training. For the classification, use the built-in Bays classifier for the classification. Report your classification accuracy, precision, and recall. Explain and elaborate on your results."
   ]
  },
  {
   "cell_type": "code",
   "execution_count": 19,
   "id": "9be1e43a-6564-4171-841b-2979c11efb9b",
   "metadata": {},
   "outputs": [],
   "source": [
    "np.random.seed(0)\n",
    "x3_train, x3_test, y3_train, y3_test = train_test_split(X,Y,train_size =0.8, test_size = 0.2, random_state = 1)"
   ]
  },
  {
   "cell_type": "code",
   "execution_count": 20,
   "id": "2ea5207e-fabb-4e08-bee4-53d4eee180a1",
   "metadata": {},
   "outputs": [],
   "source": [
    "scalar_x3 = StandardScaler()\n",
    "x3_train = scalar_x3.fit_transform(x3_train)\n",
    "x3_test = scalar_x3.transform(x3_test)"
   ]
  },
  {
   "cell_type": "code",
   "execution_count": 21,
   "id": "a55fe1a0-26ea-49ea-9a3a-719e70636441",
   "metadata": {},
   "outputs": [],
   "source": [
    "# fitting LDA to dataset: \n",
    "lda = LinearDiscriminantAnalysis(n_components = 1) \n",
    "lda_train = lda.fit_transform(x3_train,y3_train)\n",
    "lda_test = lda.transform(x3_test)\n",
    "# Number of components (<= min(n_classes - 1, n_features)) for dimensionality reduction."
   ]
  },
  {
   "cell_type": "code",
   "execution_count": 22,
   "id": "67165180-bd40-4ec3-8f74-07c137c9c282",
   "metadata": {},
   "outputs": [
    {
     "data": {
      "text/plain": [
       "GaussianNB()"
      ]
     },
     "execution_count": 22,
     "metadata": {},
     "output_type": "execute_result"
    }
   ],
   "source": [
    "#Using Naive Gaussian Bays for classification\n",
    "from sklearn.naive_bayes import GaussianNB\n",
    "classifier_lda = GaussianNB()\n",
    "\n",
    "x3_train_lda = lda_train \n",
    "x3_test_lda = lda_test\n",
    "\n",
    "classifier_lda.fit(x3_train_lda,y3_train)"
   ]
  },
  {
   "cell_type": "code",
   "execution_count": 23,
   "id": "6e8c591a-c360-4d6f-b72d-170c237e5a0c",
   "metadata": {},
   "outputs": [],
   "source": [
    "y3_pred = classifier_lda.predict(x3_test_lda)"
   ]
  },
  {
   "cell_type": "code",
   "execution_count": 24,
   "id": "bd491c50-dbb7-4172-b207-f65fa15c0d04",
   "metadata": {},
   "outputs": [
    {
     "data": {
      "text/plain": [
       "array([[37,  5],\n",
       "       [ 1, 71]])"
      ]
     },
     "execution_count": 24,
     "metadata": {},
     "output_type": "execute_result"
    }
   ],
   "source": [
    "cnf_matrix_3 = confusion_matrix(y3_test,y3_pred)\n",
    "cnf_matrix_3"
   ]
  },
  {
   "cell_type": "code",
   "execution_count": 25,
   "id": "09a2406f-17e2-47f7-af3b-6cc8b102e477",
   "metadata": {},
   "outputs": [
    {
     "data": {
      "text/plain": [
       "Text(0.5, 257.44, 'Predicted label')"
      ]
     },
     "execution_count": 25,
     "metadata": {},
     "output_type": "execute_result"
    },
    {
     "data": {
      "image/png": "[encoded data removed]",
      "text/plain": [
       "<Figure size 432x288 with 2 Axes>"
      ]
     },
     "metadata": {
      "needs_background": "light"
     },
     "output_type": "display_data"
    }
   ],
   "source": [
    "class_names=[0,1] # name of classes\n",
    "fig, ax = plt.subplots()\n",
    "tick_marks = np.arange(len(class_names))\n",
    "plt.xticks(tick_marks, class_names)\n",
    "plt.yticks(tick_marks, class_names)\n",
    "\n",
    "# create heatmap\n",
    "sns.heatmap(pd.DataFrame(cnf_matrix_3), annot=True, cmap=\"YlGnBu\" ,fmt='g')\n",
    "ax.xaxis.set_label_position(\"top\")\n",
    "plt.tight_layout()\n",
    "plt.title('Confusion matrix', y=1.1)\n",
    "plt.ylabel('Actual label')\n",
    "plt.xlabel('Predicted label')"
   ]
  },
  {
   "cell_type": "code",
   "execution_count": 31,
   "id": "cd01ba18-0687-4b1d-8f36-90b685d997b0",
   "metadata": {},
   "outputs": [
    {
     "name": "stdout",
     "output_type": "stream",
     "text": [
      "Accuracy:  0.9473684210526315\n",
      "Precision:  0.9342105263157895\n",
      "Recall:  0.9861111111111112\n"
     ]
    }
   ],
   "source": [
    "print(\"Accuracy: \", metrics.accuracy_score(y3_test, y3_pred))\n",
    "print(\"Precision: \", metrics.precision_score(y3_test, y3_pred))\n",
    "print(\"Recall: \", metrics.recall_score(y3_test, y3_pred))"
   ]
  },
  {
   "cell_type": "markdown",
   "id": "e0052a4f-93b5-41b5-a45e-1736991ac52b",
   "metadata": {},
   "source": [
    "## Problem 4 (20pts Bonus):\n",
    "Can you repeat problem 3? This time, replace the Bayes classifier with logistic regression. Report your results (classification accuracy, precision, and recall). Compare your results against problem 2 and 3."
   ]
  },
  {
   "cell_type": "code",
   "execution_count": 28,
   "id": "c129b27c-1119-49a8-8d90-f5503c1c82b0",
   "metadata": {},
   "outputs": [],
   "source": [
    "scalar_x4 = scalar_x3\n",
    "x4 = scalar_x4.fit_transform(X)"
   ]
  },
  {
   "cell_type": "code",
   "execution_count": null,
   "id": "3ff8d63a-6406-4b6c-9792-d4570ce69345",
   "metadata": {},
   "outputs": [],
   "source": []
  }
 ],
 "metadata": {
  "kernelspec": {
   "display_name": "Python 3",
   "language": "python",
   "name": "python3"
  },
  "language_info": {
   "codemirror_mode": {
    "name": "ipython",
    "version": 3
   },
   "file_extension": ".py",
   "mimetype": "text/x-python",
   "name": "python",
   "nbconvert_exporter": "python",
   "pygments_lexer": "ipython3",
   "version": "3.8.8"
  }
 },
 "nbformat": 4,
 "nbformat_minor": 5
}
