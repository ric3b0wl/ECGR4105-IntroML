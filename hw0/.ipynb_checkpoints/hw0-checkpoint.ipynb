{
 "cells": [
  {
   "cell_type": "code",
   "execution_count": 3,
   "id": "1999f0fd-4dee-4b7c-94fe-59025406f642",
   "metadata": {},
   "outputs": [],
   "source": [
    "import numpy as np\n",
    "import pandas as pd\n",
    "import matplotlib.pyplot as plt"
   ]
  },
  {
   "cell_type": "code",
   "execution_count": 4,
   "id": "55ca1a48-b63f-4924-a850-407351f42730",
   "metadata": {},
   "outputs": [
    {
     "data": {
      "text/html": [
       "<div>\n",
       "<style scoped>\n",
       "    .dataframe tbody tr th:only-of-type {\n",
       "        vertical-align: middle;\n",
       "    }\n",
       "\n",
       "    .dataframe tbody tr th {\n",
       "        vertical-align: top;\n",
       "    }\n",
       "\n",
       "    .dataframe thead th {\n",
       "        text-align: right;\n",
       "    }\n",
       "</style>\n",
       "<table border=\"1\" class=\"dataframe\">\n",
       "  <thead>\n",
       "    <tr style=\"text-align: right;\">\n",
       "      <th></th>\n",
       "      <th>0.0</th>\n",
       "      <th>3.4399999999999999</th>\n",
       "      <th>0.44000000000000039</th>\n",
       "      <th>4.387545011044053</th>\n",
       "    </tr>\n",
       "  </thead>\n",
       "  <tbody>\n",
       "    <tr>\n",
       "      <th>0</th>\n",
       "      <td>0.040404</td>\n",
       "      <td>0.134949</td>\n",
       "      <td>0.888485</td>\n",
       "      <td>2.679650</td>\n",
       "    </tr>\n",
       "    <tr>\n",
       "      <th>1</th>\n",
       "      <td>0.080808</td>\n",
       "      <td>0.829899</td>\n",
       "      <td>1.336970</td>\n",
       "      <td>2.968490</td>\n",
       "    </tr>\n",
       "    <tr>\n",
       "      <th>2</th>\n",
       "      <td>0.121212</td>\n",
       "      <td>1.524848</td>\n",
       "      <td>1.785455</td>\n",
       "      <td>3.254065</td>\n",
       "    </tr>\n",
       "    <tr>\n",
       "      <th>3</th>\n",
       "      <td>0.161616</td>\n",
       "      <td>2.219798</td>\n",
       "      <td>2.233939</td>\n",
       "      <td>3.536375</td>\n",
       "    </tr>\n",
       "    <tr>\n",
       "      <th>4</th>\n",
       "      <td>0.202020</td>\n",
       "      <td>2.914747</td>\n",
       "      <td>2.682424</td>\n",
       "      <td>3.815420</td>\n",
       "    </tr>\n",
       "  </tbody>\n",
       "</table>\n",
       "</div>"
      ],
      "text/plain": [
       "        0.0  3.4399999999999999  0.44000000000000039  4.387545011044053\n",
       "0  0.040404            0.134949             0.888485           2.679650\n",
       "1  0.080808            0.829899             1.336970           2.968490\n",
       "2  0.121212            1.524848             1.785455           3.254065\n",
       "3  0.161616            2.219798             2.233939           3.536375\n",
       "4  0.202020            2.914747             2.682424           3.815420"
      ]
     },
     "execution_count": 4,
     "metadata": {},
     "output_type": "execute_result"
    }
   ],
   "source": [
    "df = pd.read_csv('D3.csv')\n",
    "df.head() # To get first n rows from the dataset default value of n is 5"
   ]
  },
  {
   "cell_type": "code",
   "execution_count": 5,
   "id": "2715620f-098a-4537-a704-8e3599becadf",
   "metadata": {},
   "outputs": [
    {
     "name": "stdout",
     "output_type": "stream",
     "text": [
      "x1 =  [0.04040404 0.08080808 0.12121212 0.16161616 0.2020202 ]\n",
      "x2 =  [0.13494949 0.82989899 1.52484848 2.21979798 2.91474747]\n",
      "x3 =  [0.88848485 1.3369697  1.78545455 2.23393939 2.68242424]\n",
      "Y =  [2.6796499  2.96848981 3.25406475 3.53637472 3.81541972]\n"
     ]
    }
   ],
   "source": [
    "x1 = df.values[:, 0] # get input values from first column\n",
    "x2 = df.values[:, 1]\n",
    "x3 = df.values[:, 2]\n",
    "y = df.values[:, 3] # get output values from third column for \"Y\" output\n",
    "\n",
    "print('x1 = ', x1[: 5]) \n",
    "print('x2 = ', x2[: 5]) \n",
    "print('x3 = ', x3[: 5]) \n",
    "print('Y = ', y[: 5]) \n"
   ]
  },
  {
   "cell_type": "raw",
   "id": "b4d196de-9585-422e-80f8-1ebe70f1273e",
   "metadata": {},
   "source": [
    "Problem 1 (25 points)\n",
    "\n",
    "Develop a code that run linear regression with gradient decent algorithm for each of the explanatory variables in isolation. In this case, you assume that in each iteration, only one explanatory variable (either X1, or X2, or X3) is explaining the output. Basically, you need to do three different training, one per each explanatory variable. For the learning rate, explore different values between 0.1 and 0.01 (your choice). Initialize your parameters to zero (theta to zero).\n",
    "\n",
    "1. Report the linear model you found for each explanatory variable.\n",
    "2. Plot the final regression model and loss over the iteration per each explanatory variable.\n",
    "3. Which explanatory variable has the lower loss (cost) for explaining the output (Y)?\n",
    "4. Based on your training observations, describe the impact of the different learning rates on the final loss and number of training iteration."
   ]
  },
  {
   "cell_type": "code",
   "execution_count": 20,
   "id": "c5489893-2840-4c2e-b84a-70d2016fea9f",
   "metadata": {},
   "outputs": [
    {
     "data": {
      "text/plain": [
       "Text(0.5, 1.0, 'Scatter plot of explanatory varibale x1')"
      ]
     },
     "execution_count": 20,
     "metadata": {},
     "output_type": "execute_result"
    },
    {
     "data": {
      "image/png": "[encoded data removed]",
      "text/plain": [
       "<Figure size 720x432 with 1 Axes>"
      ]
     },
     "metadata": {
      "needs_background": "light"
     },
     "output_type": "display_data"
    }
   ],
   "source": [
    "plt.scatter(x1, y, color='red', marker='.')\n",
    "plt.grid()\n",
    "plt.rcParams[\"figure.figsize\"] = (10,6)\n",
    "plt.xlabel('Input x1')\n",
    "plt.ylabel('Output y')\n",
    "plt.title('Scatter plot of explanatory varibale x1')"
   ]
  },
  {
   "cell_type": "code",
   "execution_count": 19,
   "id": "2c8b3ed4-3783-464f-a6ed-857871a8aad4",
   "metadata": {},
   "outputs": [
    {
     "data": {
      "text/plain": [
       "Text(0.5, 1.0, 'Scatter plot of explanatory varibale x2')"
      ]
     },
     "execution_count": 19,
     "metadata": {},
     "output_type": "execute_result"
    },
    {
     "data": {
      "image/png": "[encoded data removed]",
      "text/plain": [
       "<Figure size 720x432 with 1 Axes>"
      ]
     },
     "metadata": {
      "needs_background": "light"
     },
     "output_type": "display_data"
    }
   ],
   "source": [
    "plt.scatter(x2, y, color='green', marker='.')\n",
    "plt.grid()\n",
    "plt.rcParams[\"figure.figsize\"] = (10,6)\n",
    "plt.xlabel('Input x2')\n",
    "plt.ylabel('Output y')\n",
    "plt.title('Scatter plot of explanatory varibale x2')"
   ]
  },
  {
   "cell_type": "code",
   "execution_count": 18,
   "id": "cfdee8bd-090b-4e13-b53e-410ca01a64a3",
   "metadata": {},
   "outputs": [
    {
     "data": {
      "text/plain": [
       "Text(0.5, 1.0, 'Scatter plot of explanatory varibale x3')"
      ]
     },
     "execution_count": 18,
     "metadata": {},
     "output_type": "execute_result"
    },
    {
     "data": {
      "image/png": "[encoded data removed]",
      "text/plain": [
       "<Figure size 720x432 with 1 Axes>"
      ]
     },
     "metadata": {
      "needs_background": "light"
     },
     "output_type": "display_data"
    }
   ],
   "source": [
    "plt.scatter(x3, y, color='blue', marker='.')\n",
    "plt.grid()\n",
    "plt.rcParams[\"figure.figsize\"] = (10,6)\n",
    "plt.xlabel('Input x3')\n",
    "plt.ylabel('Output y')\n",
    "plt.title('Scatter plot of explanatory varibale x3')"
   ]
  },
  {
   "cell_type": "raw",
   "id": "8f973ebc-dc6b-4a76-a2bb-521bab41242c",
   "metadata": {},
   "source": [
    "Problem 2 (25 points)\n",
    "\n",
    "This time, run linear regression with gradient descent algorithm using all three explanatory variables. For the learning rate, explore different values between 0.1 and 0.01 (your choice). Initialize your parameters (theta to zero).\n",
    "\n",
    "1. Report the final linear model you found the best. \n",
    "2. Plot loss over the iteration.\n",
    "3. Based on your training observations, describe the impact of the different learning rates on the final loss and number of training iteration.\n",
    "4. Predict the value of y for new (X1, X2, X3) values (1, 1, 1), for (2, 0, 4), and for (3, 2, 1)\n",
    " "
   ]
  }
 ],
 "metadata": {
  "kernelspec": {
   "display_name": "Python 3 (ipykernel)",
   "language": "python",
   "name": "python3"
  },
  "language_info": {
   "codemirror_mode": {
    "name": "ipython",
    "version": 3
   },
   "file_extension": ".py",
   "mimetype": "text/x-python",
   "name": "python",
   "nbconvert_exporter": "python",
   "pygments_lexer": "ipython3",
   "version": "3.8.10"
  }
 },
 "nbformat": 4,
 "nbformat_minor": 5
}
