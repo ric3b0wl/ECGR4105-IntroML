{
 "cells": [
  {
   "cell_type": "code",
   "execution_count": 17,
   "id": "1999f0fd-4dee-4b7c-94fe-59025406f642",
   "metadata": {},
   "outputs": [],
   "source": [
    "import numpy as np\n",
    "import pandas as pd\n",
    "import matplotlib.pyplot as plt"
   ]
  },
  {
   "cell_type": "code",
   "execution_count": 18,
   "id": "bcff0460-ae02-43ba-a0a5-970b04d95871",
   "metadata": {},
   "outputs": [
    {
     "data": {
      "text/html": [
       "<div>\n",
       "<style scoped>\n",
       "    .dataframe tbody tr th:only-of-type {\n",
       "        vertical-align: middle;\n",
       "    }\n",
       "\n",
       "    .dataframe tbody tr th {\n",
       "        vertical-align: top;\n",
       "    }\n",
       "\n",
       "    .dataframe thead th {\n",
       "        text-align: right;\n",
       "    }\n",
       "</style>\n",
       "<table border=\"1\" class=\"dataframe\">\n",
       "  <thead>\n",
       "    <tr style=\"text-align: right;\">\n",
       "      <th></th>\n",
       "      <th>0.0</th>\n",
       "      <th>3.4399999999999999</th>\n",
       "      <th>0.44000000000000039</th>\n",
       "      <th>4.387545011044053</th>\n",
       "    </tr>\n",
       "  </thead>\n",
       "  <tbody>\n",
       "    <tr>\n",
       "      <th>0</th>\n",
       "      <td>0.040404</td>\n",
       "      <td>0.134949</td>\n",
       "      <td>0.888485</td>\n",
       "      <td>2.679650</td>\n",
       "    </tr>\n",
       "    <tr>\n",
       "      <th>1</th>\n",
       "      <td>0.080808</td>\n",
       "      <td>0.829899</td>\n",
       "      <td>1.336970</td>\n",
       "      <td>2.968490</td>\n",
       "    </tr>\n",
       "    <tr>\n",
       "      <th>2</th>\n",
       "      <td>0.121212</td>\n",
       "      <td>1.524848</td>\n",
       "      <td>1.785455</td>\n",
       "      <td>3.254065</td>\n",
       "    </tr>\n",
       "    <tr>\n",
       "      <th>3</th>\n",
       "      <td>0.161616</td>\n",
       "      <td>2.219798</td>\n",
       "      <td>2.233939</td>\n",
       "      <td>3.536375</td>\n",
       "    </tr>\n",
       "    <tr>\n",
       "      <th>4</th>\n",
       "      <td>0.202020</td>\n",
       "      <td>2.914747</td>\n",
       "      <td>2.682424</td>\n",
       "      <td>3.815420</td>\n",
       "    </tr>\n",
       "  </tbody>\n",
       "</table>\n",
       "</div>"
      ],
      "text/plain": [
       "        0.0  3.4399999999999999  0.44000000000000039  4.387545011044053\n",
       "0  0.040404            0.134949             0.888485           2.679650\n",
       "1  0.080808            0.829899             1.336970           2.968490\n",
       "2  0.121212            1.524848             1.785455           3.254065\n",
       "3  0.161616            2.219798             2.233939           3.536375\n",
       "4  0.202020            2.914747             2.682424           3.815420"
      ]
     },
     "execution_count": 18,
     "metadata": {},
     "output_type": "execute_result"
    }
   ],
   "source": [
    "df = pd.read_csv('D3.csv')\n",
    "df.head() # To get first n rows from the dataset default value of n is 5"
   ]
  },
  {
   "cell_type": "code",
   "execution_count": 19,
   "id": "9e7b69f0-a00a-4871-a56c-080678cab054",
   "metadata": {},
   "outputs": [
    {
     "data": {
      "text/plain": [
       "99"
      ]
     },
     "execution_count": 19,
     "metadata": {},
     "output_type": "execute_result"
    }
   ],
   "source": [
    "M=len(df)\n",
    "M"
   ]
  },
  {
   "cell_type": "code",
   "execution_count": 20,
   "id": "2715620f-098a-4537-a704-8e3599becadf",
   "metadata": {},
   "outputs": [
    {
     "name": "stdout",
     "output_type": "stream",
     "text": [
      "x1 =  [0.04040404 0.08080808 0.12121212 0.16161616 0.2020202 ]\n",
      "x2 =  [0.13494949 0.82989899 1.52484848 2.21979798 2.91474747]\n",
      "x3 =  [0.88848485 1.3369697  1.78545455 2.23393939 2.68242424]\n",
      "Y =  [2.6796499  2.96848981 3.25406475 3.53637472 3.81541972]\n",
      "m =  99\n"
     ]
    }
   ],
   "source": [
    "x1 = df.values[:, 0] # get input values from first column\n",
    "x2 = df.values[:, 1]\n",
    "x3 = df.values[:, 2]\n",
    "y = df.values[:, 3] # get output values from third column for \"Y\" output\n",
    "m = len(y) # Number of training examples\n",
    "\n",
    "print('x1 = ', x1[: 5]) \n",
    "print('x2 = ', x2[: 5]) \n",
    "print('x3 = ', x3[: 5]) \n",
    "print('Y = ', y[: 5]) \n",
    "print('m = ', m)"
   ]
  },
  {
   "cell_type": "markdown",
   "id": "7193acac-0b61-4db0-89e4-1c0ca6cdbb87",
   "metadata": {
    "tags": []
   },
   "source": [
    "# Problem 1 (25 points)\n",
    "\n",
    "Develop a code that run linear regression with gradient decent algorithm for each of the explanatory variables in isolation. In this case, you assume that in each iteration, only one explanatory variable (either X1, or X2, or X3) is explaining the output. Basically, you need to do three different training, one per each explanatory variable. For the learning rate, explore different values between 0.1 and 0.01 (your choice). Initialize your parameters to zero (theta to zero).\n",
    "\n",
    "1. Report the linear model you found for each explanatory variable.\n",
    "2. Plot the final regression model and loss over the iteration per each explanatory variable.\n",
    "3. Which explanatory variable has the lower loss (cost) for explaining the output (Y)?\n",
    "4. Based on your training observations, describe the impact of the different learning rates on the final loss and number of training iteration."
   ]
  },
  {
   "cell_type": "markdown",
   "id": "7dc802e6-462f-40f1-a2e3-c5f474a6b1de",
   "metadata": {
    "tags": []
   },
   "source": [
    "## For x1"
   ]
  },
  {
   "cell_type": "code",
   "execution_count": 21,
   "id": "c5489893-2840-4c2e-b84a-70d2016fea9f",
   "metadata": {},
   "outputs": [
    {
     "data": {
      "text/plain": [
       "Text(0.5, 1.0, 'Scatter plot of explanatory varibale x1')"
      ]
     },
     "execution_count": 21,
     "metadata": {},
     "output_type": "execute_result"
    },
    {
     "data": {
      "image/png": "[encoded data removed]",
      "text/plain": [
       "<Figure size 720x432 with 1 Axes>"
      ]
     },
     "metadata": {
      "needs_background": "light"
     },
     "output_type": "display_data"
    }
   ],
   "source": [
    "plt.scatter(x1, y, color='red', marker='.')\n",
    "plt.grid()\n",
    "plt.rcParams[\"figure.figsize\"] = (10,6)\n",
    "plt.xlabel('Input x1')\n",
    "plt.ylabel('Output y')\n",
    "plt.title('Scatter plot of explanatory varibale x1')\n"
   ]
  },
  {
   "cell_type": "code",
   "execution_count": 22,
   "id": "abc635a9-5b40-4399-adcd-d0c3aa5c538f",
   "metadata": {},
   "outputs": [
    {
     "data": {
      "text/plain": [
       "array([[1.],\n",
       "       [1.],\n",
       "       [1.],\n",
       "       [1.],\n",
       "       [1.]])"
      ]
     },
     "execution_count": 22,
     "metadata": {},
     "output_type": "execute_result"
    }
   ],
   "source": [
    "#Lets create a matrix with single column of ones\n",
    "X_0 = np.ones((m, 1))\n",
    "X_0[:5]"
   ]
  },
  {
   "cell_type": "code",
   "execution_count": 23,
   "id": "af2194af-640c-42c4-9056-2b4256bb563f",
   "metadata": {},
   "outputs": [
    {
     "data": {
      "text/plain": [
       "array([[0.04040404],\n",
       "       [0.08080808],\n",
       "       [0.12121212],\n",
       "       [0.16161616],\n",
       "       [0.2020202 ],\n",
       "       [0.24242424],\n",
       "       [0.28282828],\n",
       "       [0.32323232],\n",
       "       [0.36363636],\n",
       "       [0.4040404 ]])"
      ]
     },
     "execution_count": 23,
     "metadata": {},
     "output_type": "execute_result"
    }
   ],
   "source": [
    "# Using reshape function convert X 1D array to 2D array of dimension 97x1\n",
    "X_1 = x1.reshape(m, 1)\n",
    "X_1[:10]"
   ]
  },
  {
   "cell_type": "code",
   "execution_count": 24,
   "id": "456798b4-4e63-4d36-9386-e33fd4b441b6",
   "metadata": {},
   "outputs": [
    {
     "data": {
      "text/plain": [
       "array([[1.        , 0.04040404],\n",
       "       [1.        , 0.08080808],\n",
       "       [1.        , 0.12121212],\n",
       "       [1.        , 0.16161616],\n",
       "       [1.        , 0.2020202 ]])"
      ]
     },
     "execution_count": 24,
     "metadata": {},
     "output_type": "execute_result"
    }
   ],
   "source": [
    "x1 = np.hstack((X_0, X_1))\n",
    "x1[:5]"
   ]
  },
  {
   "cell_type": "code",
   "execution_count": 25,
   "id": "b07dc597-9be5-4098-96e5-8ec6e44052c2",
   "metadata": {},
   "outputs": [
    {
     "data": {
      "text/plain": [
       "array([0., 0.])"
      ]
     },
     "execution_count": 25,
     "metadata": {},
     "output_type": "execute_result"
    }
   ],
   "source": [
    "theta_x1 = np.zeros(2)\n",
    "theta_x1"
   ]
  },
  {
   "cell_type": "code",
   "execution_count": 26,
   "id": "8b391b8e-6e11-48b0-bd64-94e4175eb83b",
   "metadata": {},
   "outputs": [],
   "source": [
    "def compute_cost(x1, y, theta_x1):\n",
    "    predictions = x1.dot(theta_x1)\n",
    "    errors = np.subtract(predictions, y)\n",
    "    sqrErrors = np.square(errors)\n",
    "    J = 1 / (2 * m) * np.sum(sqrErrors)\n",
    "    return J"
   ]
  },
  {
   "cell_type": "code",
   "execution_count": 27,
   "id": "ed289cee-f915-4acc-88f6-61765339a911",
   "metadata": {},
   "outputs": [
    {
     "name": "stdout",
     "output_type": "stream",
     "text": [
      "Cost for given values of theta_0 and theta_1 = 5.483015861682611\n"
     ]
    }
   ],
   "source": [
    "# compute the cost for theta values\n",
    "cost = compute_cost(x1, y, theta_x1)\n",
    "print('Cost for given values of theta_0 and theta_1 =', cost)"
   ]
  },
  {
   "cell_type": "code",
   "execution_count": 33,
   "id": "f4bc25f1-fd12-4642-9bd3-4da26aecadeb",
   "metadata": {},
   "outputs": [],
   "source": [
    "def gradient_descent(x1, y, theta, alpha, iterations):\n",
    "    cost_history = np.zeros(iterations)\n",
    "    for i in range(iterations):\n",
    "        predictions = x1.dot(theta)\n",
    "        errors = np.subtract(predictions, y)\n",
    "        sum_delta = (alpha / m) * x1.transpose().dot(errors);\n",
    "        theta = theta - sum_delta;\n",
    "        cost_history[i] = compute_cost(x1, y, theta)\n",
    "        return theta, cost_history"
   ]
  },
  {
   "cell_type": "code",
   "execution_count": 34,
   "id": "c12d3f10-91b5-4e16-a85d-4b8fbc8ecf8a",
   "metadata": {},
   "outputs": [],
   "source": [
    "theta = [0., 0.]\n",
    "iterations = 1500;\n",
    "alpha = 0.01;"
   ]
  },
  {
   "cell_type": "code",
   "execution_count": 35,
   "id": "5cd23281-d068-4c9b-81a6-b6a88e7e7095",
   "metadata": {},
   "outputs": [
    {
     "name": "stdout",
     "output_type": "stream",
     "text": [
      "Final value of theta = [0.01825657 0.00939257]\n",
      "cost_history = [5.4416155 0.        0.        ... 0.        0.        0.       ]\n"
     ]
    }
   ],
   "source": [
    "theta, cost_history = gradient_descent(x1, y, theta, alpha, iterations)\n",
    "print('Final value of theta =', theta)\n",
    "print('cost_history =', cost_history)"
   ]
  },
  {
   "cell_type": "code",
   "execution_count": 38,
   "id": "5a40e5c1-117f-4e26-b4e7-2976e5f8aef0",
   "metadata": {},
   "outputs": [
    {
     "data": {
      "text/plain": [
       "<matplotlib.legend.Legend at 0x7f3a08530940>"
      ]
     },
     "execution_count": 38,
     "metadata": {},
     "output_type": "execute_result"
    },
    {
     "data": {
      "image/png": "[encoded data removed]",
      "text/plain": [
       "<Figure size 720x432 with 1 Axes>"
      ]
     },
     "metadata": {
      "needs_background": "light"
     },
     "output_type": "display_data"
    }
   ],
   "source": [
    "plt.scatter(x1[:,1], y, color='red', marker= '+', label= 'Training Data')\n",
    "plt.plot(x1[:,1], x1.dot(theta), color='green', label='Linear Regression')\n",
    "plt.rcParams[\"figure.figsize\"] = (10,6)\n",
    "plt.grid()\n",
    "plt.xlabel('Input x1')\n",
    "plt.ylabel('Output y')\n",
    "plt.title('Linear Regression Fit')\n",
    "plt.legend()"
   ]
  },
  {
   "cell_type": "code",
   "execution_count": 39,
   "id": "eb2a73e2-fa74-4cc2-81ec-f05f4d3899f2",
   "metadata": {},
   "outputs": [
    {
     "data": {
      "text/plain": [
       "Text(0.5, 1.0, 'Convergence of gradient descent')"
      ]
     },
     "execution_count": 39,
     "metadata": {},
     "output_type": "execute_result"
    },
    {
     "data": {
      "image/png": "[encoded data removed]",
      "text/plain": [
       "<Figure size 720x432 with 1 Axes>"
      ]
     },
     "metadata": {
      "needs_background": "light"
     },
     "output_type": "display_data"
    }
   ],
   "source": [
    "plt.plot(range(1, iterations + 1),cost_history, color='blue')\n",
    "plt.rcParams[\"figure.figsize\"] = (10,6)\n",
    "plt.grid()\n",
    "plt.xlabel('Number of iterations')\n",
    "plt.ylabel('Cost (J)')\n",
    "plt.title('Convergence of gradient descent')"
   ]
  },
  {
   "cell_type": "markdown",
   "id": "202ec267-4dea-4b81-8e4b-2021bbe31973",
   "metadata": {
    "tags": []
   },
   "source": [
    "## For x2"
   ]
  },
  {
   "cell_type": "code",
   "execution_count": null,
   "id": "2c8b3ed4-3783-464f-a6ed-857871a8aad4",
   "metadata": {},
   "outputs": [],
   "source": [
    "plt.scatter(x2, y, color='green', marker='.')\n",
    "plt.grid()\n",
    "plt.rcParams[\"figure.figsize\"] = (10,6)\n",
    "plt.xlabel('Input x2')\n",
    "plt.ylabel('Output y')\n",
    "plt.title('Scatter plot of explanatory varibale x2')"
   ]
  },
  {
   "cell_type": "markdown",
   "id": "066d5efa-742c-4c74-a512-fefe23340fea",
   "metadata": {
    "tags": []
   },
   "source": [
    "## For x3"
   ]
  },
  {
   "cell_type": "code",
   "execution_count": null,
   "id": "cfdee8bd-090b-4e13-b53e-410ca01a64a3",
   "metadata": {},
   "outputs": [],
   "source": [
    "plt.scatter(x3, y, color='blue', marker='.')\n",
    "plt.grid()\n",
    "plt.rcParams[\"figure.figsize\"] = (10,6)\n",
    "plt.xlabel('Input x3')\n",
    "plt.ylabel('Output y')\n",
    "plt.title('Scatter plot of explanatory varibale x3')"
   ]
  },
  {
   "cell_type": "raw",
   "id": "8f973ebc-dc6b-4a76-a2bb-521bab41242c",
   "metadata": {},
   "source": [
    "Problem 2 (25 points)\n",
    "\n",
    "This time, run linear regression with gradient descent algorithm using all three explanatory variables. For the learning rate, explore different values between 0.1 and 0.01 (your choice). Initialize your parameters (theta to zero).\n",
    "\n",
    "1. Report the final linear model you found the best. \n",
    "2. Plot loss over the iteration.\n",
    "3. Based on your training observations, describe the impact of the different learning rates on the final loss and number of training iteration.\n",
    "4. Predict the value of y for new (X1, X2, X3) values (1, 1, 1), for (2, 0, 4), and for (3, 2, 1)\n",
    " "
   ]
  }
 ],
 "metadata": {
  "kernelspec": {
   "display_name": "Python 3 (ipykernel)",
   "language": "python",
   "name": "python3"
  },
  "language_info": {
   "codemirror_mode": {
    "name": "ipython",
    "version": 3
   },
   "file_extension": ".py",
   "mimetype": "text/x-python",
   "name": "python",
   "nbconvert_exporter": "python",
   "pygments_lexer": "ipython3",
   "version": "3.8.8"
  }
 },
 "nbformat": 4,
 "nbformat_minor": 5
}
