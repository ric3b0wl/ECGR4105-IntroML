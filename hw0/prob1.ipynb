{
 "cells": [
  {
   "cell_type": "code",
   "execution_count": 1,
   "id": "1999f0fd-4dee-4b7c-94fe-59025406f642",
   "metadata": {},
   "outputs": [],
   "source": [
    "import numpy as np\n",
    "import pandas as pd\n",
    "import matplotlib.pyplot as plt"
   ]
  },
  {
   "cell_type": "code",
   "execution_count": 2,
   "id": "bcff0460-ae02-43ba-a0a5-970b04d95871",
   "metadata": {},
   "outputs": [
    {
     "data": {
      "text/html": [
       "<div>\n",
       "<style scoped>\n",
       "    .dataframe tbody tr th:only-of-type {\n",
       "        vertical-align: middle;\n",
       "    }\n",
       "\n",
       "    .dataframe tbody tr th {\n",
       "        vertical-align: top;\n",
       "    }\n",
       "\n",
       "    .dataframe thead th {\n",
       "        text-align: right;\n",
       "    }\n",
       "</style>\n",
       "<table border=\"1\" class=\"dataframe\">\n",
       "  <thead>\n",
       "    <tr style=\"text-align: right;\">\n",
       "      <th></th>\n",
       "      <th>0.0</th>\n",
       "      <th>3.4399999999999999</th>\n",
       "      <th>0.44000000000000039</th>\n",
       "      <th>4.387545011044053</th>\n",
       "    </tr>\n",
       "  </thead>\n",
       "  <tbody>\n",
       "    <tr>\n",
       "      <th>0</th>\n",
       "      <td>0.040404</td>\n",
       "      <td>0.134949</td>\n",
       "      <td>0.888485</td>\n",
       "      <td>2.679650</td>\n",
       "    </tr>\n",
       "    <tr>\n",
       "      <th>1</th>\n",
       "      <td>0.080808</td>\n",
       "      <td>0.829899</td>\n",
       "      <td>1.336970</td>\n",
       "      <td>2.968490</td>\n",
       "    </tr>\n",
       "    <tr>\n",
       "      <th>2</th>\n",
       "      <td>0.121212</td>\n",
       "      <td>1.524848</td>\n",
       "      <td>1.785455</td>\n",
       "      <td>3.254065</td>\n",
       "    </tr>\n",
       "    <tr>\n",
       "      <th>3</th>\n",
       "      <td>0.161616</td>\n",
       "      <td>2.219798</td>\n",
       "      <td>2.233939</td>\n",
       "      <td>3.536375</td>\n",
       "    </tr>\n",
       "    <tr>\n",
       "      <th>4</th>\n",
       "      <td>0.202020</td>\n",
       "      <td>2.914747</td>\n",
       "      <td>2.682424</td>\n",
       "      <td>3.815420</td>\n",
       "    </tr>\n",
       "  </tbody>\n",
       "</table>\n",
       "</div>"
      ],
      "text/plain": [
       "        0.0  3.4399999999999999  0.44000000000000039  4.387545011044053\n",
       "0  0.040404            0.134949             0.888485           2.679650\n",
       "1  0.080808            0.829899             1.336970           2.968490\n",
       "2  0.121212            1.524848             1.785455           3.254065\n",
       "3  0.161616            2.219798             2.233939           3.536375\n",
       "4  0.202020            2.914747             2.682424           3.815420"
      ]
     },
     "execution_count": 2,
     "metadata": {},
     "output_type": "execute_result"
    }
   ],
   "source": [
    "df = pd.read_csv('D3.csv')\n",
    "df.head() # To get first n rows from the dataset default value of n is 5"
   ]
  },
  {
   "cell_type": "code",
   "execution_count": 3,
   "id": "9e7b69f0-a00a-4871-a56c-080678cab054",
   "metadata": {},
   "outputs": [
    {
     "data": {
      "text/plain": [
       "99"
      ]
     },
     "execution_count": 3,
     "metadata": {},
     "output_type": "execute_result"
    }
   ],
   "source": [
    "M=len(df)\n",
    "M"
   ]
  },
  {
   "cell_type": "code",
   "execution_count": 4,
   "id": "2715620f-098a-4537-a704-8e3599becadf",
   "metadata": {},
   "outputs": [
    {
     "name": "stdout",
     "output_type": "stream",
     "text": [
      "x1 =  [0.04040404 0.08080808 0.12121212 0.16161616 0.2020202 ]\n",
      "x2 =  [0.13494949 0.82989899 1.52484848 2.21979798 2.91474747]\n",
      "x3 =  [0.88848485 1.3369697  1.78545455 2.23393939 2.68242424]\n",
      "Y =  [2.6796499  2.96848981 3.25406475 3.53637472 3.81541972]\n",
      "m =  99\n"
     ]
    }
   ],
   "source": [
    "x1 = df.values[:, 0] # get input values from first column\n",
    "x2 = df.values[:, 1]\n",
    "x3 = df.values[:, 2]\n",
    "y = df.values[:, 3] # get output values from third column for \"Y\" output\n",
    "m = len(y) # Number of training examples\n",
    "\n",
    "print('x1 = ', x1[: 5]) \n",
    "print('x2 = ', x2[: 5]) \n",
    "print('x3 = ', x3[: 5]) \n",
    "print('Y = ', y[: 5]) \n",
    "print('m = ', m)"
   ]
  },
  {
   "cell_type": "markdown",
   "id": "7193acac-0b61-4db0-89e4-1c0ca6cdbb87",
   "metadata": {
    "tags": []
   },
   "source": [
    "# Problem 1 (25 points)\n",
    "\n",
    "Develop a code that run linear regression with gradient decent algorithm for each of the explanatory variables in isolation. In this case, you assume that in each iteration, only one explanatory variable (either X1, or X2, or X3) is explaining the output. Basically, you need to do three different training, one per each explanatory variable. For the learning rate, explore different values between 0.1 and 0.01 (your choice). Initialize your parameters to zero (theta to zero).\n",
    "\n",
    "1. Report the linear model you found for each explanatory variable.\n",
    "2. Plot the final regression model and loss over the iteration per each explanatory variable.\n",
    "3. Which explanatory variable has the lower loss (cost) for explaining the output (Y)?\n",
    "4. Based on your training observations, describe the impact of the different learning rates on the final loss and number of training iteration."
   ]
  },
  {
   "cell_type": "markdown",
   "id": "7dc802e6-462f-40f1-a2e3-c5f474a6b1de",
   "metadata": {
    "tags": []
   },
   "source": [
    "# **For x1**"
   ]
  },
  {
   "cell_type": "code",
   "execution_count": 5,
   "id": "c5489893-2840-4c2e-b84a-70d2016fea9f",
   "metadata": {},
   "outputs": [
    {
     "data": {
      "text/plain": [
       "Text(0.5, 1.0, 'Scatter plot of explanatory varibale x1')"
      ]
     },
     "execution_count": 5,
     "metadata": {},
     "output_type": "execute_result"
    },
    {
     "data": {
      "image/png": "[encoded data removed]",
      "text/plain": [
       "<Figure size 432x288 with 1 Axes>"
      ]
     },
     "metadata": {
      "needs_background": "light"
     },
     "output_type": "display_data"
    }
   ],
   "source": [
    "plt.scatter(x1, y, color='red', marker='.')\n",
    "plt.grid()\n",
    "plt.rcParams[\"figure.figsize\"] = (10,6)\n",
    "plt.xlabel('Input x1')\n",
    "plt.ylabel('Output y')\n",
    "plt.title('Scatter plot of explanatory varibale x1')"
   ]
  },
  {
   "cell_type": "code",
   "execution_count": 6,
   "id": "abc635a9-5b40-4399-adcd-d0c3aa5c538f",
   "metadata": {},
   "outputs": [
    {
     "data": {
      "text/plain": [
       "array([[1.],\n",
       "       [1.],\n",
       "       [1.],\n",
       "       [1.],\n",
       "       [1.]])"
      ]
     },
     "execution_count": 6,
     "metadata": {},
     "output_type": "execute_result"
    }
   ],
   "source": [
    "#Lets create a matrix with single column of ones\n",
    "x1_0 = np.ones((m, 1))\n",
    "x1_0[:5]"
   ]
  },
  {
   "cell_type": "code",
   "execution_count": 7,
   "id": "af2194af-640c-42c4-9056-2b4256bb563f",
   "metadata": {},
   "outputs": [
    {
     "data": {
      "text/plain": [
       "array([[0.04040404],\n",
       "       [0.08080808],\n",
       "       [0.12121212],\n",
       "       [0.16161616],\n",
       "       [0.2020202 ],\n",
       "       [0.24242424],\n",
       "       [0.28282828],\n",
       "       [0.32323232],\n",
       "       [0.36363636],\n",
       "       [0.4040404 ]])"
      ]
     },
     "execution_count": 7,
     "metadata": {},
     "output_type": "execute_result"
    }
   ],
   "source": [
    "# Using reshape function convert X 1D array to 2D array of dimension 97x1\n",
    "x1_1 = x1.reshape(m, 1)\n",
    "x1_1[:10]"
   ]
  },
  {
   "cell_type": "code",
   "execution_count": 8,
   "id": "456798b4-4e63-4d36-9386-e33fd4b441b6",
   "metadata": {},
   "outputs": [
    {
     "data": {
      "text/plain": [
       "array([[1.        , 0.04040404],\n",
       "       [1.        , 0.08080808],\n",
       "       [1.        , 0.12121212],\n",
       "       [1.        , 0.16161616],\n",
       "       [1.        , 0.2020202 ]])"
      ]
     },
     "execution_count": 8,
     "metadata": {},
     "output_type": "execute_result"
    }
   ],
   "source": [
    "x1 = np.hstack((x1_0, x1_1))\n",
    "x1[:5]"
   ]
  },
  {
   "cell_type": "code",
   "execution_count": 9,
   "id": "455394b4-9bbb-4842-b6ca-41492eda700a",
   "metadata": {},
   "outputs": [
    {
     "data": {
      "text/plain": [
       "array([0., 0.])"
      ]
     },
     "execution_count": 9,
     "metadata": {},
     "output_type": "execute_result"
    }
   ],
   "source": [
    "theta_x1 = np.zeros(2)\n",
    "theta_x1"
   ]
  },
  {
   "cell_type": "code",
   "execution_count": 10,
   "id": "74be387b-f838-4853-9442-f3f97027d4a2",
   "metadata": {},
   "outputs": [],
   "source": [
    "def compute_cost(x, y, theta):\n",
    "    predictions = x.dot(theta)\n",
    "    errors = np.subtract(predictions, y)\n",
    "    sqrErrors = np.square(errors)\n",
    "    J = 1 / (2 * m) * np.sum(sqrErrors)\n",
    "    return J"
   ]
  },
  {
   "cell_type": "code",
   "execution_count": 11,
   "id": "ed289cee-f915-4acc-88f6-61765339a911",
   "metadata": {},
   "outputs": [
    {
     "name": "stdout",
     "output_type": "stream",
     "text": [
      "Cost for given values of theta_0 and theta_1 = 5.483015861682611\n"
     ]
    }
   ],
   "source": [
    "# compute the cost for theta values\n",
    "cost_x1 = compute_cost(x1, y, theta_x1)\n",
    "print('Cost for given values of theta_0 and theta_1 =', cost_x1)"
   ]
  },
  {
   "cell_type": "code",
   "execution_count": 12,
   "id": "f4bc25f1-fd12-4642-9bd3-4da26aecadeb",
   "metadata": {},
   "outputs": [],
   "source": [
    "def gradient_descent(x, y, theta, alpha, iterations):\n",
    "    cost_history = np.zeros(iterations)\n",
    "    for i in range(iterations):\n",
    "        predictions = x.dot(theta)\n",
    "        errors = np.subtract(predictions, y)\n",
    "        sum_delta = (alpha / m) * x.transpose().dot(errors);\n",
    "        theta = theta - sum_delta;\n",
    "        cost_history[i] = compute_cost(x, y, theta)\n",
    "    return theta, cost_history"
   ]
  },
  {
   "cell_type": "code",
   "execution_count": 13,
   "id": "c12d3f10-91b5-4e16-a85d-4b8fbc8ecf8a",
   "metadata": {},
   "outputs": [],
   "source": [
    "theta_x1 = [0., 0.]\n",
    "iterations_x1 = 100;\n",
    "alpha_x1 = 0.01;"
   ]
  },
  {
   "cell_type": "code",
   "execution_count": 14,
   "id": "5cd23281-d068-4c9b-81a6-b6a88e7e7095",
   "metadata": {},
   "outputs": [
    {
     "name": "stdout",
     "output_type": "stream",
     "text": [
      "Final value of theta = [ 1.23265422 -0.21345481]\n",
      "cost_history = [5.4416155  5.40304386 5.36697031 5.33310389 5.30118858 5.27099905\n",
      " 5.24233703 5.215028   5.18891841 5.16387309 5.13977307 5.11651366\n",
      " 5.09400269 5.07215902 5.05091124 5.03019648 5.00995936 4.99015115\n",
      " 4.97072892 4.95165485 4.93289566 4.914422   4.89620803 4.87823096\n",
      " 4.86047072 4.84290961 4.825532   4.80832414 4.79127387 4.77437046\n",
      " 4.75760444 4.74096743 4.72445204 4.70805171 4.69176067 4.67557376\n",
      " 4.65948645 4.6434947  4.62759491 4.6117839  4.59605883 4.58041716\n",
      " 4.56485664 4.54937524 4.53397114 4.51864272 4.50338852 4.4882072\n",
      " 4.47309758 4.45805857 4.44308917 4.4281885  4.41335573 4.39859009\n",
      " 4.38389089 4.36925749 4.35468928 4.34018571 4.32574625 4.31137041\n",
      " 4.29705773 4.28280776 4.2686201  4.25449434 4.24043011 4.22642704\n",
      " 4.21248478 4.19860299 4.18478134 4.17101951 4.1573172  4.1436741\n",
      " 4.13008992 4.11656437 4.10309715 4.08968801 4.07633665 4.06304282\n",
      " 4.04980625 4.03662666 4.02350381 4.01043743 3.99742728 3.9844731\n",
      " 3.97157464 3.95873165 3.9459439  3.93321113 3.9205331  3.90790958\n",
      " 3.89534032 3.8828251  3.87036367 3.8579558  3.84560125 3.83329981\n",
      " 3.82105123 3.80885529 3.79671175 3.7846204 ]\n"
     ]
    }
   ],
   "source": [
    "theta_x1, cost_history_x1 = gradient_descent(x1, y, theta_x1, alpha_x1, iterations_x1)\n",
    "print('Final value of theta =', theta_x1)\n",
    "print('cost_history =', cost_history_x1)"
   ]
  },
  {
   "cell_type": "code",
   "execution_count": 15,
   "id": "5a40e5c1-117f-4e26-b4e7-2976e5f8aef0",
   "metadata": {},
   "outputs": [
    {
     "data": {
      "image/png": "[encoded data removed]",
      "text/plain": [
       "<Figure size 720x432 with 1 Axes>"
      ]
     },
     "metadata": {
      "needs_background": "light"
     },
     "output_type": "display_data"
    }
   ],
   "source": [
    "plt.scatter(x1[:,1], y, color='red', marker= '+', label= 'Training Data')\n",
    "plt.plot(x1[:,1], x1.dot(theta_x1), color='green', label='Linear Regression')\n",
    "plt.rcParams[\"figure.figsize\"] = (10,6)\n",
    "plt.grid()\n",
    "plt.xlabel('Input x1')\n",
    "plt.ylabel('Output y')\n",
    "plt.title('Linear Regression Fit')\n",
    "plt.legend()\n",
    "plt.show()"
   ]
  },
  {
   "cell_type": "code",
   "execution_count": 16,
   "id": "eb2a73e2-fa74-4cc2-81ec-f05f4d3899f2",
   "metadata": {},
   "outputs": [
    {
     "data": {
      "text/plain": [
       "Text(0.5, 1.0, 'Convergence of gradient descent of x1')"
      ]
     },
     "execution_count": 16,
     "metadata": {},
     "output_type": "execute_result"
    },
    {
     "data": {
      "image/png": "[encoded data removed]",
      "text/plain": [
       "<Figure size 720x432 with 1 Axes>"
      ]
     },
     "metadata": {
      "needs_background": "light"
     },
     "output_type": "display_data"
    }
   ],
   "source": [
    "plt.plot(range(1, iterations_x1 + 1), cost_history_x1, color='blue')\n",
    "plt.rcParams[\"figure.figsize\"] = (10,6)\n",
    "plt.grid()\n",
    "plt.xlabel('Number of iterations')\n",
    "plt.ylabel('Cost (J)')\n",
    "plt.title('Convergence of gradient descent of x1')"
   ]
  },
  {
   "cell_type": "markdown",
   "id": "202ec267-4dea-4b81-8e4b-2021bbe31973",
   "metadata": {
    "jp-MarkdownHeadingCollapsed": true,
    "tags": []
   },
   "source": [
    "# **For x2**"
   ]
  },
  {
   "cell_type": "code",
   "execution_count": 17,
   "id": "0b764d59-4767-4d99-be00-892e991924b4",
   "metadata": {},
   "outputs": [
    {
     "data": {
      "text/plain": [
       "Text(0.5, 1.0, 'Scatter plot of explanatory varibale x2')"
      ]
     },
     "execution_count": 17,
     "metadata": {},
     "output_type": "execute_result"
    },
    {
     "data": {
      "image/png": "[encoded data removed]",
      "text/plain": [
       "<Figure size 720x432 with 1 Axes>"
      ]
     },
     "metadata": {
      "needs_background": "light"
     },
     "output_type": "display_data"
    }
   ],
   "source": [
    "plt.scatter(x2, y, color='red', marker='.')\n",
    "plt.grid()\n",
    "plt.rcParams[\"figure.figsize\"] = (10,6)\n",
    "plt.xlabel('Input x2')\n",
    "plt.ylabel('Output y')\n",
    "plt.title('Scatter plot of explanatory varibale x2')\n"
   ]
  },
  {
   "cell_type": "code",
   "execution_count": 18,
   "id": "31efb965-1fe3-4617-8b96-6241c531e058",
   "metadata": {},
   "outputs": [
    {
     "data": {
      "text/plain": [
       "array([[1.        , 0.13494949],\n",
       "       [1.        , 0.82989899],\n",
       "       [1.        , 1.52484848],\n",
       "       [1.        , 2.21979798],\n",
       "       [1.        , 2.91474747]])"
      ]
     },
     "execution_count": 18,
     "metadata": {},
     "output_type": "execute_result"
    }
   ],
   "source": [
    "x2_0 = np.ones((m, 1))\n",
    "x2_1 = x2.reshape(m, 1)\n",
    "x2 = np.hstack((x2_0, x2_1))\n",
    "x2[:5]"
   ]
  },
  {
   "cell_type": "code",
   "execution_count": 19,
   "id": "3f205061-e0c1-4158-bb3f-33b10be3c3e3",
   "metadata": {},
   "outputs": [],
   "source": [
    "theta_x2 = np.zeros(2)"
   ]
  },
  {
   "cell_type": "code",
   "execution_count": 20,
   "id": "f5d72461-287d-47a0-9dfb-577c1ecb09c3",
   "metadata": {},
   "outputs": [
    {
     "name": "stdout",
     "output_type": "stream",
     "text": [
      "Cost for given values of theta_0 and theta_1 = 5.483015861682611\n"
     ]
    }
   ],
   "source": [
    "# compute the cost for theta values\n",
    "cost_x2 = compute_cost(x2, y, theta_x2)\n",
    "print('Cost for given values of theta_0 and theta_1 =', cost_x2)"
   ]
  },
  {
   "cell_type": "code",
   "execution_count": 21,
   "id": "f28d0b51-9c11-40b0-8895-5f1715c229ec",
   "metadata": {},
   "outputs": [
    {
     "name": "stdout",
     "output_type": "stream",
     "text": [
      "Final value of theta = [0.7392744 0.5453018]\n",
      "cost_history = [5.2669085  5.07623409 4.90799786 ... 3.6201926  3.62019244 3.62019228]\n"
     ]
    }
   ],
   "source": [
    "theta_x2 = [0., 0.]\n",
    "iterations_x2 = 1500;\n",
    "alpha_x2 = 0.01;\n",
    "theta_x2, cost_history_x2 = gradient_descent(x2, y, theta_x2, alpha_x2, iterations_x2)\n",
    "print('Final value of theta =', theta_x2)\n",
    "print('cost_history =', cost_history_x2)"
   ]
  },
  {
   "cell_type": "code",
   "execution_count": 22,
   "id": "ff3e9a73-69b9-43d0-8a21-99d6a7ff9d19",
   "metadata": {},
   "outputs": [
    {
     "data": {
      "image/png": "[encoded data removed]",
      "text/plain": [
       "<Figure size 720x432 with 1 Axes>"
      ]
     },
     "metadata": {
      "needs_background": "light"
     },
     "output_type": "display_data"
    }
   ],
   "source": [
    "plt.scatter(x2[:,1], y, color='red', marker= '+', label= 'Training Data')\n",
    "plt.plot(x2[:,1], x2.dot(theta_x2), color='green', label='Linear Regression')\n",
    "plt.rcParams[\"figure.figsize\"] = (10,6)\n",
    "plt.grid()\n",
    "plt.xlabel('Input x2')\n",
    "plt.ylabel('Output y')\n",
    "plt.title('Linear Regression Fit')\n",
    "plt.legend()\n",
    "plt.show()"
   ]
  },
  {
   "cell_type": "code",
   "execution_count": 23,
   "id": "0c95d490-0f8e-4710-a133-0ffcd4987ea1",
   "metadata": {},
   "outputs": [
    {
     "data": {
      "text/plain": [
       "Text(0.5, 1.0, 'Convergence of gradient descent of x2')"
      ]
     },
     "execution_count": 23,
     "metadata": {},
     "output_type": "execute_result"
    },
    {
     "data": {
      "image/png": "[encoded data removed]",
      "text/plain": [
       "<Figure size 720x432 with 1 Axes>"
      ]
     },
     "metadata": {
      "needs_background": "light"
     },
     "output_type": "display_data"
    }
   ],
   "source": [
    "plt.plot(range(1, iterations_x2 + 1), cost_history_x2, color='blue')\n",
    "plt.rcParams[\"figure.figsize\"] = (10,6)\n",
    "plt.grid()\n",
    "plt.xlabel('Number of iterations')\n",
    "plt.ylabel('Cost (J)')\n",
    "plt.title('Convergence of gradient descent of x2')"
   ]
  },
  {
   "cell_type": "markdown",
   "id": "066d5efa-742c-4c74-a512-fefe23340fea",
   "metadata": {
    "tags": []
   },
   "source": [
    "# **For x3**"
   ]
  },
  {
   "cell_type": "code",
   "execution_count": 24,
   "id": "1a04be44-b4a3-483e-85ed-1bd04dd0b7ac",
   "metadata": {},
   "outputs": [
    {
     "data": {
      "text/plain": [
       "Text(0.5, 1.0, 'Scatter plot of explanatory varibale x3')"
      ]
     },
     "execution_count": 24,
     "metadata": {},
     "output_type": "execute_result"
    },
    {
     "data": {
      "image/png": "[encoded data removed]",
      "text/plain": [
       "<Figure size 720x432 with 1 Axes>"
      ]
     },
     "metadata": {
      "needs_background": "light"
     },
     "output_type": "display_data"
    }
   ],
   "source": [
    "plt.scatter(x3, y, color='red', marker='.')\n",
    "plt.grid()\n",
    "plt.rcParams[\"figure.figsize\"] = (10,6)\n",
    "plt.xlabel('Input x3')\n",
    "plt.ylabel('Output y')\n",
    "plt.title('Scatter plot of explanatory varibale x3')\n"
   ]
  },
  {
   "cell_type": "code",
   "execution_count": 25,
   "id": "c258f65e-e456-476e-b0c7-df7c8ac9c5fb",
   "metadata": {},
   "outputs": [
    {
     "data": {
      "text/plain": [
       "array([[1.        , 0.88848485],\n",
       "       [1.        , 1.3369697 ],\n",
       "       [1.        , 1.78545455],\n",
       "       [1.        , 2.23393939],\n",
       "       [1.        , 2.68242424]])"
      ]
     },
     "execution_count": 25,
     "metadata": {},
     "output_type": "execute_result"
    }
   ],
   "source": [
    "x3_0 = np.ones((m, 1))\n",
    "x3_1 = x3.reshape(m, 1)\n",
    "x3 = np.hstack((x3_0, x3_1))\n",
    "x3[:5]"
   ]
  },
  {
   "cell_type": "code",
   "execution_count": 26,
   "id": "ec77bf83-f215-400a-b88f-4089c01c2e89",
   "metadata": {},
   "outputs": [],
   "source": [
    "theta_x3 = np.zeros(2)"
   ]
  },
  {
   "cell_type": "code",
   "execution_count": 27,
   "id": "1689c984-e407-4a3d-b065-acc106675415",
   "metadata": {},
   "outputs": [
    {
     "name": "stdout",
     "output_type": "stream",
     "text": [
      "Cost for given values of theta_0 and theta_1 = 5.483015861682611\n"
     ]
    }
   ],
   "source": [
    "# compute the cost for theta values\n",
    "cost_x3 = compute_cost(x3, y, theta_x3)\n",
    "print('Cost for given values of theta_0 and theta_1 =', cost_x3)"
   ]
  },
  {
   "cell_type": "code",
   "execution_count": 28,
   "id": "4066b182-4bb9-48e0-a9bd-4f173cb6fb34",
   "metadata": {},
   "outputs": [
    {
     "name": "stdout",
     "output_type": "stream",
     "text": [
      "Final value of theta = [ 2.71943299 -0.46300206]\n",
      "cost_history = [5.366643   5.26340773 5.17178032 ... 3.65144217 3.65143712 3.6514321 ]\n"
     ]
    }
   ],
   "source": [
    "theta_x3 = [0., 0.]\n",
    "iterations_x3 = 1500;\n",
    "alpha_x3 = 0.01;\n",
    "theta_x3, cost_history_x3 = gradient_descent(x3, y, theta_x3, alpha_x3, iterations_x3)\n",
    "print('Final value of theta =', theta_x3)\n",
    "print('cost_history =', cost_history_x3)"
   ]
  },
  {
   "cell_type": "code",
   "execution_count": 29,
   "id": "f5a7c5ba-b7b6-4bf5-93ea-d660f6f80b5f",
   "metadata": {},
   "outputs": [
    {
     "data": {
      "image/png": "[encoded data removed]",
      "text/plain": [
       "<Figure size 720x432 with 1 Axes>"
      ]
     },
     "metadata": {
      "needs_background": "light"
     },
     "output_type": "display_data"
    }
   ],
   "source": [
    "plt.scatter(x3[:,1], y, color='red', marker= '+', label= 'Training Data')\n",
    "plt.plot(x3[:,1], x3.dot(theta_x3), color='green', label='Linear Regression')\n",
    "plt.rcParams[\"figure.figsize\"] = (10,6)\n",
    "plt.grid()\n",
    "plt.xlabel('Input x3')\n",
    "plt.ylabel('Output y')\n",
    "plt.title('Linear Regression Fit')\n",
    "plt.legend()\n",
    "plt.show()"
   ]
  },
  {
   "cell_type": "code",
   "execution_count": 30,
   "id": "11a7e224-79f9-48f9-a1c1-47df5cbf4310",
   "metadata": {},
   "outputs": [
    {
     "data": {
      "text/plain": [
       "Text(0.5, 1.0, 'Convergence of gradient descent of x3')"
      ]
     },
     "execution_count": 30,
     "metadata": {},
     "output_type": "execute_result"
    },
    {
     "data": {
      "image/png": "[encoded data removed]",
      "text/plain": [
       "<Figure size 720x432 with 1 Axes>"
      ]
     },
     "metadata": {
      "needs_background": "light"
     },
     "output_type": "display_data"
    }
   ],
   "source": [
    "plt.plot(range(1, iterations_x3 + 1), cost_history_x3, color='blue')\n",
    "plt.rcParams[\"figure.figsize\"] = (10,6)\n",
    "plt.grid()\n",
    "plt.xlabel('Number of iterations')\n",
    "plt.ylabel('Cost (J)')\n",
    "plt.title('Convergence of gradient descent of x3')"
   ]
  },
  {
   "cell_type": "code",
   "execution_count": null,
   "id": "ddf2f24b-f138-4010-8f69-41a0d33bdffa",
   "metadata": {},
   "outputs": [],
   "source": []
  }
 ],
 "metadata": {
  "kernelspec": {
   "display_name": "Python 3 (ipykernel)",
   "language": "python",
   "name": "python3"
  },
  "language_info": {
   "codemirror_mode": {
    "name": "ipython",
    "version": 3
   },
   "file_extension": ".py",
   "mimetype": "text/x-python",
   "name": "python",
   "nbconvert_exporter": "python",
   "pygments_lexer": "ipython3",
   "version": "3.8.10"
  }
 },
 "nbformat": 4,
 "nbformat_minor": 5
}
