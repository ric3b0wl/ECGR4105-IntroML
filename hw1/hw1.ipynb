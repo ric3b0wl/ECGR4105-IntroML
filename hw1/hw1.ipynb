{
 "cells": [
  {
   "cell_type": "markdown",
   "id": "41bc8a81-3fde-4fa2-8b06-f6555db49109",
   "metadata": {},
   "source": [
    "> In this homework, we will use US Housing dataset. You will develop linear regression with gradient decent algorithm to estimate the price of the house. In this homework, we will use 70% and 30% split between training and evaluation (test) sets across all problems. (Note: You cannot use the built-in function from ML libraries for gradient descent, you must implement it yourself. However, you can use built-in function for normalization/standardization)\n",
    "\n",
    " "
   ]
  },
  {
   "cell_type": "markdown",
   "id": "923d5a5c-beef-48a9-9e80-f0f9f42fdb69",
   "metadata": {},
   "source": [
    "# Problem 1 (30 points)\n",
    "\n",
    "#### 1a) Develop a gradient decent training and evaluation code that predicts housing price based on the following input variables:\n",
    "\n",
    "- area\n",
    "- bedrooms\n",
    "- bathrooms \n",
    "- stories\n",
    "- parking\n",
    "\n",
    "Identify the best parameters for your linear regression model, based on the above input variables. \n",
    "\n",
    "Plot the training and validation losses (in a single graph, but two different lines). For the learning rate, explore different values between 0.1 and 0.01 (your choice). Initialize your parameters (thetas to zero). For the training iteration, choose what you believe fits the best. "
   ]
  },
  {
   "cell_type": "code",
   "execution_count": null,
   "id": "3d9f8fe1-03dd-435f-91e4-c34676bbebd8",
   "metadata": {},
   "outputs": [],
   "source": []
  },
  {
   "cell_type": "markdown",
   "id": "5cf42d2c-1815-47df-a1d1-8be4a967f6cf",
   "metadata": {},
   "source": [
    "#### 1b) Develop a gradient decent training and evaluation code that predicts housing price based on the following input variables:\n",
    "\n",
    "Area, bedrooms, bathrooms, stories, mainroad, guestroom, basement, hotwaterheating, airconditioning, parking, prefarea\n",
    "\n",
    "Identify the best parameters for your linear regression model, based on the above input variables. \n",
    "\n",
    "Plot the training and validation losses (in a single graph, but two different lines) over your training iteration. Compare your linear regression model against problem 1 a. For the learning rate, explore different values between 0.1 and 0.01 (your choice). Initialize your parameters (thetas to zero). For the training iteration, choose what you believe fits the best. "
   ]
  },
  {
   "cell_type": "code",
   "execution_count": null,
   "id": "0ba408a4-9a5e-4baf-ae2a-7317bc88ed96",
   "metadata": {},
   "outputs": [],
   "source": []
  },
  {
   "cell_type": "markdown",
   "id": "bc8d8d3a-b29e-4ca0-82ac-abef33db0270",
   "metadata": {},
   "source": [
    "# Problem 2 (30 points)\n",
    "#### 2a) Repeat problem 1 a, this time with input normalization and input standardization as part of your pre-processing logic. You need to perform two separate trainings for standardization and normalization. \n",
    "\n",
    "Plot the training and validation losses for both training and validation set based on input standardization and input normalization. Compare your training accuracy between both scaling approaches as well as the baseline training in problem 1 a. Which input scaling achieves the best training? Explain your results.\n",
    "\n",
    " "
   ]
  },
  {
   "cell_type": "markdown",
   "id": "b982db31-bfd6-4cee-9d64-aaba28388670",
   "metadata": {},
   "source": [
    "#### 2b) Repeat problem 1 b, this time with input normalization and input standardization as part of your pre-processing logic. You need to perform two separate trainings for standardization and normalization. \n",
    "\n",
    "Plot the training and validation losses for both training and validation set based on input standardization and input normalization. Compare your training accuracy between both scaling approaches as well as the baseline training in problem 1 b. Which input scaling achieves the best training? Explain your results."
   ]
  },
  {
   "cell_type": "code",
   "execution_count": null,
   "id": "f6489c19-e9c6-4afa-8ab5-29141bfced0c",
   "metadata": {},
   "outputs": [],
   "source": []
  },
  {
   "cell_type": "markdown",
   "id": "ed8cef82-537b-48e2-879b-f445c361c44b",
   "metadata": {},
   "source": [
    "# Problem 3 (40 points)\n",
    "\n",
    "#### 3a) Repeat problem 2 a, this time by adding parameters penalty to your loss function. Note that in this case, you need to modify the gradient decent logic for your training set, but you don’t need to change your loss for the evaluation set.  \n",
    "\n",
    "Plot your results (both training and evaluation losses) for the best input scaling approach (standardization or normalization). Explain your results and compare them against problem 2 a. "
   ]
  },
  {
   "cell_type": "markdown",
   "id": "cee9c006-c2f0-4f37-b784-2521cf5c4436",
   "metadata": {},
   "source": [
    "#### 3b) Repeat problem 2 b, this time by adding parameters penalty to your loss function. Note that in this case, you need to modify the gradient decent logic for your training set, but you don’t need to change your loss for the evaluation set.  \n",
    "\n",
    "Plot your results (both training and evaluation losses) for the best input scaling approach (standardization or normalization). Explain your results and compare them against problem 2 b. "
   ]
  },
  {
   "cell_type": "code",
   "execution_count": null,
   "id": "421b0d02-d14f-4964-8378-879fcecd1d5b",
   "metadata": {},
   "outputs": [],
   "source": []
  }
 ],
 "metadata": {
  "kernelspec": {
   "display_name": "Python 3 (ipykernel)",
   "language": "python",
   "name": "python3"
  },
  "language_info": {
   "codemirror_mode": {
    "name": "ipython",
    "version": 3
   },
   "file_extension": ".py",
   "mimetype": "text/x-python",
   "name": "python",
   "nbconvert_exporter": "python",
   "pygments_lexer": "ipython3",
   "version": "3.8.10"
  }
 },
 "nbformat": 4,
 "nbformat_minor": 5
}
