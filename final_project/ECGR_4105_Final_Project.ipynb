{
 "cells": [
  {
   "cell_type": "code",
   "execution_count": 1,
   "id": "f8ef18c2",
   "metadata": {},
   "outputs": [],
   "source": [
    "#Michael Lust : 801094861\n",
    "#ECGR 4105 Intro to Machine Learning\n",
    "#December 8, 2021\n",
    "#Final Project"
   ]
  },
  {
   "cell_type": "code",
   "execution_count": 2,
   "id": "6c3763e2",
   "metadata": {},
   "outputs": [],
   "source": [
    "import numpy as np \n",
    "import matplotlib.pyplot as plt \n",
    "import pandas as pd \n",
    "from sklearn.discriminant_analysis import LinearDiscriminantAnalysis \n",
    "from sklearn.metrics import accuracy_score \n",
    "from sklearn.metrics import confusion_matrix "
   ]
  },
  {
   "cell_type": "code",
   "execution_count": 3,
   "id": "b6c4481f",
   "metadata": {},
   "outputs": [],
   "source": [
    "stroke = pd.read_csv(\"dataset_250K.csv\")"
   ]
  },
  {
   "cell_type": "code",
   "execution_count": 4,
   "id": "fa268197",
   "metadata": {},
   "outputs": [
    {
     "data": {
      "text/html": [
       "<div>\n",
       "<style scoped>\n",
       "    .dataframe tbody tr th:only-of-type {\n",
       "        vertical-align: middle;\n",
       "    }\n",
       "\n",
       "    .dataframe tbody tr th {\n",
       "        vertical-align: top;\n",
       "    }\n",
       "\n",
       "    .dataframe thead th {\n",
       "        text-align: right;\n",
       "    }\n",
       "</style>\n",
       "<table border=\"1\" class=\"dataframe\">\n",
       "  <thead>\n",
       "    <tr style=\"text-align: right;\">\n",
       "      <th></th>\n",
       "      <th>Diabetes_012</th>\n",
       "      <th>HighBP</th>\n",
       "      <th>HighChol</th>\n",
       "      <th>CholCheck</th>\n",
       "      <th>BMI</th>\n",
       "      <th>Smoker</th>\n",
       "      <th>Stroke</th>\n",
       "      <th>HeartDiseaseorAttack</th>\n",
       "      <th>PhysActivity</th>\n",
       "      <th>Fruits</th>\n",
       "      <th>...</th>\n",
       "      <th>AnyHealthcare</th>\n",
       "      <th>NoDocbcCost</th>\n",
       "      <th>GenHlth</th>\n",
       "      <th>MentHlth</th>\n",
       "      <th>PhysHlth</th>\n",
       "      <th>DiffWalk</th>\n",
       "      <th>Sex</th>\n",
       "      <th>Age</th>\n",
       "      <th>Education</th>\n",
       "      <th>Income</th>\n",
       "    </tr>\n",
       "  </thead>\n",
       "  <tbody>\n",
       "    <tr>\n",
       "      <th>0</th>\n",
       "      <td>0.0</td>\n",
       "      <td>1.0</td>\n",
       "      <td>1.0</td>\n",
       "      <td>1.0</td>\n",
       "      <td>40.0</td>\n",
       "      <td>1.0</td>\n",
       "      <td>0.0</td>\n",
       "      <td>0.0</td>\n",
       "      <td>0.0</td>\n",
       "      <td>0.0</td>\n",
       "      <td>...</td>\n",
       "      <td>1.0</td>\n",
       "      <td>0.0</td>\n",
       "      <td>5.0</td>\n",
       "      <td>18.0</td>\n",
       "      <td>15.0</td>\n",
       "      <td>1.0</td>\n",
       "      <td>0.0</td>\n",
       "      <td>9.0</td>\n",
       "      <td>4.0</td>\n",
       "      <td>3.0</td>\n",
       "    </tr>\n",
       "    <tr>\n",
       "      <th>1</th>\n",
       "      <td>0.0</td>\n",
       "      <td>0.0</td>\n",
       "      <td>0.0</td>\n",
       "      <td>0.0</td>\n",
       "      <td>25.0</td>\n",
       "      <td>1.0</td>\n",
       "      <td>0.0</td>\n",
       "      <td>0.0</td>\n",
       "      <td>1.0</td>\n",
       "      <td>0.0</td>\n",
       "      <td>...</td>\n",
       "      <td>0.0</td>\n",
       "      <td>1.0</td>\n",
       "      <td>3.0</td>\n",
       "      <td>0.0</td>\n",
       "      <td>0.0</td>\n",
       "      <td>0.0</td>\n",
       "      <td>0.0</td>\n",
       "      <td>7.0</td>\n",
       "      <td>6.0</td>\n",
       "      <td>1.0</td>\n",
       "    </tr>\n",
       "    <tr>\n",
       "      <th>2</th>\n",
       "      <td>0.0</td>\n",
       "      <td>1.0</td>\n",
       "      <td>1.0</td>\n",
       "      <td>1.0</td>\n",
       "      <td>28.0</td>\n",
       "      <td>0.0</td>\n",
       "      <td>0.0</td>\n",
       "      <td>0.0</td>\n",
       "      <td>0.0</td>\n",
       "      <td>1.0</td>\n",
       "      <td>...</td>\n",
       "      <td>1.0</td>\n",
       "      <td>1.0</td>\n",
       "      <td>5.0</td>\n",
       "      <td>30.0</td>\n",
       "      <td>30.0</td>\n",
       "      <td>1.0</td>\n",
       "      <td>0.0</td>\n",
       "      <td>9.0</td>\n",
       "      <td>4.0</td>\n",
       "      <td>8.0</td>\n",
       "    </tr>\n",
       "    <tr>\n",
       "      <th>3</th>\n",
       "      <td>0.0</td>\n",
       "      <td>1.0</td>\n",
       "      <td>0.0</td>\n",
       "      <td>1.0</td>\n",
       "      <td>27.0</td>\n",
       "      <td>0.0</td>\n",
       "      <td>0.0</td>\n",
       "      <td>0.0</td>\n",
       "      <td>1.0</td>\n",
       "      <td>1.0</td>\n",
       "      <td>...</td>\n",
       "      <td>1.0</td>\n",
       "      <td>0.0</td>\n",
       "      <td>2.0</td>\n",
       "      <td>0.0</td>\n",
       "      <td>0.0</td>\n",
       "      <td>0.0</td>\n",
       "      <td>0.0</td>\n",
       "      <td>11.0</td>\n",
       "      <td>3.0</td>\n",
       "      <td>6.0</td>\n",
       "    </tr>\n",
       "    <tr>\n",
       "      <th>4</th>\n",
       "      <td>0.0</td>\n",
       "      <td>1.0</td>\n",
       "      <td>1.0</td>\n",
       "      <td>1.0</td>\n",
       "      <td>24.0</td>\n",
       "      <td>0.0</td>\n",
       "      <td>0.0</td>\n",
       "      <td>0.0</td>\n",
       "      <td>1.0</td>\n",
       "      <td>1.0</td>\n",
       "      <td>...</td>\n",
       "      <td>1.0</td>\n",
       "      <td>0.0</td>\n",
       "      <td>2.0</td>\n",
       "      <td>3.0</td>\n",
       "      <td>0.0</td>\n",
       "      <td>0.0</td>\n",
       "      <td>0.0</td>\n",
       "      <td>11.0</td>\n",
       "      <td>5.0</td>\n",
       "      <td>4.0</td>\n",
       "    </tr>\n",
       "  </tbody>\n",
       "</table>\n",
       "<p>5 rows × 22 columns</p>\n",
       "</div>"
      ],
      "text/plain": [
       "   Diabetes_012  HighBP  HighChol  CholCheck   BMI  Smoker  Stroke  \\\n",
       "0           0.0     1.0       1.0        1.0  40.0     1.0     0.0   \n",
       "1           0.0     0.0       0.0        0.0  25.0     1.0     0.0   \n",
       "2           0.0     1.0       1.0        1.0  28.0     0.0     0.0   \n",
       "3           0.0     1.0       0.0        1.0  27.0     0.0     0.0   \n",
       "4           0.0     1.0       1.0        1.0  24.0     0.0     0.0   \n",
       "\n",
       "   HeartDiseaseorAttack  PhysActivity  Fruits  ...  AnyHealthcare  \\\n",
       "0                   0.0           0.0     0.0  ...            1.0   \n",
       "1                   0.0           1.0     0.0  ...            0.0   \n",
       "2                   0.0           0.0     1.0  ...            1.0   \n",
       "3                   0.0           1.0     1.0  ...            1.0   \n",
       "4                   0.0           1.0     1.0  ...            1.0   \n",
       "\n",
       "   NoDocbcCost  GenHlth  MentHlth  PhysHlth  DiffWalk  Sex   Age  Education  \\\n",
       "0          0.0      5.0      18.0      15.0       1.0  0.0   9.0        4.0   \n",
       "1          1.0      3.0       0.0       0.0       0.0  0.0   7.0        6.0   \n",
       "2          1.0      5.0      30.0      30.0       1.0  0.0   9.0        4.0   \n",
       "3          0.0      2.0       0.0       0.0       0.0  0.0  11.0        3.0   \n",
       "4          0.0      2.0       3.0       0.0       0.0  0.0  11.0        5.0   \n",
       "\n",
       "   Income  \n",
       "0     3.0  \n",
       "1     1.0  \n",
       "2     8.0  \n",
       "3     6.0  \n",
       "4     4.0  \n",
       "\n",
       "[5 rows x 22 columns]"
      ]
     },
     "execution_count": 4,
     "metadata": {},
     "output_type": "execute_result"
    }
   ],
   "source": [
    "stroke.head()"
   ]
  },
  {
   "cell_type": "code",
   "execution_count": 5,
   "id": "d1cf7b1a",
   "metadata": {},
   "outputs": [
    {
     "name": "stdout",
     "output_type": "stream",
     "text": [
      "253680\n"
     ]
    },
    {
     "data": {
      "text/html": [
       "<div>\n",
       "<style scoped>\n",
       "    .dataframe tbody tr th:only-of-type {\n",
       "        vertical-align: middle;\n",
       "    }\n",
       "\n",
       "    .dataframe tbody tr th {\n",
       "        vertical-align: top;\n",
       "    }\n",
       "\n",
       "    .dataframe thead th {\n",
       "        text-align: right;\n",
       "    }\n",
       "</style>\n",
       "<table border=\"1\" class=\"dataframe\">\n",
       "  <thead>\n",
       "    <tr style=\"text-align: right;\">\n",
       "      <th></th>\n",
       "      <th>Diabetes_012</th>\n",
       "      <th>HighBP</th>\n",
       "      <th>HighChol</th>\n",
       "      <th>CholCheck</th>\n",
       "      <th>BMI</th>\n",
       "      <th>Smoker</th>\n",
       "      <th>Stroke</th>\n",
       "      <th>HeartDiseaseorAttack</th>\n",
       "      <th>PhysActivity</th>\n",
       "      <th>Fruits</th>\n",
       "      <th>...</th>\n",
       "      <th>AnyHealthcare</th>\n",
       "      <th>NoDocbcCost</th>\n",
       "      <th>GenHlth</th>\n",
       "      <th>MentHlth</th>\n",
       "      <th>PhysHlth</th>\n",
       "      <th>DiffWalk</th>\n",
       "      <th>Sex</th>\n",
       "      <th>Age</th>\n",
       "      <th>Education</th>\n",
       "      <th>Income</th>\n",
       "    </tr>\n",
       "  </thead>\n",
       "  <tbody>\n",
       "    <tr>\n",
       "      <th>0</th>\n",
       "      <td>0.0</td>\n",
       "      <td>1.0</td>\n",
       "      <td>1.0</td>\n",
       "      <td>1.0</td>\n",
       "      <td>40.0</td>\n",
       "      <td>1.0</td>\n",
       "      <td>0.0</td>\n",
       "      <td>0.0</td>\n",
       "      <td>0.0</td>\n",
       "      <td>0.0</td>\n",
       "      <td>...</td>\n",
       "      <td>1.0</td>\n",
       "      <td>0.0</td>\n",
       "      <td>5.0</td>\n",
       "      <td>18.0</td>\n",
       "      <td>15.0</td>\n",
       "      <td>1.0</td>\n",
       "      <td>0.0</td>\n",
       "      <td>9.0</td>\n",
       "      <td>4.0</td>\n",
       "      <td>3.0</td>\n",
       "    </tr>\n",
       "    <tr>\n",
       "      <th>1</th>\n",
       "      <td>0.0</td>\n",
       "      <td>0.0</td>\n",
       "      <td>0.0</td>\n",
       "      <td>0.0</td>\n",
       "      <td>25.0</td>\n",
       "      <td>1.0</td>\n",
       "      <td>0.0</td>\n",
       "      <td>0.0</td>\n",
       "      <td>1.0</td>\n",
       "      <td>0.0</td>\n",
       "      <td>...</td>\n",
       "      <td>0.0</td>\n",
       "      <td>1.0</td>\n",
       "      <td>3.0</td>\n",
       "      <td>0.0</td>\n",
       "      <td>0.0</td>\n",
       "      <td>0.0</td>\n",
       "      <td>0.0</td>\n",
       "      <td>7.0</td>\n",
       "      <td>6.0</td>\n",
       "      <td>1.0</td>\n",
       "    </tr>\n",
       "    <tr>\n",
       "      <th>2</th>\n",
       "      <td>0.0</td>\n",
       "      <td>1.0</td>\n",
       "      <td>1.0</td>\n",
       "      <td>1.0</td>\n",
       "      <td>28.0</td>\n",
       "      <td>0.0</td>\n",
       "      <td>0.0</td>\n",
       "      <td>0.0</td>\n",
       "      <td>0.0</td>\n",
       "      <td>1.0</td>\n",
       "      <td>...</td>\n",
       "      <td>1.0</td>\n",
       "      <td>1.0</td>\n",
       "      <td>5.0</td>\n",
       "      <td>30.0</td>\n",
       "      <td>30.0</td>\n",
       "      <td>1.0</td>\n",
       "      <td>0.0</td>\n",
       "      <td>9.0</td>\n",
       "      <td>4.0</td>\n",
       "      <td>8.0</td>\n",
       "    </tr>\n",
       "    <tr>\n",
       "      <th>3</th>\n",
       "      <td>0.0</td>\n",
       "      <td>1.0</td>\n",
       "      <td>0.0</td>\n",
       "      <td>1.0</td>\n",
       "      <td>27.0</td>\n",
       "      <td>0.0</td>\n",
       "      <td>0.0</td>\n",
       "      <td>0.0</td>\n",
       "      <td>1.0</td>\n",
       "      <td>1.0</td>\n",
       "      <td>...</td>\n",
       "      <td>1.0</td>\n",
       "      <td>0.0</td>\n",
       "      <td>2.0</td>\n",
       "      <td>0.0</td>\n",
       "      <td>0.0</td>\n",
       "      <td>0.0</td>\n",
       "      <td>0.0</td>\n",
       "      <td>11.0</td>\n",
       "      <td>3.0</td>\n",
       "      <td>6.0</td>\n",
       "    </tr>\n",
       "    <tr>\n",
       "      <th>4</th>\n",
       "      <td>0.0</td>\n",
       "      <td>1.0</td>\n",
       "      <td>1.0</td>\n",
       "      <td>1.0</td>\n",
       "      <td>24.0</td>\n",
       "      <td>0.0</td>\n",
       "      <td>0.0</td>\n",
       "      <td>0.0</td>\n",
       "      <td>1.0</td>\n",
       "      <td>1.0</td>\n",
       "      <td>...</td>\n",
       "      <td>1.0</td>\n",
       "      <td>0.0</td>\n",
       "      <td>2.0</td>\n",
       "      <td>3.0</td>\n",
       "      <td>0.0</td>\n",
       "      <td>0.0</td>\n",
       "      <td>0.0</td>\n",
       "      <td>11.0</td>\n",
       "      <td>5.0</td>\n",
       "      <td>4.0</td>\n",
       "    </tr>\n",
       "    <tr>\n",
       "      <th>5</th>\n",
       "      <td>0.0</td>\n",
       "      <td>1.0</td>\n",
       "      <td>1.0</td>\n",
       "      <td>1.0</td>\n",
       "      <td>25.0</td>\n",
       "      <td>1.0</td>\n",
       "      <td>0.0</td>\n",
       "      <td>0.0</td>\n",
       "      <td>1.0</td>\n",
       "      <td>1.0</td>\n",
       "      <td>...</td>\n",
       "      <td>1.0</td>\n",
       "      <td>0.0</td>\n",
       "      <td>2.0</td>\n",
       "      <td>0.0</td>\n",
       "      <td>2.0</td>\n",
       "      <td>0.0</td>\n",
       "      <td>1.0</td>\n",
       "      <td>10.0</td>\n",
       "      <td>6.0</td>\n",
       "      <td>8.0</td>\n",
       "    </tr>\n",
       "    <tr>\n",
       "      <th>6</th>\n",
       "      <td>0.0</td>\n",
       "      <td>1.0</td>\n",
       "      <td>0.0</td>\n",
       "      <td>1.0</td>\n",
       "      <td>30.0</td>\n",
       "      <td>1.0</td>\n",
       "      <td>0.0</td>\n",
       "      <td>0.0</td>\n",
       "      <td>0.0</td>\n",
       "      <td>0.0</td>\n",
       "      <td>...</td>\n",
       "      <td>1.0</td>\n",
       "      <td>0.0</td>\n",
       "      <td>3.0</td>\n",
       "      <td>0.0</td>\n",
       "      <td>14.0</td>\n",
       "      <td>0.0</td>\n",
       "      <td>0.0</td>\n",
       "      <td>9.0</td>\n",
       "      <td>6.0</td>\n",
       "      <td>7.0</td>\n",
       "    </tr>\n",
       "    <tr>\n",
       "      <th>7</th>\n",
       "      <td>0.0</td>\n",
       "      <td>1.0</td>\n",
       "      <td>1.0</td>\n",
       "      <td>1.0</td>\n",
       "      <td>25.0</td>\n",
       "      <td>1.0</td>\n",
       "      <td>0.0</td>\n",
       "      <td>0.0</td>\n",
       "      <td>1.0</td>\n",
       "      <td>0.0</td>\n",
       "      <td>...</td>\n",
       "      <td>1.0</td>\n",
       "      <td>0.0</td>\n",
       "      <td>3.0</td>\n",
       "      <td>0.0</td>\n",
       "      <td>0.0</td>\n",
       "      <td>1.0</td>\n",
       "      <td>0.0</td>\n",
       "      <td>11.0</td>\n",
       "      <td>4.0</td>\n",
       "      <td>4.0</td>\n",
       "    </tr>\n",
       "    <tr>\n",
       "      <th>8</th>\n",
       "      <td>2.0</td>\n",
       "      <td>1.0</td>\n",
       "      <td>1.0</td>\n",
       "      <td>1.0</td>\n",
       "      <td>30.0</td>\n",
       "      <td>1.0</td>\n",
       "      <td>0.0</td>\n",
       "      <td>1.0</td>\n",
       "      <td>0.0</td>\n",
       "      <td>1.0</td>\n",
       "      <td>...</td>\n",
       "      <td>1.0</td>\n",
       "      <td>0.0</td>\n",
       "      <td>5.0</td>\n",
       "      <td>30.0</td>\n",
       "      <td>30.0</td>\n",
       "      <td>1.0</td>\n",
       "      <td>0.0</td>\n",
       "      <td>9.0</td>\n",
       "      <td>5.0</td>\n",
       "      <td>1.0</td>\n",
       "    </tr>\n",
       "    <tr>\n",
       "      <th>9</th>\n",
       "      <td>0.0</td>\n",
       "      <td>0.0</td>\n",
       "      <td>0.0</td>\n",
       "      <td>1.0</td>\n",
       "      <td>24.0</td>\n",
       "      <td>0.0</td>\n",
       "      <td>0.0</td>\n",
       "      <td>0.0</td>\n",
       "      <td>0.0</td>\n",
       "      <td>0.0</td>\n",
       "      <td>...</td>\n",
       "      <td>1.0</td>\n",
       "      <td>0.0</td>\n",
       "      <td>2.0</td>\n",
       "      <td>0.0</td>\n",
       "      <td>0.0</td>\n",
       "      <td>0.0</td>\n",
       "      <td>1.0</td>\n",
       "      <td>8.0</td>\n",
       "      <td>4.0</td>\n",
       "      <td>3.0</td>\n",
       "    </tr>\n",
       "    <tr>\n",
       "      <th>10</th>\n",
       "      <td>2.0</td>\n",
       "      <td>0.0</td>\n",
       "      <td>0.0</td>\n",
       "      <td>1.0</td>\n",
       "      <td>25.0</td>\n",
       "      <td>1.0</td>\n",
       "      <td>0.0</td>\n",
       "      <td>0.0</td>\n",
       "      <td>1.0</td>\n",
       "      <td>1.0</td>\n",
       "      <td>...</td>\n",
       "      <td>1.0</td>\n",
       "      <td>0.0</td>\n",
       "      <td>3.0</td>\n",
       "      <td>0.0</td>\n",
       "      <td>0.0</td>\n",
       "      <td>0.0</td>\n",
       "      <td>1.0</td>\n",
       "      <td>13.0</td>\n",
       "      <td>6.0</td>\n",
       "      <td>8.0</td>\n",
       "    </tr>\n",
       "    <tr>\n",
       "      <th>11</th>\n",
       "      <td>0.0</td>\n",
       "      <td>1.0</td>\n",
       "      <td>1.0</td>\n",
       "      <td>1.0</td>\n",
       "      <td>34.0</td>\n",
       "      <td>1.0</td>\n",
       "      <td>0.0</td>\n",
       "      <td>0.0</td>\n",
       "      <td>0.0</td>\n",
       "      <td>1.0</td>\n",
       "      <td>...</td>\n",
       "      <td>1.0</td>\n",
       "      <td>0.0</td>\n",
       "      <td>3.0</td>\n",
       "      <td>0.0</td>\n",
       "      <td>30.0</td>\n",
       "      <td>1.0</td>\n",
       "      <td>0.0</td>\n",
       "      <td>10.0</td>\n",
       "      <td>5.0</td>\n",
       "      <td>1.0</td>\n",
       "    </tr>\n",
       "    <tr>\n",
       "      <th>12</th>\n",
       "      <td>0.0</td>\n",
       "      <td>0.0</td>\n",
       "      <td>0.0</td>\n",
       "      <td>1.0</td>\n",
       "      <td>26.0</td>\n",
       "      <td>1.0</td>\n",
       "      <td>0.0</td>\n",
       "      <td>0.0</td>\n",
       "      <td>0.0</td>\n",
       "      <td>0.0</td>\n",
       "      <td>...</td>\n",
       "      <td>1.0</td>\n",
       "      <td>0.0</td>\n",
       "      <td>3.0</td>\n",
       "      <td>0.0</td>\n",
       "      <td>15.0</td>\n",
       "      <td>0.0</td>\n",
       "      <td>0.0</td>\n",
       "      <td>7.0</td>\n",
       "      <td>5.0</td>\n",
       "      <td>7.0</td>\n",
       "    </tr>\n",
       "    <tr>\n",
       "      <th>13</th>\n",
       "      <td>2.0</td>\n",
       "      <td>1.0</td>\n",
       "      <td>1.0</td>\n",
       "      <td>1.0</td>\n",
       "      <td>28.0</td>\n",
       "      <td>0.0</td>\n",
       "      <td>0.0</td>\n",
       "      <td>0.0</td>\n",
       "      <td>0.0</td>\n",
       "      <td>0.0</td>\n",
       "      <td>...</td>\n",
       "      <td>1.0</td>\n",
       "      <td>0.0</td>\n",
       "      <td>4.0</td>\n",
       "      <td>0.0</td>\n",
       "      <td>0.0</td>\n",
       "      <td>1.0</td>\n",
       "      <td>0.0</td>\n",
       "      <td>11.0</td>\n",
       "      <td>4.0</td>\n",
       "      <td>6.0</td>\n",
       "    </tr>\n",
       "    <tr>\n",
       "      <th>14</th>\n",
       "      <td>0.0</td>\n",
       "      <td>0.0</td>\n",
       "      <td>1.0</td>\n",
       "      <td>1.0</td>\n",
       "      <td>33.0</td>\n",
       "      <td>1.0</td>\n",
       "      <td>1.0</td>\n",
       "      <td>0.0</td>\n",
       "      <td>1.0</td>\n",
       "      <td>0.0</td>\n",
       "      <td>...</td>\n",
       "      <td>1.0</td>\n",
       "      <td>1.0</td>\n",
       "      <td>4.0</td>\n",
       "      <td>30.0</td>\n",
       "      <td>28.0</td>\n",
       "      <td>0.0</td>\n",
       "      <td>0.0</td>\n",
       "      <td>4.0</td>\n",
       "      <td>6.0</td>\n",
       "      <td>2.0</td>\n",
       "    </tr>\n",
       "    <tr>\n",
       "      <th>15</th>\n",
       "      <td>0.0</td>\n",
       "      <td>1.0</td>\n",
       "      <td>0.0</td>\n",
       "      <td>1.0</td>\n",
       "      <td>33.0</td>\n",
       "      <td>0.0</td>\n",
       "      <td>0.0</td>\n",
       "      <td>0.0</td>\n",
       "      <td>1.0</td>\n",
       "      <td>0.0</td>\n",
       "      <td>...</td>\n",
       "      <td>1.0</td>\n",
       "      <td>0.0</td>\n",
       "      <td>2.0</td>\n",
       "      <td>5.0</td>\n",
       "      <td>0.0</td>\n",
       "      <td>0.0</td>\n",
       "      <td>0.0</td>\n",
       "      <td>6.0</td>\n",
       "      <td>6.0</td>\n",
       "      <td>8.0</td>\n",
       "    </tr>\n",
       "    <tr>\n",
       "      <th>16</th>\n",
       "      <td>0.0</td>\n",
       "      <td>1.0</td>\n",
       "      <td>1.0</td>\n",
       "      <td>1.0</td>\n",
       "      <td>21.0</td>\n",
       "      <td>0.0</td>\n",
       "      <td>0.0</td>\n",
       "      <td>0.0</td>\n",
       "      <td>1.0</td>\n",
       "      <td>1.0</td>\n",
       "      <td>...</td>\n",
       "      <td>1.0</td>\n",
       "      <td>0.0</td>\n",
       "      <td>3.0</td>\n",
       "      <td>0.0</td>\n",
       "      <td>0.0</td>\n",
       "      <td>0.0</td>\n",
       "      <td>0.0</td>\n",
       "      <td>10.0</td>\n",
       "      <td>4.0</td>\n",
       "      <td>3.0</td>\n",
       "    </tr>\n",
       "    <tr>\n",
       "      <th>17</th>\n",
       "      <td>2.0</td>\n",
       "      <td>0.0</td>\n",
       "      <td>0.0</td>\n",
       "      <td>1.0</td>\n",
       "      <td>23.0</td>\n",
       "      <td>1.0</td>\n",
       "      <td>0.0</td>\n",
       "      <td>0.0</td>\n",
       "      <td>1.0</td>\n",
       "      <td>0.0</td>\n",
       "      <td>...</td>\n",
       "      <td>1.0</td>\n",
       "      <td>0.0</td>\n",
       "      <td>2.0</td>\n",
       "      <td>0.0</td>\n",
       "      <td>0.0</td>\n",
       "      <td>0.0</td>\n",
       "      <td>1.0</td>\n",
       "      <td>7.0</td>\n",
       "      <td>5.0</td>\n",
       "      <td>6.0</td>\n",
       "    </tr>\n",
       "    <tr>\n",
       "      <th>18</th>\n",
       "      <td>0.0</td>\n",
       "      <td>0.0</td>\n",
       "      <td>0.0</td>\n",
       "      <td>0.0</td>\n",
       "      <td>23.0</td>\n",
       "      <td>0.0</td>\n",
       "      <td>0.0</td>\n",
       "      <td>0.0</td>\n",
       "      <td>0.0</td>\n",
       "      <td>0.0</td>\n",
       "      <td>...</td>\n",
       "      <td>1.0</td>\n",
       "      <td>0.0</td>\n",
       "      <td>2.0</td>\n",
       "      <td>15.0</td>\n",
       "      <td>0.0</td>\n",
       "      <td>0.0</td>\n",
       "      <td>0.0</td>\n",
       "      <td>2.0</td>\n",
       "      <td>6.0</td>\n",
       "      <td>7.0</td>\n",
       "    </tr>\n",
       "    <tr>\n",
       "      <th>19</th>\n",
       "      <td>0.0</td>\n",
       "      <td>0.0</td>\n",
       "      <td>1.0</td>\n",
       "      <td>1.0</td>\n",
       "      <td>28.0</td>\n",
       "      <td>0.0</td>\n",
       "      <td>0.0</td>\n",
       "      <td>0.0</td>\n",
       "      <td>0.0</td>\n",
       "      <td>0.0</td>\n",
       "      <td>...</td>\n",
       "      <td>1.0</td>\n",
       "      <td>0.0</td>\n",
       "      <td>2.0</td>\n",
       "      <td>10.0</td>\n",
       "      <td>0.0</td>\n",
       "      <td>0.0</td>\n",
       "      <td>1.0</td>\n",
       "      <td>4.0</td>\n",
       "      <td>6.0</td>\n",
       "      <td>8.0</td>\n",
       "    </tr>\n",
       "  </tbody>\n",
       "</table>\n",
       "<p>20 rows × 22 columns</p>\n",
       "</div>"
      ],
      "text/plain": [
       "    Diabetes_012  HighBP  HighChol  CholCheck   BMI  Smoker  Stroke  \\\n",
       "0            0.0     1.0       1.0        1.0  40.0     1.0     0.0   \n",
       "1            0.0     0.0       0.0        0.0  25.0     1.0     0.0   \n",
       "2            0.0     1.0       1.0        1.0  28.0     0.0     0.0   \n",
       "3            0.0     1.0       0.0        1.0  27.0     0.0     0.0   \n",
       "4            0.0     1.0       1.0        1.0  24.0     0.0     0.0   \n",
       "5            0.0     1.0       1.0        1.0  25.0     1.0     0.0   \n",
       "6            0.0     1.0       0.0        1.0  30.0     1.0     0.0   \n",
       "7            0.0     1.0       1.0        1.0  25.0     1.0     0.0   \n",
       "8            2.0     1.0       1.0        1.0  30.0     1.0     0.0   \n",
       "9            0.0     0.0       0.0        1.0  24.0     0.0     0.0   \n",
       "10           2.0     0.0       0.0        1.0  25.0     1.0     0.0   \n",
       "11           0.0     1.0       1.0        1.0  34.0     1.0     0.0   \n",
       "12           0.0     0.0       0.0        1.0  26.0     1.0     0.0   \n",
       "13           2.0     1.0       1.0        1.0  28.0     0.0     0.0   \n",
       "14           0.0     0.0       1.0        1.0  33.0     1.0     1.0   \n",
       "15           0.0     1.0       0.0        1.0  33.0     0.0     0.0   \n",
       "16           0.0     1.0       1.0        1.0  21.0     0.0     0.0   \n",
       "17           2.0     0.0       0.0        1.0  23.0     1.0     0.0   \n",
       "18           0.0     0.0       0.0        0.0  23.0     0.0     0.0   \n",
       "19           0.0     0.0       1.0        1.0  28.0     0.0     0.0   \n",
       "\n",
       "    HeartDiseaseorAttack  PhysActivity  Fruits  ...  AnyHealthcare  \\\n",
       "0                    0.0           0.0     0.0  ...            1.0   \n",
       "1                    0.0           1.0     0.0  ...            0.0   \n",
       "2                    0.0           0.0     1.0  ...            1.0   \n",
       "3                    0.0           1.0     1.0  ...            1.0   \n",
       "4                    0.0           1.0     1.0  ...            1.0   \n",
       "5                    0.0           1.0     1.0  ...            1.0   \n",
       "6                    0.0           0.0     0.0  ...            1.0   \n",
       "7                    0.0           1.0     0.0  ...            1.0   \n",
       "8                    1.0           0.0     1.0  ...            1.0   \n",
       "9                    0.0           0.0     0.0  ...            1.0   \n",
       "10                   0.0           1.0     1.0  ...            1.0   \n",
       "11                   0.0           0.0     1.0  ...            1.0   \n",
       "12                   0.0           0.0     0.0  ...            1.0   \n",
       "13                   0.0           0.0     0.0  ...            1.0   \n",
       "14                   0.0           1.0     0.0  ...            1.0   \n",
       "15                   0.0           1.0     0.0  ...            1.0   \n",
       "16                   0.0           1.0     1.0  ...            1.0   \n",
       "17                   0.0           1.0     0.0  ...            1.0   \n",
       "18                   0.0           0.0     0.0  ...            1.0   \n",
       "19                   0.0           0.0     0.0  ...            1.0   \n",
       "\n",
       "    NoDocbcCost  GenHlth  MentHlth  PhysHlth  DiffWalk  Sex   Age  Education  \\\n",
       "0           0.0      5.0      18.0      15.0       1.0  0.0   9.0        4.0   \n",
       "1           1.0      3.0       0.0       0.0       0.0  0.0   7.0        6.0   \n",
       "2           1.0      5.0      30.0      30.0       1.0  0.0   9.0        4.0   \n",
       "3           0.0      2.0       0.0       0.0       0.0  0.0  11.0        3.0   \n",
       "4           0.0      2.0       3.0       0.0       0.0  0.0  11.0        5.0   \n",
       "5           0.0      2.0       0.0       2.0       0.0  1.0  10.0        6.0   \n",
       "6           0.0      3.0       0.0      14.0       0.0  0.0   9.0        6.0   \n",
       "7           0.0      3.0       0.0       0.0       1.0  0.0  11.0        4.0   \n",
       "8           0.0      5.0      30.0      30.0       1.0  0.0   9.0        5.0   \n",
       "9           0.0      2.0       0.0       0.0       0.0  1.0   8.0        4.0   \n",
       "10          0.0      3.0       0.0       0.0       0.0  1.0  13.0        6.0   \n",
       "11          0.0      3.0       0.0      30.0       1.0  0.0  10.0        5.0   \n",
       "12          0.0      3.0       0.0      15.0       0.0  0.0   7.0        5.0   \n",
       "13          0.0      4.0       0.0       0.0       1.0  0.0  11.0        4.0   \n",
       "14          1.0      4.0      30.0      28.0       0.0  0.0   4.0        6.0   \n",
       "15          0.0      2.0       5.0       0.0       0.0  0.0   6.0        6.0   \n",
       "16          0.0      3.0       0.0       0.0       0.0  0.0  10.0        4.0   \n",
       "17          0.0      2.0       0.0       0.0       0.0  1.0   7.0        5.0   \n",
       "18          0.0      2.0      15.0       0.0       0.0  0.0   2.0        6.0   \n",
       "19          0.0      2.0      10.0       0.0       0.0  1.0   4.0        6.0   \n",
       "\n",
       "    Income  \n",
       "0      3.0  \n",
       "1      1.0  \n",
       "2      8.0  \n",
       "3      6.0  \n",
       "4      4.0  \n",
       "5      8.0  \n",
       "6      7.0  \n",
       "7      4.0  \n",
       "8      1.0  \n",
       "9      3.0  \n",
       "10     8.0  \n",
       "11     1.0  \n",
       "12     7.0  \n",
       "13     6.0  \n",
       "14     2.0  \n",
       "15     8.0  \n",
       "16     3.0  \n",
       "17     6.0  \n",
       "18     7.0  \n",
       "19     8.0  \n",
       "\n",
       "[20 rows x 22 columns]"
      ]
     },
     "execution_count": 5,
     "metadata": {},
     "output_type": "execute_result"
    }
   ],
   "source": [
    "M = len(stroke)\n",
    "print(M)\n",
    "stroke.head(20)"
   ]
  },
  {
   "cell_type": "code",
   "execution_count": 6,
   "id": "9ef47b30",
   "metadata": {},
   "outputs": [
    {
     "data": {
      "text/html": [
       "<div>\n",
       "<style scoped>\n",
       "    .dataframe tbody tr th:only-of-type {\n",
       "        vertical-align: middle;\n",
       "    }\n",
       "\n",
       "    .dataframe tbody tr th {\n",
       "        vertical-align: top;\n",
       "    }\n",
       "\n",
       "    .dataframe thead th {\n",
       "        text-align: right;\n",
       "    }\n",
       "</style>\n",
       "<table border=\"1\" class=\"dataframe\">\n",
       "  <thead>\n",
       "    <tr style=\"text-align: right;\">\n",
       "      <th></th>\n",
       "      <th>Diabetes_012</th>\n",
       "      <th>HighBP</th>\n",
       "      <th>HighChol</th>\n",
       "      <th>CholCheck</th>\n",
       "      <th>BMI</th>\n",
       "      <th>Smoker</th>\n",
       "      <th>Stroke</th>\n",
       "      <th>HeartDiseaseorAttack</th>\n",
       "      <th>PhysActivity</th>\n",
       "      <th>Fruits</th>\n",
       "      <th>...</th>\n",
       "      <th>AnyHealthcare</th>\n",
       "      <th>NoDocbcCost</th>\n",
       "      <th>GenHlth</th>\n",
       "      <th>MentHlth</th>\n",
       "      <th>PhysHlth</th>\n",
       "      <th>DiffWalk</th>\n",
       "      <th>Sex</th>\n",
       "      <th>Age</th>\n",
       "      <th>Education</th>\n",
       "      <th>Income</th>\n",
       "    </tr>\n",
       "  </thead>\n",
       "  <tbody>\n",
       "    <tr>\n",
       "      <th>0</th>\n",
       "      <td>0.0</td>\n",
       "      <td>1.0</td>\n",
       "      <td>1.0</td>\n",
       "      <td>1.0</td>\n",
       "      <td>40.0</td>\n",
       "      <td>1.0</td>\n",
       "      <td>0.0</td>\n",
       "      <td>0.0</td>\n",
       "      <td>0.0</td>\n",
       "      <td>0.0</td>\n",
       "      <td>...</td>\n",
       "      <td>1.0</td>\n",
       "      <td>0.0</td>\n",
       "      <td>5.0</td>\n",
       "      <td>18.0</td>\n",
       "      <td>15.0</td>\n",
       "      <td>1.0</td>\n",
       "      <td>0.0</td>\n",
       "      <td>9.0</td>\n",
       "      <td>4.0</td>\n",
       "      <td>3.0</td>\n",
       "    </tr>\n",
       "    <tr>\n",
       "      <th>1</th>\n",
       "      <td>0.0</td>\n",
       "      <td>0.0</td>\n",
       "      <td>0.0</td>\n",
       "      <td>0.0</td>\n",
       "      <td>25.0</td>\n",
       "      <td>1.0</td>\n",
       "      <td>0.0</td>\n",
       "      <td>0.0</td>\n",
       "      <td>1.0</td>\n",
       "      <td>0.0</td>\n",
       "      <td>...</td>\n",
       "      <td>0.0</td>\n",
       "      <td>1.0</td>\n",
       "      <td>3.0</td>\n",
       "      <td>0.0</td>\n",
       "      <td>0.0</td>\n",
       "      <td>0.0</td>\n",
       "      <td>0.0</td>\n",
       "      <td>7.0</td>\n",
       "      <td>6.0</td>\n",
       "      <td>1.0</td>\n",
       "    </tr>\n",
       "    <tr>\n",
       "      <th>2</th>\n",
       "      <td>0.0</td>\n",
       "      <td>1.0</td>\n",
       "      <td>1.0</td>\n",
       "      <td>1.0</td>\n",
       "      <td>28.0</td>\n",
       "      <td>0.0</td>\n",
       "      <td>0.0</td>\n",
       "      <td>0.0</td>\n",
       "      <td>0.0</td>\n",
       "      <td>1.0</td>\n",
       "      <td>...</td>\n",
       "      <td>1.0</td>\n",
       "      <td>1.0</td>\n",
       "      <td>5.0</td>\n",
       "      <td>30.0</td>\n",
       "      <td>30.0</td>\n",
       "      <td>1.0</td>\n",
       "      <td>0.0</td>\n",
       "      <td>9.0</td>\n",
       "      <td>4.0</td>\n",
       "      <td>8.0</td>\n",
       "    </tr>\n",
       "    <tr>\n",
       "      <th>3</th>\n",
       "      <td>0.0</td>\n",
       "      <td>1.0</td>\n",
       "      <td>0.0</td>\n",
       "      <td>1.0</td>\n",
       "      <td>27.0</td>\n",
       "      <td>0.0</td>\n",
       "      <td>0.0</td>\n",
       "      <td>0.0</td>\n",
       "      <td>1.0</td>\n",
       "      <td>1.0</td>\n",
       "      <td>...</td>\n",
       "      <td>1.0</td>\n",
       "      <td>0.0</td>\n",
       "      <td>2.0</td>\n",
       "      <td>0.0</td>\n",
       "      <td>0.0</td>\n",
       "      <td>0.0</td>\n",
       "      <td>0.0</td>\n",
       "      <td>11.0</td>\n",
       "      <td>3.0</td>\n",
       "      <td>6.0</td>\n",
       "    </tr>\n",
       "    <tr>\n",
       "      <th>4</th>\n",
       "      <td>0.0</td>\n",
       "      <td>1.0</td>\n",
       "      <td>1.0</td>\n",
       "      <td>1.0</td>\n",
       "      <td>24.0</td>\n",
       "      <td>0.0</td>\n",
       "      <td>0.0</td>\n",
       "      <td>0.0</td>\n",
       "      <td>1.0</td>\n",
       "      <td>1.0</td>\n",
       "      <td>...</td>\n",
       "      <td>1.0</td>\n",
       "      <td>0.0</td>\n",
       "      <td>2.0</td>\n",
       "      <td>3.0</td>\n",
       "      <td>0.0</td>\n",
       "      <td>0.0</td>\n",
       "      <td>0.0</td>\n",
       "      <td>11.0</td>\n",
       "      <td>5.0</td>\n",
       "      <td>4.0</td>\n",
       "    </tr>\n",
       "  </tbody>\n",
       "</table>\n",
       "<p>5 rows × 22 columns</p>\n",
       "</div>"
      ],
      "text/plain": [
       "   Diabetes_012  HighBP  HighChol  CholCheck   BMI  Smoker  Stroke  \\\n",
       "0           0.0     1.0       1.0        1.0  40.0     1.0     0.0   \n",
       "1           0.0     0.0       0.0        0.0  25.0     1.0     0.0   \n",
       "2           0.0     1.0       1.0        1.0  28.0     0.0     0.0   \n",
       "3           0.0     1.0       0.0        1.0  27.0     0.0     0.0   \n",
       "4           0.0     1.0       1.0        1.0  24.0     0.0     0.0   \n",
       "\n",
       "   HeartDiseaseorAttack  PhysActivity  Fruits  ...  AnyHealthcare  \\\n",
       "0                   0.0           0.0     0.0  ...            1.0   \n",
       "1                   0.0           1.0     0.0  ...            0.0   \n",
       "2                   0.0           0.0     1.0  ...            1.0   \n",
       "3                   0.0           1.0     1.0  ...            1.0   \n",
       "4                   0.0           1.0     1.0  ...            1.0   \n",
       "\n",
       "   NoDocbcCost  GenHlth  MentHlth  PhysHlth  DiffWalk  Sex   Age  Education  \\\n",
       "0          0.0      5.0      18.0      15.0       1.0  0.0   9.0        4.0   \n",
       "1          1.0      3.0       0.0       0.0       0.0  0.0   7.0        6.0   \n",
       "2          1.0      5.0      30.0      30.0       1.0  0.0   9.0        4.0   \n",
       "3          0.0      2.0       0.0       0.0       0.0  0.0  11.0        3.0   \n",
       "4          0.0      2.0       3.0       0.0       0.0  0.0  11.0        5.0   \n",
       "\n",
       "   Income  \n",
       "0     3.0  \n",
       "1     1.0  \n",
       "2     8.0  \n",
       "3     6.0  \n",
       "4     4.0  \n",
       "\n",
       "[5 rows x 22 columns]"
      ]
     },
     "execution_count": 6,
     "metadata": {},
     "output_type": "execute_result"
    }
   ],
   "source": [
    "stroke.head()"
   ]
  },
  {
   "cell_type": "code",
   "execution_count": 7,
   "id": "76d5cece",
   "metadata": {},
   "outputs": [
    {
     "data": {
      "text/plain": [
       "array([[ 0.,  1.,  1.,  1., 40.,  1.,  0.,  0.,  0.,  1.,  0.,  1.,  0.,\n",
       "         5., 18., 15.,  1.,  0.,  9.,  4.,  3.],\n",
       "       [ 0.,  0.,  0.,  0., 25.,  1.,  0.,  1.,  0.,  0.,  0.,  0.,  1.,\n",
       "         3.,  0.,  0.,  0.,  0.,  7.,  6.,  1.]])"
      ]
     },
     "execution_count": 7,
     "metadata": {},
     "output_type": "execute_result"
    }
   ],
   "source": [
    "#Our Data set will consider Independent variables (X1-X21) and Label as Dependent (Y). \n",
    "X=stroke.iloc[:,[0,1,2,3,4,5,7,8,9,10,11,12,13,14,15,16,17,18,19,20,21]].values\n",
    "Y=stroke.iloc[:,6].values #Stroke outcomes\n",
    "#see here: https://pandas.pydata.org/pandas-docs/stable/reference/api/pandas.DataFrame.\n",
    "X[0:2] #Shows the Array"
   ]
  },
  {
   "cell_type": "code",
   "execution_count": 8,
   "id": "bacfc999",
   "metadata": {},
   "outputs": [
    {
     "data": {
      "text/plain": [
       "array([0., 0., 0., 0., 0., 0., 0., 0., 0., 0.])"
      ]
     },
     "execution_count": 8,
     "metadata": {},
     "output_type": "execute_result"
    }
   ],
   "source": [
    "Y[0:10] #Shows the outcome of either Stroke or no Stroke"
   ]
  },
  {
   "cell_type": "code",
   "execution_count": 9,
   "id": "8d2818c1",
   "metadata": {},
   "outputs": [
    {
     "data": {
      "text/plain": [
       "(177576, 21)"
      ]
     },
     "execution_count": 9,
     "metadata": {},
     "output_type": "execute_result"
    }
   ],
   "source": [
    "#Now we’ll split our Data set into Training Data and Test Data.\n",
    "#Logistic model and Test data will be used to validate our model. We’ll use Sklearn.\n",
    "from sklearn.model_selection import train_test_split\n",
    "\n",
    "np.random.seed(0)\n",
    "X_train, X_test, Y_train, Y_test = train_test_split(X,Y,train_size = 0.7, test_size = 0.3, random_state = 1)\n",
    "X_train.shape"
   ]
  },
  {
   "cell_type": "code",
   "execution_count": 10,
   "id": "f6744661",
   "metadata": {},
   "outputs": [],
   "source": [
    "#Part 1-a Logistic Regression Model"
   ]
  },
  {
   "cell_type": "code",
   "execution_count": 11,
   "id": "5c77e9eb",
   "metadata": {},
   "outputs": [],
   "source": [
    "#Now we’ll do feature scaling to scale our data between -1 and 1 using standardization.\n",
    "#Here Scaling is important because there is a significant difference between explanatory variables.\n",
    "from sklearn.preprocessing import StandardScaler, MinMaxScaler \n",
    "#scalar_X = StandardScaler()\n",
    "scalar_X = MinMaxScaler()\n",
    "X_train = scalar_X.fit_transform(X_train) #New X_train is scaled\n",
    "X_test = scalar_X.transform(X_test) #New X_test is scaled"
   ]
  },
  {
   "cell_type": "code",
   "execution_count": 12,
   "id": "05805fc2",
   "metadata": {},
   "outputs": [
    {
     "data": {
      "text/plain": [
       "array([[0.        , 0.        , 0.        , 0.        , 0.36046512,\n",
       "        0.        , 0.        , 0.        , 0.        , 0.        ,\n",
       "        0.        , 1.        , 0.        , 0.25      , 0.        ,\n",
       "        0.        , 0.        , 1.        , 0.5       , 0.8       ,\n",
       "        0.85714286],\n",
       "       [0.        , 0.        , 1.        , 1.        , 0.1627907 ,\n",
       "        0.        , 1.        , 0.        , 1.        , 1.        ,\n",
       "        0.        , 1.        , 0.        , 0.25      , 0.        ,\n",
       "        0.        , 0.        , 0.        , 0.91666667, 0.6       ,\n",
       "        0.57142857]])"
      ]
     },
     "execution_count": 12,
     "metadata": {},
     "output_type": "execute_result"
    }
   ],
   "source": [
    "X_train[0:2] #Checking the scaling of training set"
   ]
  },
  {
   "cell_type": "code",
   "execution_count": 13,
   "id": "f83d293e",
   "metadata": {},
   "outputs": [
    {
     "data": {
      "text/plain": [
       "array([[0.        , 1.        , 0.        , 1.        , 0.12790698,\n",
       "        1.        , 0.        , 1.        , 1.        , 1.        ,\n",
       "        1.        , 1.        , 0.        , 0.25      , 0.        ,\n",
       "        0.        , 0.        , 0.        , 1.        , 1.        ,\n",
       "        0.71428571],\n",
       "       [1.        , 0.        , 0.        , 1.        , 0.11627907,\n",
       "        1.        , 1.        , 1.        , 1.        , 1.        ,\n",
       "        1.        , 1.        , 0.        , 0.25      , 0.        ,\n",
       "        0.16666667, 0.        , 1.        , 0.66666667, 1.        ,\n",
       "        1.        ]])"
      ]
     },
     "execution_count": 13,
     "metadata": {},
     "output_type": "execute_result"
    }
   ],
   "source": [
    "X_test[0:2] #Checking the scaling of testing set"
   ]
  },
  {
   "cell_type": "code",
   "execution_count": 14,
   "id": "20c33172",
   "metadata": {},
   "outputs": [
    {
     "data": {
      "text/plain": [
       "LogisticRegression(random_state=0)"
      ]
     },
     "execution_count": 14,
     "metadata": {},
     "output_type": "execute_result"
    }
   ],
   "source": [
    "#Import LogisticRegression from sklearn.linear_model\n",
    "#Make an instance classifier of the object LogisticRegression and give random_state = 0 \n",
    "from sklearn.linear_model import LogisticRegression\n",
    "classifier_L = LogisticRegression(random_state=0)\n",
    "classifier_L.fit(X_train,Y_train)"
   ]
  },
  {
   "cell_type": "code",
   "execution_count": 15,
   "id": "389f95c9",
   "metadata": {},
   "outputs": [],
   "source": [
    "Y_pred = classifier_L.predict(X_test)"
   ]
  },
  {
   "cell_type": "code",
   "execution_count": 16,
   "id": "cc218764",
   "metadata": {},
   "outputs": [
    {
     "data": {
      "text/plain": [
       "array([0., 0., 0., 0., 0., 0., 0., 0., 0., 0., 0., 0., 0., 0., 0., 0., 0.,\n",
       "       0., 0., 0., 0., 0., 0., 0., 0., 0., 0., 0., 0., 0.])"
      ]
     },
     "execution_count": 16,
     "metadata": {},
     "output_type": "execute_result"
    }
   ],
   "source": [
    "Y_pred[0:30] #Checking Outcome from testing set"
   ]
  },
  {
   "cell_type": "code",
   "execution_count": 17,
   "id": "85f4fd17",
   "metadata": {},
   "outputs": [
    {
     "data": {
      "text/plain": [
       "array([[72969,    22],\n",
       "       [ 3093,    20]], dtype=int64)"
      ]
     },
     "execution_count": 17,
     "metadata": {},
     "output_type": "execute_result"
    }
   ],
   "source": [
    "#Using Confusion matrix representing binary classifiers so we can get accuracy of our model.\n",
    "from sklearn.metrics import confusion_matrix \n",
    "cnf_matrix = confusion_matrix(Y_test,Y_pred)\n",
    "cnf_matrix"
   ]
  },
  {
   "cell_type": "code",
   "execution_count": 18,
   "id": "eea14931",
   "metadata": {},
   "outputs": [
    {
     "name": "stdout",
     "output_type": "stream",
     "text": [
      "Accuracy: 0.9590691685062546\n",
      "Precision: 0.47619047619047616\n",
      "Recall: 0.006424670735624799\n"
     ]
    }
   ],
   "source": [
    "#We are evaluating the model using model evaluation metrics for accuracy.\n",
    "#Accuracy over loss is what needs to be plotted\n",
    "#Prediction and recall do not function with Y values or outcomes as string values.\n",
    "from sklearn import metrics\n",
    "print(\"Accuracy:\",metrics.accuracy_score(Y_test,Y_pred))\n",
    "print(\"Precision:\",metrics.precision_score(Y_test,Y_pred))\n",
    "print(\"Recall:\",metrics.recall_score(Y_test,Y_pred))"
   ]
  },
  {
   "cell_type": "code",
   "execution_count": 19,
   "id": "89271c44",
   "metadata": {},
   "outputs": [
    {
     "data": {
      "text/plain": [
       "Text(0.5, 257.44, 'Predicted label')"
      ]
     },
     "execution_count": 19,
     "metadata": {},
     "output_type": "execute_result"
    },
    {
     "data": {
      "image/png": "[encoded data removed]",
      "text/plain": [
       "<Figure size 432x288 with 2 Axes>"
      ]
     },
     "metadata": {
      "needs_background": "light"
     },
     "output_type": "display_data"
    }
   ],
   "source": [
    "#Plotting the confusion matrix:\n",
    "import seaborn as sns \n",
    "class_names = [0,1] # name of classes\n",
    "fig, ax = plt.subplots()\n",
    "tick_marks = np.arange(len(class_names))\n",
    "plt.xticks(tick_marks,class_names)\n",
    "plt.yticks(tick_marks,class_names)# create heatmap\n",
    "sns.heatmap(pd.DataFrame(cnf_matrix), annot = True, cmap = \"YlGnBu\", fmt = 'g')\n",
    "ax.xaxis.set_label_position(\"top\")\n",
    "plt.tight_layout()\n",
    "plt.title('Confusion matrix',y = 1.1)\n",
    "plt.ylabel('Actual label')\n",
    "plt.xlabel('Predicted label')"
   ]
  },
  {
   "cell_type": "code",
   "execution_count": 20,
   "id": "309e094c",
   "metadata": {},
   "outputs": [],
   "source": [
    "#Part 1-b Naive Bays Model"
   ]
  },
  {
   "cell_type": "code",
   "execution_count": 21,
   "id": "cf508f3c",
   "metadata": {},
   "outputs": [
    {
     "data": {
      "text/plain": [
       "array([[ 0.,  1.,  1.,  1., 40.,  1.,  0.,  0.,  0.,  1.,  0.,  1.,  0.,\n",
       "         5., 18., 15.,  1.,  0.,  9.,  4.,  3.],\n",
       "       [ 0.,  0.,  0.,  0., 25.,  1.,  0.,  1.,  0.,  0.,  0.,  0.,  1.,\n",
       "         3.,  0.,  0.,  0.,  0.,  7.,  6.,  1.]])"
      ]
     },
     "execution_count": 21,
     "metadata": {},
     "output_type": "execute_result"
    }
   ],
   "source": [
    "#Our Data set will consider Independent variables (X1-X21) and Label as Dependent (Y). \n",
    "X=stroke.iloc[:,[0,1,2,3,4,5,7,8,9,10,11,12,13,14,15,16,17,18,19,20,21]].values\n",
    "Y=stroke.iloc[:,6].values #Stroke outcomes\n",
    "#see here: https://pandas.pydata.org/pandas-docs/stable/reference/api/pandas.DataFrame.\n",
    "X[0:2] #Shows the Array"
   ]
  },
  {
   "cell_type": "code",
   "execution_count": 22,
   "id": "c7ccc498",
   "metadata": {},
   "outputs": [
    {
     "data": {
      "text/plain": [
       "array([0., 0., 0., 0., 0., 0., 0., 0.])"
      ]
     },
     "execution_count": 22,
     "metadata": {},
     "output_type": "execute_result"
    }
   ],
   "source": [
    "Y[0:8] #Shows the outcome of either stroke or no stroke"
   ]
  },
  {
   "cell_type": "code",
   "execution_count": 23,
   "id": "ce17ae39",
   "metadata": {},
   "outputs": [
    {
     "data": {
      "text/plain": [
       "(177576, 21)"
      ]
     },
     "execution_count": 23,
     "metadata": {},
     "output_type": "execute_result"
    }
   ],
   "source": [
    "#Now we’ll split our Data set into Training Data and Test Data.\n",
    "#Logistic model and Test data will be used to validate our model. We’ll use Sklearn.\n",
    "from sklearn.model_selection import train_test_split\n",
    "\n",
    "np.random.seed(0)\n",
    "X_train, X_test, Y_train, Y_test = train_test_split(X,Y,train_size =0.7, test_size = 0.3, random_state = 1)\n",
    "X_train.shape"
   ]
  },
  {
   "cell_type": "code",
   "execution_count": 24,
   "id": "54000453",
   "metadata": {},
   "outputs": [],
   "source": [
    "#Now we’ll do feature scaling to scale our data between -1 and 1 using standardization.\n",
    "#Here Scaling is important because there is a significant difference between explanatory variables.\n",
    "#scalar_X = StandardScaler()\n",
    "scalar_X = MinMaxScaler()\n",
    "X_train = scalar_X.fit_transform(X_train) #New X_train is scaled\n",
    "X_test = scalar_X.transform(X_test) #New X_test is scaled"
   ]
  },
  {
   "cell_type": "code",
   "execution_count": 25,
   "id": "b61184d3",
   "metadata": {},
   "outputs": [
    {
     "data": {
      "text/plain": [
       "GaussianNB()"
      ]
     },
     "execution_count": 25,
     "metadata": {},
     "output_type": "execute_result"
    }
   ],
   "source": [
    "#Import Naive Bays from sklearn.naive_bayes\n",
    "#Make an instance classifier of the object Naive Bayes and give random_state = 0 \n",
    "from sklearn.naive_bayes import GaussianNB\n",
    "classifier_G = GaussianNB()\n",
    "classifier_G.fit(X_train,Y_train)"
   ]
  },
  {
   "cell_type": "code",
   "execution_count": 26,
   "id": "82f3c6e2",
   "metadata": {},
   "outputs": [
    {
     "data": {
      "text/plain": [
       "array([0., 0., 0., ..., 0., 0., 1.])"
      ]
     },
     "execution_count": 26,
     "metadata": {},
     "output_type": "execute_result"
    }
   ],
   "source": [
    "Y_pred = classifier_G.predict(X_test)\n",
    "Y_pred"
   ]
  },
  {
   "cell_type": "code",
   "execution_count": 27,
   "id": "1a063084",
   "metadata": {},
   "outputs": [
    {
     "data": {
      "text/plain": [
       "array([[62387, 10604],\n",
       "       [ 1415,  1698]], dtype=int64)"
      ]
     },
     "execution_count": 27,
     "metadata": {},
     "output_type": "execute_result"
    }
   ],
   "source": [
    "#Using Confusion matrix representing binary classifiers so we can get accuracy of our model.\n",
    "from sklearn.metrics import confusion_matrix \n",
    "cnf_matrix = confusion_matrix(Y_test,Y_pred)\n",
    "cnf_matrix"
   ]
  },
  {
   "cell_type": "code",
   "execution_count": 28,
   "id": "7294c631",
   "metadata": {},
   "outputs": [
    {
     "name": "stdout",
     "output_type": "stream",
     "text": [
      "Accuracy: 0.8420713760117734\n",
      "Precision: 0.1380263371809462\n",
      "Recall: 0.5454545454545454\n"
     ]
    }
   ],
   "source": [
    "#We are evaluating the model using model evaluation metrics for accuracy.\n",
    "#Accuracy over loss is what needs to be plotted\n",
    "#Prediction and recall do not function with Y values or outcomes as string values.\n",
    "print(\"Accuracy:\",metrics.accuracy_score(Y_test,Y_pred))\n",
    "print(\"Precision:\",metrics.precision_score(Y_test,Y_pred))\n",
    "print(\"Recall:\",metrics.recall_score(Y_test,Y_pred))"
   ]
  },
  {
   "cell_type": "code",
   "execution_count": 29,
   "id": "04798e0d",
   "metadata": {},
   "outputs": [
    {
     "data": {
      "text/plain": [
       "Text(0.5, 257.44, 'Predicted label')"
      ]
     },
     "execution_count": 29,
     "metadata": {},
     "output_type": "execute_result"
    },
    {
     "data": {
      "image/png": "[encoded data removed]",
      "text/plain": [
       "<Figure size 432x288 with 2 Axes>"
      ]
     },
     "metadata": {
      "needs_background": "light"
     },
     "output_type": "display_data"
    }
   ],
   "source": [
    "#Plotting the confusion matrix:\n",
    "import seaborn as sns \n",
    "class_names = [0,1] # name of classes\n",
    "fig, ax = plt.subplots()\n",
    "tick_marks = np.arange(len(class_names))\n",
    "plt.xticks(tick_marks,class_names)\n",
    "plt.yticks(tick_marks,class_names)# create heatmap\n",
    "sns.heatmap(pd.DataFrame(cnf_matrix), annot = True, cmap = \"YlGnBu\", fmt = 'g')\n",
    "ax.xaxis.set_label_position(\"top\")\n",
    "plt.tight_layout()\n",
    "plt.title('Confusion matrix',y = 1.1)\n",
    "plt.ylabel('Actual label')\n",
    "plt.xlabel('Predicted label')"
   ]
  },
  {
   "cell_type": "code",
   "execution_count": 30,
   "id": "8ec5306c",
   "metadata": {},
   "outputs": [],
   "source": [
    "#Part 2 PCA Feature Extraction"
   ]
  },
  {
   "cell_type": "code",
   "execution_count": 31,
   "id": "c5563e99",
   "metadata": {},
   "outputs": [],
   "source": [
    "#Plotting the loss vs. Number of Iterations for all X explanatory values combined does\n",
    "#not seem doable with the logistic regression library. We will have to implement our own\n",
    "#Logistic regression uses a log function to classify data points and will not suite \n",
    "#the training model for this dataset."
   ]
  },
  {
   "cell_type": "code",
   "execution_count": 32,
   "id": "61c77c1e",
   "metadata": {},
   "outputs": [],
   "source": [
    "#Part 2-a PCA with logistic regression"
   ]
  },
  {
   "cell_type": "code",
   "execution_count": 33,
   "id": "3f0937c0",
   "metadata": {},
   "outputs": [
    {
     "data": {
      "text/plain": [
       "array([0., 0., 0., 0., 0., 0., 0., 0., 0., 0.])"
      ]
     },
     "execution_count": 33,
     "metadata": {},
     "output_type": "execute_result"
    }
   ],
   "source": [
    "#Our Data set will consider Independent variables (X1-X21) and Label as Dependent (Y). \n",
    "X=stroke.iloc[:,[0,1,2,3,4,5,7,8,9,10,11,12,13,14,15,16,17,18,19,20,21]].values\n",
    "Y=stroke.iloc[:,6].values #Stroke outcomes\n",
    "#see here: https://pandas.pydata.org/pandas-docs/stable/reference/api/pandas.DataFrame.\n",
    "Y[0:10]"
   ]
  },
  {
   "cell_type": "code",
   "execution_count": 34,
   "id": "f64ed704",
   "metadata": {},
   "outputs": [
    {
     "data": {
      "text/html": [
       "<div>\n",
       "<style scoped>\n",
       "    .dataframe tbody tr th:only-of-type {\n",
       "        vertical-align: middle;\n",
       "    }\n",
       "\n",
       "    .dataframe tbody tr th {\n",
       "        vertical-align: top;\n",
       "    }\n",
       "\n",
       "    .dataframe thead th {\n",
       "        text-align: right;\n",
       "    }\n",
       "</style>\n",
       "<table border=\"1\" class=\"dataframe\">\n",
       "  <thead>\n",
       "    <tr style=\"text-align: right;\">\n",
       "      <th></th>\n",
       "      <th>Diabetes_012</th>\n",
       "      <th>HighBP</th>\n",
       "      <th>HighChol</th>\n",
       "      <th>CholCheck</th>\n",
       "      <th>BMI</th>\n",
       "      <th>Smoker</th>\n",
       "      <th>Stroke</th>\n",
       "      <th>HeartDiseaseorAttack</th>\n",
       "      <th>PhysActivity</th>\n",
       "      <th>Fruits</th>\n",
       "      <th>...</th>\n",
       "      <th>AnyHealthcare</th>\n",
       "      <th>NoDocbcCost</th>\n",
       "      <th>GenHlth</th>\n",
       "      <th>MentHlth</th>\n",
       "      <th>PhysHlth</th>\n",
       "      <th>DiffWalk</th>\n",
       "      <th>Sex</th>\n",
       "      <th>Age</th>\n",
       "      <th>Education</th>\n",
       "      <th>Income</th>\n",
       "    </tr>\n",
       "  </thead>\n",
       "  <tbody>\n",
       "    <tr>\n",
       "      <th>0</th>\n",
       "      <td>0.0</td>\n",
       "      <td>1.0</td>\n",
       "      <td>1.0</td>\n",
       "      <td>1.0</td>\n",
       "      <td>40.0</td>\n",
       "      <td>1.0</td>\n",
       "      <td>0.0</td>\n",
       "      <td>0.0</td>\n",
       "      <td>0.0</td>\n",
       "      <td>0.0</td>\n",
       "      <td>...</td>\n",
       "      <td>1.0</td>\n",
       "      <td>0.0</td>\n",
       "      <td>5.0</td>\n",
       "      <td>18.0</td>\n",
       "      <td>15.0</td>\n",
       "      <td>1.0</td>\n",
       "      <td>0.0</td>\n",
       "      <td>9.0</td>\n",
       "      <td>4.0</td>\n",
       "      <td>3.0</td>\n",
       "    </tr>\n",
       "    <tr>\n",
       "      <th>1</th>\n",
       "      <td>0.0</td>\n",
       "      <td>0.0</td>\n",
       "      <td>0.0</td>\n",
       "      <td>0.0</td>\n",
       "      <td>25.0</td>\n",
       "      <td>1.0</td>\n",
       "      <td>0.0</td>\n",
       "      <td>0.0</td>\n",
       "      <td>1.0</td>\n",
       "      <td>0.0</td>\n",
       "      <td>...</td>\n",
       "      <td>0.0</td>\n",
       "      <td>1.0</td>\n",
       "      <td>3.0</td>\n",
       "      <td>0.0</td>\n",
       "      <td>0.0</td>\n",
       "      <td>0.0</td>\n",
       "      <td>0.0</td>\n",
       "      <td>7.0</td>\n",
       "      <td>6.0</td>\n",
       "      <td>1.0</td>\n",
       "    </tr>\n",
       "    <tr>\n",
       "      <th>2</th>\n",
       "      <td>0.0</td>\n",
       "      <td>1.0</td>\n",
       "      <td>1.0</td>\n",
       "      <td>1.0</td>\n",
       "      <td>28.0</td>\n",
       "      <td>0.0</td>\n",
       "      <td>0.0</td>\n",
       "      <td>0.0</td>\n",
       "      <td>0.0</td>\n",
       "      <td>1.0</td>\n",
       "      <td>...</td>\n",
       "      <td>1.0</td>\n",
       "      <td>1.0</td>\n",
       "      <td>5.0</td>\n",
       "      <td>30.0</td>\n",
       "      <td>30.0</td>\n",
       "      <td>1.0</td>\n",
       "      <td>0.0</td>\n",
       "      <td>9.0</td>\n",
       "      <td>4.0</td>\n",
       "      <td>8.0</td>\n",
       "    </tr>\n",
       "    <tr>\n",
       "      <th>3</th>\n",
       "      <td>0.0</td>\n",
       "      <td>1.0</td>\n",
       "      <td>0.0</td>\n",
       "      <td>1.0</td>\n",
       "      <td>27.0</td>\n",
       "      <td>0.0</td>\n",
       "      <td>0.0</td>\n",
       "      <td>0.0</td>\n",
       "      <td>1.0</td>\n",
       "      <td>1.0</td>\n",
       "      <td>...</td>\n",
       "      <td>1.0</td>\n",
       "      <td>0.0</td>\n",
       "      <td>2.0</td>\n",
       "      <td>0.0</td>\n",
       "      <td>0.0</td>\n",
       "      <td>0.0</td>\n",
       "      <td>0.0</td>\n",
       "      <td>11.0</td>\n",
       "      <td>3.0</td>\n",
       "      <td>6.0</td>\n",
       "    </tr>\n",
       "    <tr>\n",
       "      <th>4</th>\n",
       "      <td>0.0</td>\n",
       "      <td>1.0</td>\n",
       "      <td>1.0</td>\n",
       "      <td>1.0</td>\n",
       "      <td>24.0</td>\n",
       "      <td>0.0</td>\n",
       "      <td>0.0</td>\n",
       "      <td>0.0</td>\n",
       "      <td>1.0</td>\n",
       "      <td>1.0</td>\n",
       "      <td>...</td>\n",
       "      <td>1.0</td>\n",
       "      <td>0.0</td>\n",
       "      <td>2.0</td>\n",
       "      <td>3.0</td>\n",
       "      <td>0.0</td>\n",
       "      <td>0.0</td>\n",
       "      <td>0.0</td>\n",
       "      <td>11.0</td>\n",
       "      <td>5.0</td>\n",
       "      <td>4.0</td>\n",
       "    </tr>\n",
       "  </tbody>\n",
       "</table>\n",
       "<p>5 rows × 22 columns</p>\n",
       "</div>"
      ],
      "text/plain": [
       "   Diabetes_012  HighBP  HighChol  CholCheck   BMI  Smoker  Stroke  \\\n",
       "0           0.0     1.0       1.0        1.0  40.0     1.0     0.0   \n",
       "1           0.0     0.0       0.0        0.0  25.0     1.0     0.0   \n",
       "2           0.0     1.0       1.0        1.0  28.0     0.0     0.0   \n",
       "3           0.0     1.0       0.0        1.0  27.0     0.0     0.0   \n",
       "4           0.0     1.0       1.0        1.0  24.0     0.0     0.0   \n",
       "\n",
       "   HeartDiseaseorAttack  PhysActivity  Fruits  ...  AnyHealthcare  \\\n",
       "0                   0.0           0.0     0.0  ...            1.0   \n",
       "1                   0.0           1.0     0.0  ...            0.0   \n",
       "2                   0.0           0.0     1.0  ...            1.0   \n",
       "3                   0.0           1.0     1.0  ...            1.0   \n",
       "4                   0.0           1.0     1.0  ...            1.0   \n",
       "\n",
       "   NoDocbcCost  GenHlth  MentHlth  PhysHlth  DiffWalk  Sex   Age  Education  \\\n",
       "0          0.0      5.0      18.0      15.0       1.0  0.0   9.0        4.0   \n",
       "1          1.0      3.0       0.0       0.0       0.0  0.0   7.0        6.0   \n",
       "2          1.0      5.0      30.0      30.0       1.0  0.0   9.0        4.0   \n",
       "3          0.0      2.0       0.0       0.0       0.0  0.0  11.0        3.0   \n",
       "4          0.0      2.0       3.0       0.0       0.0  0.0  11.0        5.0   \n",
       "\n",
       "   Income  \n",
       "0     3.0  \n",
       "1     1.0  \n",
       "2     8.0  \n",
       "3     6.0  \n",
       "4     4.0  \n",
       "\n",
       "[5 rows x 22 columns]"
      ]
     },
     "execution_count": 34,
     "metadata": {},
     "output_type": "execute_result"
    }
   ],
   "source": [
    "stroke.head()"
   ]
  },
  {
   "cell_type": "code",
   "execution_count": 35,
   "id": "48f20b3b",
   "metadata": {},
   "outputs": [
    {
     "data": {
      "text/plain": [
       "array([[0.        , 1.        , 1.        , 1.        , 0.3255814 ,\n",
       "        1.        , 0.        , 0.        , 0.        , 1.        ,\n",
       "        0.        , 1.        , 0.        , 1.        , 0.6       ,\n",
       "        0.5       , 1.        , 0.        , 0.66666667, 0.6       ,\n",
       "        0.28571429],\n",
       "       [0.        , 0.        , 0.        , 0.        , 0.15116279,\n",
       "        1.        , 0.        , 1.        , 0.        , 0.        ,\n",
       "        0.        , 0.        , 1.        , 0.5       , 0.        ,\n",
       "        0.        , 0.        , 0.        , 0.5       , 1.        ,\n",
       "        0.        ]])"
      ]
     },
     "execution_count": 35,
     "metadata": {},
     "output_type": "execute_result"
    }
   ],
   "source": [
    "#Doing this scaling instead\n",
    "#Now we’ll do feature scaling to scale our data between -1 and 1 using standardization.\n",
    "#Here Scaling is important because there is a significant difference between explanatory variables. \n",
    "#scalar_X = StandardScaler()\n",
    "scalar_X = MinMaxScaler()\n",
    "X = scalar_X.fit_transform(X) #New X is scaled\n",
    "X[0:2]"
   ]
  },
  {
   "cell_type": "code",
   "execution_count": 36,
   "id": "68485a4a",
   "metadata": {},
   "outputs": [
    {
     "name": "stdout",
     "output_type": "stream",
     "text": [
      "Accuracy: 0.959095448333859\n",
      "Precision: 0.0\n",
      "Recall: 0.0\n"
     ]
    },
    {
     "name": "stderr",
     "output_type": "stream",
     "text": [
      "G:\\Machine_Learning\\lib\\site-packages\\sklearn\\metrics\\_classification.py:1245: UndefinedMetricWarning: Precision is ill-defined and being set to 0.0 due to no predicted samples. Use `zero_division` parameter to control this behavior.\n",
      "  _warn_prf(average, modifier, msg_start, len(result))\n"
     ]
    },
    {
     "name": "stdout",
     "output_type": "stream",
     "text": [
      "Accuracy: 0.959095448333859\n",
      "Precision: 0.0\n",
      "Recall: 0.0\n"
     ]
    },
    {
     "name": "stderr",
     "output_type": "stream",
     "text": [
      "G:\\Machine_Learning\\lib\\site-packages\\sklearn\\metrics\\_classification.py:1245: UndefinedMetricWarning: Precision is ill-defined and being set to 0.0 due to no predicted samples. Use `zero_division` parameter to control this behavior.\n",
      "  _warn_prf(average, modifier, msg_start, len(result))\n"
     ]
    },
    {
     "name": "stdout",
     "output_type": "stream",
     "text": [
      "Accuracy: 0.959095448333859\n",
      "Precision: 0.0\n",
      "Recall: 0.0\n"
     ]
    },
    {
     "name": "stderr",
     "output_type": "stream",
     "text": [
      "G:\\Machine_Learning\\lib\\site-packages\\sklearn\\metrics\\_classification.py:1245: UndefinedMetricWarning: Precision is ill-defined and being set to 0.0 due to no predicted samples. Use `zero_division` parameter to control this behavior.\n",
      "  _warn_prf(average, modifier, msg_start, len(result))\n"
     ]
    },
    {
     "name": "stdout",
     "output_type": "stream",
     "text": [
      "Accuracy: 0.959095448333859\n",
      "Precision: 0.0\n",
      "Recall: 0.0\n"
     ]
    },
    {
     "name": "stderr",
     "output_type": "stream",
     "text": [
      "G:\\Machine_Learning\\lib\\site-packages\\sklearn\\metrics\\_classification.py:1245: UndefinedMetricWarning: Precision is ill-defined and being set to 0.0 due to no predicted samples. Use `zero_division` parameter to control this behavior.\n",
      "  _warn_prf(average, modifier, msg_start, len(result))\n"
     ]
    },
    {
     "name": "stdout",
     "output_type": "stream",
     "text": [
      "Accuracy: 0.959095448333859\n",
      "Precision: 0.0\n",
      "Recall: 0.0\n"
     ]
    },
    {
     "name": "stderr",
     "output_type": "stream",
     "text": [
      "G:\\Machine_Learning\\lib\\site-packages\\sklearn\\metrics\\_classification.py:1245: UndefinedMetricWarning: Precision is ill-defined and being set to 0.0 due to no predicted samples. Use `zero_division` parameter to control this behavior.\n",
      "  _warn_prf(average, modifier, msg_start, len(result))\n"
     ]
    },
    {
     "name": "stdout",
     "output_type": "stream",
     "text": [
      "Accuracy: 0.959095448333859\n",
      "Precision: 0.0\n",
      "Recall: 0.0\n"
     ]
    },
    {
     "name": "stderr",
     "output_type": "stream",
     "text": [
      "G:\\Machine_Learning\\lib\\site-packages\\sklearn\\metrics\\_classification.py:1245: UndefinedMetricWarning: Precision is ill-defined and being set to 0.0 due to no predicted samples. Use `zero_division` parameter to control this behavior.\n",
      "  _warn_prf(average, modifier, msg_start, len(result))\n"
     ]
    },
    {
     "name": "stdout",
     "output_type": "stream",
     "text": [
      "Accuracy: 0.959095448333859\n",
      "Precision: 0.0\n",
      "Recall: 0.0\n"
     ]
    },
    {
     "name": "stderr",
     "output_type": "stream",
     "text": [
      "G:\\Machine_Learning\\lib\\site-packages\\sklearn\\metrics\\_classification.py:1245: UndefinedMetricWarning: Precision is ill-defined and being set to 0.0 due to no predicted samples. Use `zero_division` parameter to control this behavior.\n",
      "  _warn_prf(average, modifier, msg_start, len(result))\n"
     ]
    },
    {
     "name": "stdout",
     "output_type": "stream",
     "text": [
      "Accuracy: 0.959095448333859\n",
      "Precision: 0.0\n",
      "Recall: 0.0\n"
     ]
    },
    {
     "name": "stderr",
     "output_type": "stream",
     "text": [
      "G:\\Machine_Learning\\lib\\site-packages\\sklearn\\metrics\\_classification.py:1245: UndefinedMetricWarning: Precision is ill-defined and being set to 0.0 due to no predicted samples. Use `zero_division` parameter to control this behavior.\n",
      "  _warn_prf(average, modifier, msg_start, len(result))\n"
     ]
    },
    {
     "name": "stdout",
     "output_type": "stream",
     "text": [
      "Accuracy: 0.959095448333859\n",
      "Precision: 0.0\n",
      "Recall: 0.0\n"
     ]
    },
    {
     "name": "stderr",
     "output_type": "stream",
     "text": [
      "G:\\Machine_Learning\\lib\\site-packages\\sklearn\\metrics\\_classification.py:1245: UndefinedMetricWarning: Precision is ill-defined and being set to 0.0 due to no predicted samples. Use `zero_division` parameter to control this behavior.\n",
      "  _warn_prf(average, modifier, msg_start, len(result))\n"
     ]
    },
    {
     "name": "stdout",
     "output_type": "stream",
     "text": [
      "Accuracy: 0.959095448333859\n",
      "Precision: 0.0\n",
      "Recall: 0.0\n"
     ]
    },
    {
     "name": "stderr",
     "output_type": "stream",
     "text": [
      "G:\\Machine_Learning\\lib\\site-packages\\sklearn\\metrics\\_classification.py:1245: UndefinedMetricWarning: Precision is ill-defined and being set to 0.0 due to no predicted samples. Use `zero_division` parameter to control this behavior.\n",
      "  _warn_prf(average, modifier, msg_start, len(result))\n"
     ]
    },
    {
     "name": "stdout",
     "output_type": "stream",
     "text": [
      "Accuracy: 0.9590297487648481\n",
      "Precision: 0.2727272727272727\n",
      "Recall: 0.0009637006103437199\n",
      "Accuracy: 0.9590297487648481\n",
      "Precision: 0.2727272727272727\n",
      "Recall: 0.0009637006103437199\n",
      "Accuracy: 0.9590034689372438\n",
      "Precision: 0.26666666666666666\n",
      "Recall: 0.00128493414712496\n",
      "Accuracy: 0.9589903290234416\n",
      "Precision: 0.25\n",
      "Recall: 0.00128493414712496\n",
      "Accuracy: 0.9589246294544308\n",
      "Precision: 0.3333333333333333\n",
      "Recall: 0.004176035978156119\n",
      "Accuracy: 0.9589640491958372\n",
      "Precision: 0.34375\n",
      "Recall: 0.0035335689045936395\n",
      "Accuracy: 0.9589246294544308\n",
      "Precision: 0.3333333333333333\n",
      "Recall: 0.004176035978156119\n",
      "Accuracy: 0.9589640491958372\n",
      "Precision: 0.3611111111111111\n",
      "Recall: 0.004176035978156119\n",
      "Accuracy: 0.9590560285924524\n",
      "Precision: 0.45161290322580644\n",
      "Recall: 0.004497269514937359\n",
      "Accuracy: 0.959095448333859\n",
      "Precision: 0.5\n",
      "Recall: 0.0038548024413748794\n",
      "[[2, 0.959095448333859, 0.0, 0.0], [3, 0.959095448333859, 0.0, 0.0], [4, 0.959095448333859, 0.0, 0.0], [5, 0.959095448333859, 0.0, 0.0], [6, 0.959095448333859, 0.0, 0.0], [7, 0.959095448333859, 0.0, 0.0], [8, 0.959095448333859, 0.0, 0.0], [9, 0.959095448333859, 0.0, 0.0], [10, 0.959095448333859, 0.0, 0.0], [11, 0.959095448333859, 0.0, 0.0], [12, 0.9590297487648481, 0.2727272727272727, 0.0009637006103437199], [13, 0.9590297487648481, 0.2727272727272727, 0.0009637006103437199], [14, 0.9590034689372438, 0.26666666666666666, 0.00128493414712496], [15, 0.9589903290234416, 0.25, 0.00128493414712496], [16, 0.9589246294544308, 0.3333333333333333, 0.004176035978156119], [17, 0.9589640491958372, 0.34375, 0.0035335689045936395], [18, 0.9589246294544308, 0.3333333333333333, 0.004176035978156119], [19, 0.9589640491958372, 0.3611111111111111, 0.004176035978156119], [20, 0.9590560285924524, 0.45161290322580644, 0.004497269514937359], [21, 0.959095448333859, 0.5, 0.0038548024413748794]]\n"
     ]
    }
   ],
   "source": [
    "#Using Principle Component Analysis with specific N number of independent trainings\n",
    "#Setting up function to plot precision, recall, and accuracy, over different K values.\n",
    "#This involves creating a matrix to iterate over for the three results.\n",
    "from sklearn.decomposition import PCA \n",
    "pcaDF = []\n",
    "\n",
    "for i in range(20): #n_components must be between 0 and min(n_samples, n_features) = 30 with svd_solver='full'\n",
    "    n_components = i + 2 #at least one array or dtype is required\n",
    "    pca = PCA(n_components) #Iterating through all n values until reaching K.\n",
    "    #principalComponents = pca.fit_transform(X_train)\n",
    "    #-----------------------------------------------------------#\n",
    "    principalComponents_train = pca.fit_transform(X)\n",
    "    #------------------------------------------------------------#\n",
    "    principalDf = pd.DataFrame(data = principalComponents_train, columns = range(n_components))\n",
    "                 #, columns = ['principal component 1', 'principal component 2']) \n",
    "    finalDf = pd.concat([principalDf, stroke[['Stroke']]], axis = 1)\n",
    "    Y_principal = finalDf.iloc[:,[n_components]].values\n",
    "    X_principal = finalDf.iloc[:,0:(n_components - 1)] \n",
    "    \n",
    "    #Doing Training and Test Split to evaluate accuracy.\n",
    "    np.random.seed(0)\n",
    "    X_train, X_test, Y_train, Y_test = train_test_split(X_principal,Y_principal,train_size =0.7,test_size = 0.3,random_state = 1)\n",
    "    \n",
    "    #Using Logistic Regression for Classification\n",
    "    classifier_L = LogisticRegression(random_state = 0)\n",
    "    classifier_L.fit(X_train, np.ravel(Y_train)) #Changed the shape of y to (n_samples, ) \n",
    "    \n",
    "    Y_pred1 = classifier_L.predict(X_test)\n",
    "    Y_pred1[0:9]\n",
    "    \n",
    "    #Using Confusion matrix representing binary classifiers so we can get accuracy of our model.\n",
    "    cnf_matrix = confusion_matrix(Y_test,Y_pred1)\n",
    "    cnf_matrix\n",
    "    \n",
    "    #We are evaluating the model using model evaluation metrics for accuracy.\n",
    "    #Accuracy over loss is what needs to be plotted\n",
    "    from sklearn import metrics\n",
    "    Acc_score1 = metrics.accuracy_score(Y_test,Y_pred1)\n",
    "    print(\"Accuracy:\", Acc_score1)\n",
    "    Prec_score1 = metrics.precision_score(Y_test,Y_pred1)\n",
    "    print(\"Precision:\", Prec_score1)\n",
    "    Rec_score1 = metrics.recall_score(Y_test,Y_pred1)\n",
    "    print(\"Recall:\", Rec_score1)\n",
    "    \n",
    "    pcaDF.append([n_components,Acc_score1,Prec_score1,Rec_score1])\n",
    "print(pcaDF)\n",
    "    \n",
    "    "
   ]
  },
  {
   "cell_type": "code",
   "execution_count": 37,
   "id": "ac7ace98",
   "metadata": {},
   "outputs": [],
   "source": [
    "#Plotting classification accuracy, precision, and recall over different numbers of Ks"
   ]
  },
  {
   "cell_type": "code",
   "execution_count": 38,
   "id": "a3a62742",
   "metadata": {},
   "outputs": [],
   "source": [
    "#function to get specific items from lists\n",
    "def Parse(Value, i):\n",
    "    return [item[i] for item in Value]"
   ]
  },
  {
   "cell_type": "code",
   "execution_count": 39,
   "id": "90bf8582",
   "metadata": {},
   "outputs": [
    {
     "data": {
      "image/png": "[encoded data removed]",
      "text/plain": [
       "<Figure size 432x288 with 1 Axes>"
      ]
     },
     "metadata": {
      "needs_background": "light"
     },
     "output_type": "display_data"
    }
   ],
   "source": [
    "N_to_K = Parse(pcaDF,0)\n",
    "Acc_Vals = Parse(pcaDF,1)\n",
    "Prec_Vals = Parse(pcaDF,2)\n",
    "Recall_Vals = Parse(pcaDF,3)\n",
    "\n",
    "plt.plot(N_to_K, Acc_Vals, 'r', label = 'Accuracy',linewidth=3)\n",
    "plt.plot(N_to_K, Prec_Vals, 'g', label = 'Precision', linewidth=3)\n",
    "plt.plot(N_to_K, Recall_Vals,  'b', label = 'Recall', linewidth=3)\n",
    "\n",
    "plt.title(\"Results over different K values for PCA\")\n",
    "plt.xlabel(\"N Value\")\n",
    "plt.ylabel(\"Results from Accuracy, Precision, and Recall\")\n",
    "plt.legend(loc = 'lower right')\n",
    "plt.show()"
   ]
  },
  {
   "cell_type": "code",
   "execution_count": 40,
   "id": "9592a073",
   "metadata": {},
   "outputs": [],
   "source": [
    "#Part 2-b PCA with Naive Bayes"
   ]
  },
  {
   "cell_type": "code",
   "execution_count": 41,
   "id": "564c0b02",
   "metadata": {},
   "outputs": [
    {
     "data": {
      "text/plain": [
       "array([0., 0., 0., 0., 0., 0., 0., 0., 0., 0.])"
      ]
     },
     "execution_count": 41,
     "metadata": {},
     "output_type": "execute_result"
    }
   ],
   "source": [
    "#Our Data set will consider Independent variables (X1-X21) and Label as Dependent (Y). \n",
    "X=stroke.iloc[:,[0,1,2,3,4,5,7,8,9,10,11,12,13,14,15,16,17,18,19,20,21]].values\n",
    "Y=stroke.iloc[:,6].values #Stroke outcomes\n",
    "#see here: https://pandas.pydata.org/pandas-docs/stable/reference/api/pandas.DataFrame.\n",
    "Y[0:10]"
   ]
  },
  {
   "cell_type": "code",
   "execution_count": 42,
   "id": "4cf70815",
   "metadata": {},
   "outputs": [
    {
     "data": {
      "text/plain": [
       "array([[0.        , 1.        , 1.        , 1.        , 0.3255814 ,\n",
       "        1.        , 0.        , 0.        , 0.        , 1.        ,\n",
       "        0.        , 1.        , 0.        , 1.        , 0.6       ,\n",
       "        0.5       , 1.        , 0.        , 0.66666667, 0.6       ,\n",
       "        0.28571429],\n",
       "       [0.        , 0.        , 0.        , 0.        , 0.15116279,\n",
       "        1.        , 0.        , 1.        , 0.        , 0.        ,\n",
       "        0.        , 0.        , 1.        , 0.5       , 0.        ,\n",
       "        0.        , 0.        , 0.        , 0.5       , 1.        ,\n",
       "        0.        ]])"
      ]
     },
     "execution_count": 42,
     "metadata": {},
     "output_type": "execute_result"
    }
   ],
   "source": [
    "#Now we’ll do feature scaling to scale our data between -1 and 1 using standardization.\n",
    "#Here Scaling is important because there is a significant difference between explanatory variables. \n",
    "#scalar_X = StandardScaler()\n",
    "scalar_X = MinMaxScaler()\n",
    "X = scalar_X.fit_transform(X) #New X is scaled\n",
    "X[0:2]"
   ]
  },
  {
   "cell_type": "code",
   "execution_count": 43,
   "id": "3642eed8",
   "metadata": {},
   "outputs": [
    {
     "name": "stdout",
     "output_type": "stream",
     "text": [
      "Accuracy: 0.9590560285924524\n",
      "Precision: 0.4\n",
      "Recall: 0.0019274012206874397\n",
      "Accuracy: 0.9590691685062546\n",
      "Precision: 0.25\n",
      "Recall: 0.00032123353678124\n",
      "Accuracy: 0.9589246294544308\n",
      "Precision: 0.37735849056603776\n",
      "Recall: 0.006424670735624799\n",
      "Accuracy: 0.9589509092820351\n",
      "Precision: 0.39622641509433965\n",
      "Recall: 0.006745904272406039\n",
      "Accuracy: 0.9582807736781247\n",
      "Precision: 0.31547619047619047\n",
      "Recall: 0.01702537744940572\n",
      "Accuracy: 0.9578865762640597\n",
      "Precision: 0.2889908256880734\n",
      "Recall: 0.020237712817218118\n",
      "Accuracy: 0.9525123515189741\n",
      "Precision: 0.2268266085059978\n",
      "Recall: 0.06681657565049791\n",
      "Accuracy: 0.9521050141911069\n",
      "Precision: 0.22745901639344263\n",
      "Recall: 0.07131384516543528\n",
      "Accuracy: 0.9472432460843057\n",
      "Precision: 0.2174185463659148\n",
      "Recall: 0.11146803726309026\n",
      "Accuracy: 0.9447729422894986\n",
      "Precision: 0.2205128205128205\n",
      "Recall: 0.13813042081593319\n",
      "Accuracy: 0.9243666561547357\n",
      "Precision: 0.20122089079810085\n",
      "Recall: 0.2858978477353036\n",
      "Accuracy: 0.9141700830442552\n",
      "Precision: 0.1907001990229781\n",
      "Recall: 0.3385801477674269\n",
      "Accuracy: 0.9082702617470829\n",
      "Precision: 0.18148880105401843\n",
      "Recall: 0.35399935753292644\n",
      "Accuracy: 0.9072322085567118\n",
      "Precision: 0.18019769891427645\n",
      "Recall: 0.35721169290073884\n",
      "Accuracy: 0.905734258383265\n",
      "Precision: 0.1783621099318866\n",
      "Recall: 0.3617089624156762\n",
      "Accuracy: 0.9023704404499107\n",
      "Precision: 0.1723090936693487\n",
      "Recall: 0.3646000642467074\n",
      "Accuracy: 0.902475559760328\n",
      "Precision: 0.1726181431393405\n",
      "Recall: 0.3649212977834886\n",
      "Accuracy: 0.9012141280353201\n",
      "Precision: 0.1720029784065525\n",
      "Recall: 0.3710247349823322\n",
      "Accuracy: 0.9007805108798487\n",
      "Precision: 0.17174556213017753\n",
      "Recall: 0.3729521362030196\n",
      "Accuracy: 0.9004782928623988\n",
      "Precision: 0.17203352448169387\n",
      "Recall: 0.37584323803405073\n",
      "[[2, 0.9590560285924524, 0.4, 0.0019274012206874397], [3, 0.9590691685062546, 0.25, 0.00032123353678124], [4, 0.9589246294544308, 0.37735849056603776, 0.006424670735624799], [5, 0.9589509092820351, 0.39622641509433965, 0.006745904272406039], [6, 0.9582807736781247, 0.31547619047619047, 0.01702537744940572], [7, 0.9578865762640597, 0.2889908256880734, 0.020237712817218118], [8, 0.9525123515189741, 0.2268266085059978, 0.06681657565049791], [9, 0.9521050141911069, 0.22745901639344263, 0.07131384516543528], [10, 0.9472432460843057, 0.2174185463659148, 0.11146803726309026], [11, 0.9447729422894986, 0.2205128205128205, 0.13813042081593319], [12, 0.9243666561547357, 0.20122089079810085, 0.2858978477353036], [13, 0.9141700830442552, 0.1907001990229781, 0.3385801477674269], [14, 0.9082702617470829, 0.18148880105401843, 0.35399935753292644], [15, 0.9072322085567118, 0.18019769891427645, 0.35721169290073884], [16, 0.905734258383265, 0.1783621099318866, 0.3617089624156762], [17, 0.9023704404499107, 0.1723090936693487, 0.3646000642467074], [18, 0.902475559760328, 0.1726181431393405, 0.3649212977834886], [19, 0.9012141280353201, 0.1720029784065525, 0.3710247349823322], [20, 0.9007805108798487, 0.17174556213017753, 0.3729521362030196], [21, 0.9004782928623988, 0.17203352448169387, 0.37584323803405073]]\n"
     ]
    }
   ],
   "source": [
    "#Using Principle Component Analysis with specific N number of independent trainings\n",
    "#Setting up function to plot precision, recall, and accuracy, over different K values.\n",
    "#This involves creating a matrix to iterate over for the three results.\n",
    "pcaDF = []\n",
    "\n",
    "for i in range(20): #n_components must be between 0 and min(n_samples, n_features) = 30 with svd_solver='full'\n",
    "    n_components = i + 2 #at least one array or dtype is required\n",
    "    pca = PCA(n_components) #Iterating through all n values until reaching K.\n",
    "    #principalComponents = pca.fit_transform(X_train)\n",
    "    #-----------------------------------------------------------#\n",
    "    principalComponents_train = pca.fit_transform(X)\n",
    "    #------------------------------------------------------------#\n",
    "    principalDf = pd.DataFrame(data = principalComponents_train, columns = range(n_components))\n",
    "                 #, columns = ['principal component 1', 'principal component 2']) \n",
    "    finalDf = pd.concat([principalDf, stroke[['Stroke']]], axis = 1)\n",
    "    Y_principal = finalDf.iloc[:,[n_components]].values\n",
    "    X_principal = finalDf.iloc[:,0:(n_components - 1)] \n",
    "    \n",
    "    #Doing Training and Test Split to evaluate accuracy.\n",
    "    np.random.seed(0)\n",
    "    X_train, X_test, Y_train, Y_test = train_test_split(X_principal,Y_principal,train_size =0.7,test_size = 0.3,random_state = 1)\n",
    "    \n",
    "    #Using Logistic Regression for Classification\n",
    "    classifier_G = GaussianNB()\n",
    "    classifier_G.fit(X_train, np.ravel(Y_train)) #Changed the shape of y to (n_samples, ) \n",
    "    \n",
    "    Y_pred1 = classifier_G.predict(X_test)\n",
    "    Y_pred1[0:9]\n",
    "    \n",
    "    #Using Confusion matrix representing binary classifiers so we can get accuracy of our model.\n",
    "    cnf_matrix = confusion_matrix(Y_test,Y_pred1)\n",
    "    cnf_matrix\n",
    "    \n",
    "    #We are evaluating the model using model evaluation metrics for accuracy.\n",
    "    #Accuracy over loss is what needs to be plotted\n",
    "    from sklearn import metrics\n",
    "    Acc_score1 = metrics.accuracy_score(Y_test,Y_pred1)\n",
    "    print(\"Accuracy:\", Acc_score1)\n",
    "    Prec_score1 = metrics.precision_score(Y_test,Y_pred1)\n",
    "    print(\"Precision:\", Prec_score1)\n",
    "    Rec_score1 = metrics.recall_score(Y_test,Y_pred1)\n",
    "    print(\"Recall:\", Rec_score1)\n",
    "    \n",
    "    pcaDF.append([n_components,Acc_score1,Prec_score1,Rec_score1])\n",
    "print(pcaDF)\n",
    "    "
   ]
  },
  {
   "cell_type": "code",
   "execution_count": 44,
   "id": "c46bf506",
   "metadata": {},
   "outputs": [],
   "source": [
    "#Plotting classification accuracy, precision, and recall over different numbers of Ks"
   ]
  },
  {
   "cell_type": "code",
   "execution_count": 45,
   "id": "e2a684ab",
   "metadata": {},
   "outputs": [
    {
     "data": {
      "image/png": "[encoded data removed]",
      "text/plain": [
       "<Figure size 432x288 with 1 Axes>"
      ]
     },
     "metadata": {
      "needs_background": "light"
     },
     "output_type": "display_data"
    }
   ],
   "source": [
    "N_to_K = Parse(pcaDF,0)\n",
    "Acc_Vals = Parse(pcaDF,1)\n",
    "Prec_Vals = Parse(pcaDF,2)\n",
    "Recall_Vals = Parse(pcaDF,3)\n",
    "\n",
    "plt.plot(N_to_K, Acc_Vals, 'r', label = 'Accuracy',linewidth=3)\n",
    "plt.plot(N_to_K, Prec_Vals, 'g', label = 'Precision', linewidth=3)\n",
    "plt.plot(N_to_K, Recall_Vals,  'b', label = 'Recall', linewidth=3)\n",
    "\n",
    "plt.title(\"Results over different K values for PCA\")\n",
    "plt.xlabel(\"N Value\")\n",
    "plt.ylabel(\"Results from Accuracy, Precision, and Recall\")\n",
    "plt.legend(loc = 'lower right')\n",
    "plt.show()"
   ]
  },
  {
   "cell_type": "code",
   "execution_count": 46,
   "id": "5389c1f3",
   "metadata": {},
   "outputs": [],
   "source": [
    "#Part 3-a Using LDA feature extraction and Naive Bays Classifier for training"
   ]
  },
  {
   "cell_type": "code",
   "execution_count": 47,
   "id": "4da77a82",
   "metadata": {},
   "outputs": [
    {
     "data": {
      "text/plain": [
       "array([0., 0., 0., 0., 0., 0., 0., 0., 0., 0.])"
      ]
     },
     "execution_count": 47,
     "metadata": {},
     "output_type": "execute_result"
    }
   ],
   "source": [
    "#Our Data set will consider Independent variables (X1-X21) and Label as Dependent (Y). \n",
    "X=stroke.iloc[:,[0,1,2,3,4,5,7,8,9,10,11,12,13,14,15,16,17,18,19,20,21]].values\n",
    "Y=stroke.iloc[:,6].values #Stroke outcomes\n",
    "#see here: https://pandas.pydata.org/pandas-docs/stable/reference/api/pandas.DataFrame.\n",
    "Y[0:10]"
   ]
  },
  {
   "cell_type": "code",
   "execution_count": 48,
   "id": "c3906d50",
   "metadata": {},
   "outputs": [
    {
     "data": {
      "text/plain": [
       "array([[0.        , 1.        , 1.        , 1.        , 0.3255814 ,\n",
       "        1.        , 0.        , 0.        , 0.        , 1.        ,\n",
       "        0.        , 1.        , 0.        , 1.        , 0.6       ,\n",
       "        0.5       , 1.        , 0.        , 0.66666667, 0.6       ,\n",
       "        0.28571429],\n",
       "       [0.        , 0.        , 0.        , 0.        , 0.15116279,\n",
       "        1.        , 0.        , 1.        , 0.        , 0.        ,\n",
       "        0.        , 0.        , 1.        , 0.5       , 0.        ,\n",
       "        0.        , 0.        , 0.        , 0.5       , 1.        ,\n",
       "        0.        ]])"
      ]
     },
     "execution_count": 48,
     "metadata": {},
     "output_type": "execute_result"
    }
   ],
   "source": [
    "#Now we’ll do feature scaling to scale our data between -1 and 1 using standardization.\n",
    "#Here Scaling is important because there is a significant difference between explanatory variables. \n",
    "#scalar_X = StandardScaler()\n",
    "scalar_X = MinMaxScaler()\n",
    "X = scalar_X.fit_transform(X) #New X_train is scaled\n",
    "X[0:2]"
   ]
  },
  {
   "cell_type": "code",
   "execution_count": 49,
   "id": "2d280888",
   "metadata": {},
   "outputs": [],
   "source": [
    "#Fitting LDA to diabetes dataset: \n",
    "#Our dataset only has 2 classes. Therefore value of N can only be N-1, 1 for this instance:\n",
    "lda = LinearDiscriminantAnalysis(n_components = 1) #n_components cannot be larger than min(n_features, n_classes - 1).\n",
    "\n",
    "#lda_t = lda.fit_transform(X_train,Y_train) \n",
    "lda_train = lda.fit_transform(X,Y)\n",
    "#lda_test = lda.transform(X_test,Y_test)\n",
    "#Number of components (<= min(n_classes - 1, n_features)) for dimensionality reduction."
   ]
  },
  {
   "cell_type": "code",
   "execution_count": 50,
   "id": "e2b5c9a8",
   "metadata": {},
   "outputs": [],
   "source": [
    "#Doing training and test split\n",
    "\n",
    "np.random.seed(0)\n",
    "X_train, X_test, Y_train, Y_test = train_test_split(lda_train,Y,train_size =0.7, test_size = 0.3, random_state = 1)"
   ]
  },
  {
   "cell_type": "code",
   "execution_count": 51,
   "id": "f28b0750",
   "metadata": {},
   "outputs": [
    {
     "data": {
      "text/plain": [
       "GaussianNB()"
      ]
     },
     "execution_count": 51,
     "metadata": {},
     "output_type": "execute_result"
    }
   ],
   "source": [
    "#Using Naive Gaussian Bays for classification\n",
    "classifier_G = GaussianNB()\n",
    "classifier_G.fit(X_train,Y_train)"
   ]
  },
  {
   "cell_type": "code",
   "execution_count": 52,
   "id": "4862d522",
   "metadata": {},
   "outputs": [
    {
     "data": {
      "text/plain": [
       "array([0., 0., 0., ..., 0., 0., 0.])"
      ]
     },
     "execution_count": 52,
     "metadata": {},
     "output_type": "execute_result"
    }
   ],
   "source": [
    "Y_pred = classifier_G.predict(X_test)\n",
    "Y_pred"
   ]
  },
  {
   "cell_type": "code",
   "execution_count": 53,
   "id": "88905699",
   "metadata": {},
   "outputs": [
    {
     "data": {
      "text/plain": [
       "array([[71124,  1867],\n",
       "       [ 2436,   677]], dtype=int64)"
      ]
     },
     "execution_count": 53,
     "metadata": {},
     "output_type": "execute_result"
    }
   ],
   "source": [
    "conf_matrix = confusion_matrix(Y_test,Y_pred)\n",
    "conf_matrix"
   ]
  },
  {
   "cell_type": "code",
   "execution_count": 54,
   "id": "277a38ab",
   "metadata": {},
   "outputs": [
    {
     "name": "stdout",
     "output_type": "stream",
     "text": [
      "Accuracy: 0.943458950909282\n",
      "Precision: 0.26611635220125784\n",
      "Recall: 0.21747510440089945\n"
     ]
    }
   ],
   "source": [
    "#We are evaluating the model using model evaluation metrics for accuracy, precision, and recall.\n",
    "print(\"Accuracy:\",metrics.accuracy_score(Y_test,Y_pred))\n",
    "print(\"Precision:\",metrics.precision_score(Y_test,Y_pred))\n",
    "print(\"Recall:\",metrics.recall_score(Y_test,Y_pred))"
   ]
  },
  {
   "cell_type": "code",
   "execution_count": 55,
   "id": "c11f2d8c",
   "metadata": {},
   "outputs": [
    {
     "data": {
      "text/plain": [
       "Text(0.5, 257.44, 'Predicted label')"
      ]
     },
     "execution_count": 55,
     "metadata": {},
     "output_type": "execute_result"
    },
    {
     "data": {
      "image/png": "[encoded data removed]",
      "text/plain": [
       "<Figure size 432x288 with 2 Axes>"
      ]
     },
     "metadata": {
      "needs_background": "light"
     },
     "output_type": "display_data"
    }
   ],
   "source": [
    "#Plotting the confustion Matrix\n",
    "class_names = [0,1] # name of classes\n",
    "fig, ax = plt.subplots()\n",
    "tick_marks = np.arange(len(class_names))\n",
    "plt.xticks(tick_marks,class_names)\n",
    "plt.yticks(tick_marks,class_names)# create heatmap\n",
    "sns.heatmap(pd.DataFrame(cnf_matrix), annot = True, cmap = \"YlGnBu\", fmt = 'g')\n",
    "ax.xaxis.set_label_position(\"top\")\n",
    "plt.tight_layout()\n",
    "plt.title('Confusion matrix',y = 1.1)\n",
    "plt.ylabel('Actual label')\n",
    "plt.xlabel('Predicted label')"
   ]
  },
  {
   "cell_type": "code",
   "execution_count": 56,
   "id": "eeef4e36",
   "metadata": {},
   "outputs": [],
   "source": [
    "#Cannot plot classification accuracy, precision, and recall over different numbers of N given N can only equal 1."
   ]
  },
  {
   "cell_type": "code",
   "execution_count": 57,
   "id": "9de64845",
   "metadata": {},
   "outputs": [],
   "source": [
    "#Part 3-b Using LDA feature extraction and Logistic Regression for training"
   ]
  },
  {
   "cell_type": "code",
   "execution_count": 58,
   "id": "a4107b60",
   "metadata": {},
   "outputs": [],
   "source": [
    "#Our Data set will consider Independent variables (X1-X21) and Label as Dependent (Y). \n",
    "X=stroke.iloc[:,[0,1,2,3,4,5,7,8,9,10,11,12,13,14,15,16,17,18,19,20,21]].values\n",
    "Y=stroke.iloc[:,6].values #Stroke outcomes\n",
    "#see here: https://pandas.pydata.org/pandas-docs/stable/reference/api/pandas.DataFrame."
   ]
  },
  {
   "cell_type": "code",
   "execution_count": 59,
   "id": "ab1f1d3c",
   "metadata": {},
   "outputs": [
    {
     "data": {
      "text/plain": [
       "array([[0.        , 1.        , 1.        , 1.        , 0.3255814 ,\n",
       "        1.        , 0.        , 0.        , 0.        , 1.        ,\n",
       "        0.        , 1.        , 0.        , 1.        , 0.6       ,\n",
       "        0.5       , 1.        , 0.        , 0.66666667, 0.6       ,\n",
       "        0.28571429],\n",
       "       [0.        , 0.        , 0.        , 0.        , 0.15116279,\n",
       "        1.        , 0.        , 1.        , 0.        , 0.        ,\n",
       "        0.        , 0.        , 1.        , 0.5       , 0.        ,\n",
       "        0.        , 0.        , 0.        , 0.5       , 1.        ,\n",
       "        0.        ]])"
      ]
     },
     "execution_count": 59,
     "metadata": {},
     "output_type": "execute_result"
    }
   ],
   "source": [
    "#Now we’ll do feature scaling to scale our data between -1 and 1 using standardization.\n",
    "#Here Scaling is important because there is a significant difference between explanatory variables. \n",
    "#scalar_X = StandardScaler()\n",
    "scalar_X = MinMaxScaler()\n",
    "X = scalar_X.fit_transform(X) #New X_train is scaled\n",
    "X[0:2]"
   ]
  },
  {
   "cell_type": "code",
   "execution_count": 60,
   "id": "c4baec86",
   "metadata": {},
   "outputs": [],
   "source": [
    "#Fitting LDA to breast diabetes dataset: \n",
    "lda = LinearDiscriminantAnalysis(n_components = 1) \n",
    "#lda_t = lda.fit_transform(X_train,Y_train)\n",
    "lda_train = lda.fit_transform(X,Y)\n",
    "#lda_test = lda.transform(X_test,Y_test)\n",
    "#Number of components (<= min(n_classes - 1, n_features)) for dimensionality reduction."
   ]
  },
  {
   "cell_type": "code",
   "execution_count": 61,
   "id": "f3760a55",
   "metadata": {},
   "outputs": [],
   "source": [
    "#Doing Training and Test Split to evaluate accuracy.\n",
    "np.random.seed(0)\n",
    "X_train, X_test, Y_train, Y_test = train_test_split(lda_train,Y,train_size =0.7, test_size = 0.3, random_state = 1)"
   ]
  },
  {
   "cell_type": "code",
   "execution_count": 62,
   "id": "f540ce43",
   "metadata": {},
   "outputs": [],
   "source": [
    "#plt.xlabel('LD1') \n",
    "#plt.ylabel('LD2') \n",
    "#plt.scatter(lda_t[:,0],lda_t[:,1],c=y,cmap='rainbow',edgecolors='r')"
   ]
  },
  {
   "cell_type": "code",
   "execution_count": 63,
   "id": "da44e61b",
   "metadata": {},
   "outputs": [
    {
     "data": {
      "text/plain": [
       "LogisticRegression(random_state=0)"
      ]
     },
     "execution_count": 63,
     "metadata": {},
     "output_type": "execute_result"
    }
   ],
   "source": [
    "#Using Naive Logistic Regression for classification\n",
    "classifier_L = LogisticRegression(random_state=0)\n",
    "classifier_L.fit(X_train,Y_train)"
   ]
  },
  {
   "cell_type": "code",
   "execution_count": 64,
   "id": "59047814",
   "metadata": {},
   "outputs": [],
   "source": [
    "Y2_pred = classifier_L.predict(X_test)"
   ]
  },
  {
   "cell_type": "code",
   "execution_count": 65,
   "id": "c812e2e1",
   "metadata": {},
   "outputs": [
    {
     "data": {
      "text/plain": [
       "array([0., 0., 0., 0., 0., 0., 0., 0., 0.])"
      ]
     },
     "execution_count": 65,
     "metadata": {},
     "output_type": "execute_result"
    }
   ],
   "source": [
    "Y2_pred[0:9]"
   ]
  },
  {
   "cell_type": "code",
   "execution_count": 66,
   "id": "0d58dae8",
   "metadata": {},
   "outputs": [
    {
     "data": {
      "text/plain": [
       "array([[72989,     2],\n",
       "       [ 3110,     3]], dtype=int64)"
      ]
     },
     "execution_count": 66,
     "metadata": {},
     "output_type": "execute_result"
    }
   ],
   "source": [
    "#Using Confusion matrix representing binary classifiers so we can get accuracy of our model.\n",
    "cnf_matrix = confusion_matrix(Y_test,Y2_pred)\n",
    "cnf_matrix"
   ]
  },
  {
   "cell_type": "code",
   "execution_count": 67,
   "id": "b97a53fe",
   "metadata": {},
   "outputs": [
    {
     "name": "stdout",
     "output_type": "stream",
     "text": [
      "Accuracy: 0.9591085882476611\n",
      "Precision: 0.6\n",
      "Recall: 0.0009637006103437199\n"
     ]
    }
   ],
   "source": [
    "#We are evaluating the model using model evaluation metrics for accuracy, precision, and recall.\n",
    "print(\"Accuracy:\",metrics.accuracy_score(Y_test,Y2_pred))\n",
    "print(\"Precision:\",metrics.precision_score(Y_test,Y2_pred))\n",
    "print(\"Recall:\",metrics.recall_score(Y_test,Y2_pred))"
   ]
  },
  {
   "cell_type": "code",
   "execution_count": 68,
   "id": "cb5859d0",
   "metadata": {},
   "outputs": [
    {
     "data": {
      "text/plain": [
       "Text(0.5, 257.44, 'Predicted label')"
      ]
     },
     "execution_count": 68,
     "metadata": {},
     "output_type": "execute_result"
    },
    {
     "data": {
      "image/png": "[encoded data removed]",
      "text/plain": [
       "<Figure size 432x288 with 2 Axes>"
      ]
     },
     "metadata": {
      "needs_background": "light"
     },
     "output_type": "display_data"
    }
   ],
   "source": [
    "#Plotting the confustion Matrix\n",
    "class_names = [0,1] # name of classes\n",
    "fig, ax = plt.subplots()\n",
    "tick_marks = np.arange(len(class_names))\n",
    "plt.xticks(tick_marks,class_names)\n",
    "plt.yticks(tick_marks,class_names)# create heatmap\n",
    "sns.heatmap(pd.DataFrame(cnf_matrix), annot = True, cmap = \"YlGnBu\", fmt = 'g')\n",
    "ax.xaxis.set_label_position(\"top\")\n",
    "plt.tight_layout()\n",
    "plt.title('Confusion matrix',y = 1.1)\n",
    "plt.ylabel('Actual label')\n",
    "plt.xlabel('Predicted label')"
   ]
  },
  {
   "cell_type": "code",
   "execution_count": 69,
   "id": "b5b219fb",
   "metadata": {},
   "outputs": [],
   "source": [
    "#Introducting Kernalization and the Perceptron model to better train the model."
   ]
  },
  {
   "cell_type": "code",
   "execution_count": 70,
   "id": "199d8932",
   "metadata": {},
   "outputs": [],
   "source": [
    "#Part 4 Running Perceptron model"
   ]
  },
  {
   "cell_type": "code",
   "execution_count": 71,
   "id": "c037a211",
   "metadata": {},
   "outputs": [],
   "source": [
    "from sklearn.datasets import load_digits \n",
    "from sklearn.linear_model import Perceptron \n",
    "from sklearn.model_selection import cross_val_score "
   ]
  },
  {
   "cell_type": "code",
   "execution_count": 72,
   "id": "80129bfe",
   "metadata": {},
   "outputs": [],
   "source": [
    "#Our Data set will consider Independent variables (X1-X21) and Label as Dependent (Y). \n",
    "X=stroke.iloc[:,[0,1,2,3,4,5,7,8,9,10,11,12,13,14,15,16,17,18,19,20,21]].values\n",
    "Y=stroke.iloc[:,6].values #Stroke outcomes\n",
    "#see here: https://pandas.pydata.org/pandas-docs/stable/reference/api/pandas.DataFrame."
   ]
  },
  {
   "cell_type": "code",
   "execution_count": 73,
   "id": "3afe32fc",
   "metadata": {},
   "outputs": [],
   "source": [
    "#Now we’ll do feature scaling to scale our data between -1 and 1 using standardization.\n",
    "#Here Scaling is important because there is a significant difference between explanatory variables. \n",
    "scalar_X = StandardScaler()\n",
    "#scalar_X = MinMaxScaler()\n",
    "X = scalar_X.fit_transform(X) #New X_train is scaled"
   ]
  },
  {
   "cell_type": "code",
   "execution_count": 74,
   "id": "4d8da284",
   "metadata": {},
   "outputs": [],
   "source": [
    "#Doing Training and Test Split to evaluate accuracy.\n",
    "np.random.seed(0)\n",
    "X_train, X_test, Y_train, Y_test = train_test_split(lda_train,Y,train_size =0.7, test_size = 0.3, random_state = 1)"
   ]
  },
  {
   "cell_type": "code",
   "execution_count": 75,
   "id": "1bc899a0",
   "metadata": {},
   "outputs": [
    {
     "name": "stdout",
     "output_type": "stream",
     "text": [
      "Accuracy: 0.8540 (+/- 0.2513)\n",
      "Accuracy: 0.8604 (+/- 0.2552)\n",
      "Accuracy: 0.9304 (+/- 0.0544)\n",
      "Accuracy: 0.9304 (+/- 0.0544)\n",
      "Accuracy: 0.9304 (+/- 0.0544)\n",
      "Accuracy: 0.9304 (+/- 0.0544)\n",
      "Accuracy: 0.9444 (+/- 0.0392)\n",
      "Accuracy: 0.9444 (+/- 0.0392)\n",
      "Accuracy: 0.9444 (+/- 0.0392)\n",
      "Accuracy: 0.9539 (+/- 0.0225)\n",
      "Accuracy: 0.9539 (+/- 0.0225)\n",
      "Accuracy: 0.9539 (+/- 0.0225)\n",
      "Accuracy: 0.9539 (+/- 0.0225)\n",
      "Accuracy: 0.9539 (+/- 0.0225)\n",
      "Accuracy: 0.9539 (+/- 0.0225)\n",
      "Accuracy: 0.9539 (+/- 0.0225)\n",
      "Accuracy: 0.9539 (+/- 0.0225)\n",
      "Accuracy: 0.9539 (+/- 0.0225)\n",
      "Accuracy: 0.9539 (+/- 0.0225)\n",
      "Accuracy: 0.9539 (+/- 0.0225)\n",
      "Accuracy: 0.9539 (+/- 0.0225)\n",
      "Accuracy: 0.9539 (+/- 0.0225)\n",
      "Accuracy: 0.9539 (+/- 0.0225)\n",
      "Accuracy: 0.9539 (+/- 0.0225)\n",
      "Accuracy: 0.9539 (+/- 0.0225)\n",
      "Accuracy: 0.9539 (+/- 0.0225)\n",
      "Accuracy: 0.9539 (+/- 0.0225)\n",
      "Accuracy: 0.9539 (+/- 0.0225)\n",
      "Accuracy: 0.9539 (+/- 0.0225)\n",
      "Accuracy: 0.9539 (+/- 0.0225)\n",
      "Accuracy: 0.9539 (+/- 0.0225)\n",
      "Accuracy: 0.9537 (+/- 0.0223)\n",
      "Accuracy: 0.9537 (+/- 0.0223)\n",
      "Accuracy: 0.9537 (+/- 0.0223)\n",
      "Accuracy: 0.9537 (+/- 0.0223)\n",
      "Accuracy: 0.9537 (+/- 0.0223)\n",
      "Accuracy: 0.9537 (+/- 0.0223)\n",
      "Accuracy: 0.9537 (+/- 0.0223)\n",
      "Accuracy: 0.9537 (+/- 0.0223)\n",
      "Accuracy: 0.9537 (+/- 0.0223)\n",
      "Accuracy: 0.9537 (+/- 0.0223)\n",
      "Accuracy: 0.9537 (+/- 0.0223)\n",
      "Accuracy: 0.9537 (+/- 0.0223)\n",
      "Accuracy: 0.9537 (+/- 0.0223)\n",
      "Accuracy: 0.9537 (+/- 0.0223)\n",
      "Accuracy: 0.9537 (+/- 0.0223)\n",
      "Accuracy: 0.9537 (+/- 0.0223)\n",
      "Accuracy: 0.9537 (+/- 0.0223)\n",
      "Accuracy: 0.9289 (+/- 0.0960)\n",
      "Accuracy: 0.9289 (+/- 0.0960)\n",
      "Accuracy: 0.9289 (+/- 0.0960)\n",
      "Accuracy: 0.9289 (+/- 0.0960)\n",
      "Accuracy: 0.9289 (+/- 0.0960)\n",
      "Accuracy: 0.9289 (+/- 0.0960)\n",
      "Accuracy: 0.9289 (+/- 0.0960)\n",
      "Accuracy: 0.9289 (+/- 0.0960)\n",
      "Accuracy: 0.9289 (+/- 0.0960)\n",
      "Accuracy: 0.9289 (+/- 0.0960)\n",
      "Accuracy: 0.9289 (+/- 0.0960)\n",
      "Accuracy: 0.9289 (+/- 0.0960)\n",
      "[[0.1, 0.8539850241812994], [0.2, 0.8603935839447796], [0.3, 0.9304408865689491], [0.4, 0.9304408865689491], [0.5, 0.9304408865689491], [0.6, 0.9304408865689491], [0.7, 0.9443842907643594], [0.8, 0.9443842907643594], [0.9, 0.9443842907643594], [1.0, 0.9539464475994995], [1.1, 0.9539464475994995], [1.2, 0.9539464475994995], [1.3, 0.9539464475994995], [1.4, 0.9539464475994995], [1.5, 0.9539464475994995], [1.6, 0.9539464475994995], [1.7, 0.9539464475994995], [1.8, 0.9539464475994995], [1.9, 0.9539464475994995], [2.0, 0.9539464475994995], [2.1, 0.9539464475994995], [2.2, 0.9539464475994995], [2.3, 0.9539464475994995], [2.4, 0.9539464475994995], [2.5, 0.9539464475994995], [2.6, 0.9539464475994995], [2.7, 0.9539464475994995], [2.8, 0.9539464475994995], [2.9, 0.9539464475994995], [3.0, 0.9539464475994995], [3.1, 0.9539464475994995], [3.2, 0.9537268282729988], [3.3, 0.9537268282729988], [3.4, 0.9537268282729988], [3.5, 0.9537268282729988], [3.6, 0.9537268282729988], [3.7, 0.9537268282729988], [3.8, 0.9537268282729988], [3.9, 0.9537268282729988], [4.0, 0.9537268282729988], [4.1, 0.9537268282729988], [4.2, 0.9537268282729988], [4.3, 0.9537268282729988], [4.4, 0.9537268282729988], [4.5, 0.9537268282729988], [4.6, 0.9537268282729988], [4.7, 0.9537268282729988], [4.8, 0.9537268282729988], [4.9, 0.9288640942169663], [5.0, 0.9288640942169663], [5.1, 0.9288640942169663], [5.2, 0.9288640942169663], [5.3, 0.9288640942169663], [5.4, 0.9288640942169663], [5.5, 0.9288640942169663], [5.6, 0.9288640942169663], [5.7, 0.9288640942169663], [5.8, 0.9288640942169663], [5.9, 0.9288640942169663], [6.0, 0.9288640942169663]]\n"
     ]
    }
   ],
   "source": [
    "eta0_max = 60\n",
    "percep_DF = []\n",
    "for i in range (eta0_max): #last eta0 is 5.0 \n",
    "    i = (i+1)/10\n",
    "    #Graphing at different constants for weights\n",
    "    classifier = Perceptron(max_iter=100, eta0=i, random_state=0) \n",
    "    #eta0: Constant by which the updates are multiplied.#eta0double, default=1\n",
    "    #eta0: These are the weights\n",
    "    #Training the model using classifier \n",
    "    classifier.fit(X_train, Y_train) \n",
    "    #Getting cross validation score to predict the model accuracy \n",
    "    scores = cross_val_score(classifier, X_train, Y_train, cv=5) \n",
    "    print(\"Accuracy: %0.4f (+/- %0.4f)\" % (scores.mean(), scores.std() * 2)) \n",
    "    percep_DF.append([i,scores.mean()])\n",
    "print(percep_DF)"
   ]
  },
  {
   "cell_type": "code",
   "execution_count": 76,
   "id": "530f6162",
   "metadata": {},
   "outputs": [
    {
     "data": {
      "image/png": "[encoded data removed]",
      "text/plain": [
       "<Figure size 432x288 with 1 Axes>"
      ]
     },
     "metadata": {
      "needs_background": "light"
     },
     "output_type": "display_data"
    }
   ],
   "source": [
    "Weight_Vals = Parse(percep_DF,0)\n",
    "Acc_Vals = Parse(percep_DF,1)\n",
    "\n",
    "plt.plot(Weight_Vals, Acc_Vals, 'r', label = 'Accuracy',linewidth=3)\n",
    "plt.title(\"Results over different Weights values for eta0\")\n",
    "plt.xlabel(\"Weight Values\")\n",
    "plt.ylabel(\"Results from Accuracy\")\n",
    "plt.legend(loc = 'lower right')\n",
    "plt.show()"
   ]
  },
  {
   "cell_type": "code",
   "execution_count": null,
   "id": "2e5f21b6",
   "metadata": {},
   "outputs": [],
   "source": []
  }
 ],
 "metadata": {
  "kernelspec": {
   "display_name": "Python 3",
   "language": "python",
   "name": "python3"
  },
  "language_info": {
   "codemirror_mode": {
    "name": "ipython",
    "version": 3
   },
   "file_extension": ".py",
   "mimetype": "text/x-python",
   "name": "python",
   "nbconvert_exporter": "python",
   "pygments_lexer": "ipython3",
   "version": "3.8.8"
  }
 },
 "nbformat": 4,
 "nbformat_minor": 5
}
