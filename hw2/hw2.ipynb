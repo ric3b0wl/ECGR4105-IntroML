{
 "cells": [
  {
   "cell_type": "markdown",
   "id": "73287530-1a9f-42d9-8cb5-5e27d9bfc482",
   "metadata": {},
   "source": [
    "In this homework, we will use the Diabetes dataset. (Note: You can use the built-in function from ML libraries for gradient descent, training, and validation.)"
   ]
  },
  {
   "cell_type": "markdown",
   "id": "272e901f-7746-4589-b645-fa7c9b2f5322",
   "metadata": {},
   "source": [
    "# Problem 1 (30 points)\n",
    "Using the diabetes dataset, build a logistic regression binary classifier for positive diabetes. Please use 80% and 20% split between training and evaluation (test). Make sure to perform proper scaling and standardization before your training. Report your results, including accuracy, precision, and recall. Also, plot the confusion matrix representing your binary classifier. "
   ]
  },
  {
   "cell_type": "code",
   "execution_count": null,
   "id": "d4f25306-7777-46cd-933a-e8dcd3ad7441",
   "metadata": {},
   "outputs": [],
   "source": []
  },
  {
   "cell_type": "markdown",
   "id": "346f41a9-f3de-4a5f-83a6-de4c3a3212c8",
   "metadata": {},
   "source": [
    "# Problem 2 (30 points)\n",
    "Using the diabetes dataset, build a Naïve Bays binary classifier for positive diabetes. Please use 80% and 20% split between training and evaluation (test). Make sure to perform proper scaling and standardization before your training. Report your results, including accuracy, precision, and recall. Also, plot the confusion matrix representing your binary classifier. Compare and analyze your results against problem 1."
   ]
  },
  {
   "cell_type": "code",
   "execution_count": null,
   "id": "6f5691c0-8671-4d6f-bbfd-c9e799e7344d",
   "metadata": {},
   "outputs": [],
   "source": []
  },
  {
   "cell_type": "markdown",
   "id": "a9f5c911-5e01-441b-a6e9-33e18ba29936",
   "metadata": {},
   "source": [
    "# Problem 3 (30 points)\n",
    "Repeat problem 1, and this time use K-fold cross-validation for your training and validation. Perform the training two times for K=5 and K=10. Analyze and compare your results against problem 1. "
   ]
  },
  {
   "cell_type": "code",
   "execution_count": null,
   "id": "a648e4b6-01d3-4e8b-a7b6-6b06a61e2688",
   "metadata": {},
   "outputs": [],
   "source": []
  },
  {
   "cell_type": "markdown",
   "id": "86c88c33-71e7-4508-b0e9-c842c3776596",
   "metadata": {},
   "source": [
    "# Problem 4 (10 points)\n",
    "Repeat problem 2, and this time use K-fold cross-validation for your training and validation. Does this make sense? Elaborate on your answer."
   ]
  },
  {
   "cell_type": "code",
   "execution_count": null,
   "id": "81df4bc2-4557-4c40-a8af-1877eb775b23",
   "metadata": {},
   "outputs": [],
   "source": []
  }
 ],
 "metadata": {
  "kernelspec": {
   "display_name": "Python 3 (ipykernel)",
   "language": "python",
   "name": "python3"
  },
  "language_info": {
   "codemirror_mode": {
    "name": "ipython",
    "version": 3
   },
   "file_extension": ".py",
   "mimetype": "text/x-python",
   "name": "python",
   "nbconvert_exporter": "python",
   "pygments_lexer": "ipython3",
   "version": "3.8.8"
  }
 },
 "nbformat": 4,
 "nbformat_minor": 5
}
